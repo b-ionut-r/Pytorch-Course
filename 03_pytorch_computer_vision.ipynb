{
  "nbformat": 4,
  "nbformat_minor": 0,
  "metadata": {
    "colab": {
      "provenance": [],
      "authorship_tag": "ABX9TyOBobEyjR0cmQiMkskadJRW",
      "include_colab_link": true
    },
    "kernelspec": {
      "name": "python3",
      "display_name": "Python 3"
    },
    "language_info": {
      "name": "python"
    },
    "widgets": {
      "application/vnd.jupyter.widget-state+json": {
        "f586dc4579894642b55ad407b0f8027a": {
          "model_module": "@jupyter-widgets/controls",
          "model_name": "HBoxModel",
          "model_module_version": "1.5.0",
          "state": {
            "_dom_classes": [],
            "_model_module": "@jupyter-widgets/controls",
            "_model_module_version": "1.5.0",
            "_model_name": "HBoxModel",
            "_view_count": null,
            "_view_module": "@jupyter-widgets/controls",
            "_view_module_version": "1.5.0",
            "_view_name": "HBoxView",
            "box_style": "",
            "children": [
              "IPY_MODEL_8b174c7ae5bf46e08a3fea6086507b66",
              "IPY_MODEL_f744911ea63c4f02ba220d0b137c04b0",
              "IPY_MODEL_247a54b918384721a7758494155f42b9"
            ],
            "layout": "IPY_MODEL_086ccfb34b0d4eebb11489dc210dea1b"
          }
        },
        "8b174c7ae5bf46e08a3fea6086507b66": {
          "model_module": "@jupyter-widgets/controls",
          "model_name": "HTMLModel",
          "model_module_version": "1.5.0",
          "state": {
            "_dom_classes": [],
            "_model_module": "@jupyter-widgets/controls",
            "_model_module_version": "1.5.0",
            "_model_name": "HTMLModel",
            "_view_count": null,
            "_view_module": "@jupyter-widgets/controls",
            "_view_module_version": "1.5.0",
            "_view_name": "HTMLView",
            "description": "",
            "description_tooltip": null,
            "layout": "IPY_MODEL_46d68b3247224d6886b8cc5afbf6831e",
            "placeholder": "​",
            "style": "IPY_MODEL_4ace819da3ca40e2b8acbe8b419d307f",
            "value": "100%"
          }
        },
        "f744911ea63c4f02ba220d0b137c04b0": {
          "model_module": "@jupyter-widgets/controls",
          "model_name": "FloatProgressModel",
          "model_module_version": "1.5.0",
          "state": {
            "_dom_classes": [],
            "_model_module": "@jupyter-widgets/controls",
            "_model_module_version": "1.5.0",
            "_model_name": "FloatProgressModel",
            "_view_count": null,
            "_view_module": "@jupyter-widgets/controls",
            "_view_module_version": "1.5.0",
            "_view_name": "ProgressView",
            "bar_style": "success",
            "description": "",
            "description_tooltip": null,
            "layout": "IPY_MODEL_c1dbbfc5f5b7425686a66a886642a657",
            "max": 3,
            "min": 0,
            "orientation": "horizontal",
            "style": "IPY_MODEL_a2e04e92c96240b88896157f14bfb15a",
            "value": 3
          }
        },
        "247a54b918384721a7758494155f42b9": {
          "model_module": "@jupyter-widgets/controls",
          "model_name": "HTMLModel",
          "model_module_version": "1.5.0",
          "state": {
            "_dom_classes": [],
            "_model_module": "@jupyter-widgets/controls",
            "_model_module_version": "1.5.0",
            "_model_name": "HTMLModel",
            "_view_count": null,
            "_view_module": "@jupyter-widgets/controls",
            "_view_module_version": "1.5.0",
            "_view_name": "HTMLView",
            "description": "",
            "description_tooltip": null,
            "layout": "IPY_MODEL_800d2131f8ef4a0d87db5f8aa9ce8186",
            "placeholder": "​",
            "style": "IPY_MODEL_761f78ac94574b3eb2c1dfcf5b4f131d",
            "value": " 3/3 [00:24&lt;00:00,  8.23s/it]"
          }
        },
        "086ccfb34b0d4eebb11489dc210dea1b": {
          "model_module": "@jupyter-widgets/base",
          "model_name": "LayoutModel",
          "model_module_version": "1.2.0",
          "state": {
            "_model_module": "@jupyter-widgets/base",
            "_model_module_version": "1.2.0",
            "_model_name": "LayoutModel",
            "_view_count": null,
            "_view_module": "@jupyter-widgets/base",
            "_view_module_version": "1.2.0",
            "_view_name": "LayoutView",
            "align_content": null,
            "align_items": null,
            "align_self": null,
            "border": null,
            "bottom": null,
            "display": null,
            "flex": null,
            "flex_flow": null,
            "grid_area": null,
            "grid_auto_columns": null,
            "grid_auto_flow": null,
            "grid_auto_rows": null,
            "grid_column": null,
            "grid_gap": null,
            "grid_row": null,
            "grid_template_areas": null,
            "grid_template_columns": null,
            "grid_template_rows": null,
            "height": null,
            "justify_content": null,
            "justify_items": null,
            "left": null,
            "margin": null,
            "max_height": null,
            "max_width": null,
            "min_height": null,
            "min_width": null,
            "object_fit": null,
            "object_position": null,
            "order": null,
            "overflow": null,
            "overflow_x": null,
            "overflow_y": null,
            "padding": null,
            "right": null,
            "top": null,
            "visibility": null,
            "width": null
          }
        },
        "46d68b3247224d6886b8cc5afbf6831e": {
          "model_module": "@jupyter-widgets/base",
          "model_name": "LayoutModel",
          "model_module_version": "1.2.0",
          "state": {
            "_model_module": "@jupyter-widgets/base",
            "_model_module_version": "1.2.0",
            "_model_name": "LayoutModel",
            "_view_count": null,
            "_view_module": "@jupyter-widgets/base",
            "_view_module_version": "1.2.0",
            "_view_name": "LayoutView",
            "align_content": null,
            "align_items": null,
            "align_self": null,
            "border": null,
            "bottom": null,
            "display": null,
            "flex": null,
            "flex_flow": null,
            "grid_area": null,
            "grid_auto_columns": null,
            "grid_auto_flow": null,
            "grid_auto_rows": null,
            "grid_column": null,
            "grid_gap": null,
            "grid_row": null,
            "grid_template_areas": null,
            "grid_template_columns": null,
            "grid_template_rows": null,
            "height": null,
            "justify_content": null,
            "justify_items": null,
            "left": null,
            "margin": null,
            "max_height": null,
            "max_width": null,
            "min_height": null,
            "min_width": null,
            "object_fit": null,
            "object_position": null,
            "order": null,
            "overflow": null,
            "overflow_x": null,
            "overflow_y": null,
            "padding": null,
            "right": null,
            "top": null,
            "visibility": null,
            "width": null
          }
        },
        "4ace819da3ca40e2b8acbe8b419d307f": {
          "model_module": "@jupyter-widgets/controls",
          "model_name": "DescriptionStyleModel",
          "model_module_version": "1.5.0",
          "state": {
            "_model_module": "@jupyter-widgets/controls",
            "_model_module_version": "1.5.0",
            "_model_name": "DescriptionStyleModel",
            "_view_count": null,
            "_view_module": "@jupyter-widgets/base",
            "_view_module_version": "1.2.0",
            "_view_name": "StyleView",
            "description_width": ""
          }
        },
        "c1dbbfc5f5b7425686a66a886642a657": {
          "model_module": "@jupyter-widgets/base",
          "model_name": "LayoutModel",
          "model_module_version": "1.2.0",
          "state": {
            "_model_module": "@jupyter-widgets/base",
            "_model_module_version": "1.2.0",
            "_model_name": "LayoutModel",
            "_view_count": null,
            "_view_module": "@jupyter-widgets/base",
            "_view_module_version": "1.2.0",
            "_view_name": "LayoutView",
            "align_content": null,
            "align_items": null,
            "align_self": null,
            "border": null,
            "bottom": null,
            "display": null,
            "flex": null,
            "flex_flow": null,
            "grid_area": null,
            "grid_auto_columns": null,
            "grid_auto_flow": null,
            "grid_auto_rows": null,
            "grid_column": null,
            "grid_gap": null,
            "grid_row": null,
            "grid_template_areas": null,
            "grid_template_columns": null,
            "grid_template_rows": null,
            "height": null,
            "justify_content": null,
            "justify_items": null,
            "left": null,
            "margin": null,
            "max_height": null,
            "max_width": null,
            "min_height": null,
            "min_width": null,
            "object_fit": null,
            "object_position": null,
            "order": null,
            "overflow": null,
            "overflow_x": null,
            "overflow_y": null,
            "padding": null,
            "right": null,
            "top": null,
            "visibility": null,
            "width": null
          }
        },
        "a2e04e92c96240b88896157f14bfb15a": {
          "model_module": "@jupyter-widgets/controls",
          "model_name": "ProgressStyleModel",
          "model_module_version": "1.5.0",
          "state": {
            "_model_module": "@jupyter-widgets/controls",
            "_model_module_version": "1.5.0",
            "_model_name": "ProgressStyleModel",
            "_view_count": null,
            "_view_module": "@jupyter-widgets/base",
            "_view_module_version": "1.2.0",
            "_view_name": "StyleView",
            "bar_color": null,
            "description_width": ""
          }
        },
        "800d2131f8ef4a0d87db5f8aa9ce8186": {
          "model_module": "@jupyter-widgets/base",
          "model_name": "LayoutModel",
          "model_module_version": "1.2.0",
          "state": {
            "_model_module": "@jupyter-widgets/base",
            "_model_module_version": "1.2.0",
            "_model_name": "LayoutModel",
            "_view_count": null,
            "_view_module": "@jupyter-widgets/base",
            "_view_module_version": "1.2.0",
            "_view_name": "LayoutView",
            "align_content": null,
            "align_items": null,
            "align_self": null,
            "border": null,
            "bottom": null,
            "display": null,
            "flex": null,
            "flex_flow": null,
            "grid_area": null,
            "grid_auto_columns": null,
            "grid_auto_flow": null,
            "grid_auto_rows": null,
            "grid_column": null,
            "grid_gap": null,
            "grid_row": null,
            "grid_template_areas": null,
            "grid_template_columns": null,
            "grid_template_rows": null,
            "height": null,
            "justify_content": null,
            "justify_items": null,
            "left": null,
            "margin": null,
            "max_height": null,
            "max_width": null,
            "min_height": null,
            "min_width": null,
            "object_fit": null,
            "object_position": null,
            "order": null,
            "overflow": null,
            "overflow_x": null,
            "overflow_y": null,
            "padding": null,
            "right": null,
            "top": null,
            "visibility": null,
            "width": null
          }
        },
        "761f78ac94574b3eb2c1dfcf5b4f131d": {
          "model_module": "@jupyter-widgets/controls",
          "model_name": "DescriptionStyleModel",
          "model_module_version": "1.5.0",
          "state": {
            "_model_module": "@jupyter-widgets/controls",
            "_model_module_version": "1.5.0",
            "_model_name": "DescriptionStyleModel",
            "_view_count": null,
            "_view_module": "@jupyter-widgets/base",
            "_view_module_version": "1.2.0",
            "_view_name": "StyleView",
            "description_width": ""
          }
        },
        "b4d712c814a946dc8d397241687e6bd5": {
          "model_module": "@jupyter-widgets/controls",
          "model_name": "HBoxModel",
          "model_module_version": "1.5.0",
          "state": {
            "_dom_classes": [],
            "_model_module": "@jupyter-widgets/controls",
            "_model_module_version": "1.5.0",
            "_model_name": "HBoxModel",
            "_view_count": null,
            "_view_module": "@jupyter-widgets/controls",
            "_view_module_version": "1.5.0",
            "_view_name": "HBoxView",
            "box_style": "",
            "children": [
              "IPY_MODEL_b671444b9bdb4fb7af90ee790ce33ff3",
              "IPY_MODEL_0926f2d109d9424284cf9bbe84dac176",
              "IPY_MODEL_7d3a6300cf474369b549547127f3b23a"
            ],
            "layout": "IPY_MODEL_21aca0849a4449e8acbbf3e2dd72abd6"
          }
        },
        "b671444b9bdb4fb7af90ee790ce33ff3": {
          "model_module": "@jupyter-widgets/controls",
          "model_name": "HTMLModel",
          "model_module_version": "1.5.0",
          "state": {
            "_dom_classes": [],
            "_model_module": "@jupyter-widgets/controls",
            "_model_module_version": "1.5.0",
            "_model_name": "HTMLModel",
            "_view_count": null,
            "_view_module": "@jupyter-widgets/controls",
            "_view_module_version": "1.5.0",
            "_view_name": "HTMLView",
            "description": "",
            "description_tooltip": null,
            "layout": "IPY_MODEL_f460c5b77f5d4b9b9d5b5f0c674f5102",
            "placeholder": "​",
            "style": "IPY_MODEL_0d20ce9e2b974a9aa7c31043427c8dc6",
            "value": "100%"
          }
        },
        "0926f2d109d9424284cf9bbe84dac176": {
          "model_module": "@jupyter-widgets/controls",
          "model_name": "FloatProgressModel",
          "model_module_version": "1.5.0",
          "state": {
            "_dom_classes": [],
            "_model_module": "@jupyter-widgets/controls",
            "_model_module_version": "1.5.0",
            "_model_name": "FloatProgressModel",
            "_view_count": null,
            "_view_module": "@jupyter-widgets/controls",
            "_view_module_version": "1.5.0",
            "_view_name": "ProgressView",
            "bar_style": "success",
            "description": "",
            "description_tooltip": null,
            "layout": "IPY_MODEL_014298253c5f4bbab6507d2918b6a680",
            "max": 3,
            "min": 0,
            "orientation": "horizontal",
            "style": "IPY_MODEL_588d7892fd0449c4bba1acee16eb4686",
            "value": 3
          }
        },
        "7d3a6300cf474369b549547127f3b23a": {
          "model_module": "@jupyter-widgets/controls",
          "model_name": "HTMLModel",
          "model_module_version": "1.5.0",
          "state": {
            "_dom_classes": [],
            "_model_module": "@jupyter-widgets/controls",
            "_model_module_version": "1.5.0",
            "_model_name": "HTMLModel",
            "_view_count": null,
            "_view_module": "@jupyter-widgets/controls",
            "_view_module_version": "1.5.0",
            "_view_name": "HTMLView",
            "description": "",
            "description_tooltip": null,
            "layout": "IPY_MODEL_0a4ddf9cfd474afdbf33621e1498e186",
            "placeholder": "​",
            "style": "IPY_MODEL_3fbc8f89c7ed44278e757e6719f58915",
            "value": " 3/3 [00:29&lt;00:00,  9.80s/it]"
          }
        },
        "21aca0849a4449e8acbbf3e2dd72abd6": {
          "model_module": "@jupyter-widgets/base",
          "model_name": "LayoutModel",
          "model_module_version": "1.2.0",
          "state": {
            "_model_module": "@jupyter-widgets/base",
            "_model_module_version": "1.2.0",
            "_model_name": "LayoutModel",
            "_view_count": null,
            "_view_module": "@jupyter-widgets/base",
            "_view_module_version": "1.2.0",
            "_view_name": "LayoutView",
            "align_content": null,
            "align_items": null,
            "align_self": null,
            "border": null,
            "bottom": null,
            "display": null,
            "flex": null,
            "flex_flow": null,
            "grid_area": null,
            "grid_auto_columns": null,
            "grid_auto_flow": null,
            "grid_auto_rows": null,
            "grid_column": null,
            "grid_gap": null,
            "grid_row": null,
            "grid_template_areas": null,
            "grid_template_columns": null,
            "grid_template_rows": null,
            "height": null,
            "justify_content": null,
            "justify_items": null,
            "left": null,
            "margin": null,
            "max_height": null,
            "max_width": null,
            "min_height": null,
            "min_width": null,
            "object_fit": null,
            "object_position": null,
            "order": null,
            "overflow": null,
            "overflow_x": null,
            "overflow_y": null,
            "padding": null,
            "right": null,
            "top": null,
            "visibility": null,
            "width": null
          }
        },
        "f460c5b77f5d4b9b9d5b5f0c674f5102": {
          "model_module": "@jupyter-widgets/base",
          "model_name": "LayoutModel",
          "model_module_version": "1.2.0",
          "state": {
            "_model_module": "@jupyter-widgets/base",
            "_model_module_version": "1.2.0",
            "_model_name": "LayoutModel",
            "_view_count": null,
            "_view_module": "@jupyter-widgets/base",
            "_view_module_version": "1.2.0",
            "_view_name": "LayoutView",
            "align_content": null,
            "align_items": null,
            "align_self": null,
            "border": null,
            "bottom": null,
            "display": null,
            "flex": null,
            "flex_flow": null,
            "grid_area": null,
            "grid_auto_columns": null,
            "grid_auto_flow": null,
            "grid_auto_rows": null,
            "grid_column": null,
            "grid_gap": null,
            "grid_row": null,
            "grid_template_areas": null,
            "grid_template_columns": null,
            "grid_template_rows": null,
            "height": null,
            "justify_content": null,
            "justify_items": null,
            "left": null,
            "margin": null,
            "max_height": null,
            "max_width": null,
            "min_height": null,
            "min_width": null,
            "object_fit": null,
            "object_position": null,
            "order": null,
            "overflow": null,
            "overflow_x": null,
            "overflow_y": null,
            "padding": null,
            "right": null,
            "top": null,
            "visibility": null,
            "width": null
          }
        },
        "0d20ce9e2b974a9aa7c31043427c8dc6": {
          "model_module": "@jupyter-widgets/controls",
          "model_name": "DescriptionStyleModel",
          "model_module_version": "1.5.0",
          "state": {
            "_model_module": "@jupyter-widgets/controls",
            "_model_module_version": "1.5.0",
            "_model_name": "DescriptionStyleModel",
            "_view_count": null,
            "_view_module": "@jupyter-widgets/base",
            "_view_module_version": "1.2.0",
            "_view_name": "StyleView",
            "description_width": ""
          }
        },
        "014298253c5f4bbab6507d2918b6a680": {
          "model_module": "@jupyter-widgets/base",
          "model_name": "LayoutModel",
          "model_module_version": "1.2.0",
          "state": {
            "_model_module": "@jupyter-widgets/base",
            "_model_module_version": "1.2.0",
            "_model_name": "LayoutModel",
            "_view_count": null,
            "_view_module": "@jupyter-widgets/base",
            "_view_module_version": "1.2.0",
            "_view_name": "LayoutView",
            "align_content": null,
            "align_items": null,
            "align_self": null,
            "border": null,
            "bottom": null,
            "display": null,
            "flex": null,
            "flex_flow": null,
            "grid_area": null,
            "grid_auto_columns": null,
            "grid_auto_flow": null,
            "grid_auto_rows": null,
            "grid_column": null,
            "grid_gap": null,
            "grid_row": null,
            "grid_template_areas": null,
            "grid_template_columns": null,
            "grid_template_rows": null,
            "height": null,
            "justify_content": null,
            "justify_items": null,
            "left": null,
            "margin": null,
            "max_height": null,
            "max_width": null,
            "min_height": null,
            "min_width": null,
            "object_fit": null,
            "object_position": null,
            "order": null,
            "overflow": null,
            "overflow_x": null,
            "overflow_y": null,
            "padding": null,
            "right": null,
            "top": null,
            "visibility": null,
            "width": null
          }
        },
        "588d7892fd0449c4bba1acee16eb4686": {
          "model_module": "@jupyter-widgets/controls",
          "model_name": "ProgressStyleModel",
          "model_module_version": "1.5.0",
          "state": {
            "_model_module": "@jupyter-widgets/controls",
            "_model_module_version": "1.5.0",
            "_model_name": "ProgressStyleModel",
            "_view_count": null,
            "_view_module": "@jupyter-widgets/base",
            "_view_module_version": "1.2.0",
            "_view_name": "StyleView",
            "bar_color": null,
            "description_width": ""
          }
        },
        "0a4ddf9cfd474afdbf33621e1498e186": {
          "model_module": "@jupyter-widgets/base",
          "model_name": "LayoutModel",
          "model_module_version": "1.2.0",
          "state": {
            "_model_module": "@jupyter-widgets/base",
            "_model_module_version": "1.2.0",
            "_model_name": "LayoutModel",
            "_view_count": null,
            "_view_module": "@jupyter-widgets/base",
            "_view_module_version": "1.2.0",
            "_view_name": "LayoutView",
            "align_content": null,
            "align_items": null,
            "align_self": null,
            "border": null,
            "bottom": null,
            "display": null,
            "flex": null,
            "flex_flow": null,
            "grid_area": null,
            "grid_auto_columns": null,
            "grid_auto_flow": null,
            "grid_auto_rows": null,
            "grid_column": null,
            "grid_gap": null,
            "grid_row": null,
            "grid_template_areas": null,
            "grid_template_columns": null,
            "grid_template_rows": null,
            "height": null,
            "justify_content": null,
            "justify_items": null,
            "left": null,
            "margin": null,
            "max_height": null,
            "max_width": null,
            "min_height": null,
            "min_width": null,
            "object_fit": null,
            "object_position": null,
            "order": null,
            "overflow": null,
            "overflow_x": null,
            "overflow_y": null,
            "padding": null,
            "right": null,
            "top": null,
            "visibility": null,
            "width": null
          }
        },
        "3fbc8f89c7ed44278e757e6719f58915": {
          "model_module": "@jupyter-widgets/controls",
          "model_name": "DescriptionStyleModel",
          "model_module_version": "1.5.0",
          "state": {
            "_model_module": "@jupyter-widgets/controls",
            "_model_module_version": "1.5.0",
            "_model_name": "DescriptionStyleModel",
            "_view_count": null,
            "_view_module": "@jupyter-widgets/base",
            "_view_module_version": "1.2.0",
            "_view_name": "StyleView",
            "description_width": ""
          }
        },
        "295a9c0dc4f04e6db26c4e28fe0ac930": {
          "model_module": "@jupyter-widgets/controls",
          "model_name": "HBoxModel",
          "model_module_version": "1.5.0",
          "state": {
            "_dom_classes": [],
            "_model_module": "@jupyter-widgets/controls",
            "_model_module_version": "1.5.0",
            "_model_name": "HBoxModel",
            "_view_count": null,
            "_view_module": "@jupyter-widgets/controls",
            "_view_module_version": "1.5.0",
            "_view_name": "HBoxView",
            "box_style": "",
            "children": [
              "IPY_MODEL_d33e281c1b04414392cb038b516795ea",
              "IPY_MODEL_2f95f35b3ebd463ba7fa782030050728",
              "IPY_MODEL_c3bad68c90b74fb596b37eb83e085ae3"
            ],
            "layout": "IPY_MODEL_f8fc8ebec8c54b859ee43bafcfdc0740"
          }
        },
        "d33e281c1b04414392cb038b516795ea": {
          "model_module": "@jupyter-widgets/controls",
          "model_name": "HTMLModel",
          "model_module_version": "1.5.0",
          "state": {
            "_dom_classes": [],
            "_model_module": "@jupyter-widgets/controls",
            "_model_module_version": "1.5.0",
            "_model_name": "HTMLModel",
            "_view_count": null,
            "_view_module": "@jupyter-widgets/controls",
            "_view_module_version": "1.5.0",
            "_view_name": "HTMLView",
            "description": "",
            "description_tooltip": null,
            "layout": "IPY_MODEL_174278bb680945c7b3d9ef0d078000ac",
            "placeholder": "​",
            "style": "IPY_MODEL_569313c50d1641db884257ea18dc4067",
            "value": "100%"
          }
        },
        "2f95f35b3ebd463ba7fa782030050728": {
          "model_module": "@jupyter-widgets/controls",
          "model_name": "FloatProgressModel",
          "model_module_version": "1.5.0",
          "state": {
            "_dom_classes": [],
            "_model_module": "@jupyter-widgets/controls",
            "_model_module_version": "1.5.0",
            "_model_name": "FloatProgressModel",
            "_view_count": null,
            "_view_module": "@jupyter-widgets/controls",
            "_view_module_version": "1.5.0",
            "_view_name": "ProgressView",
            "bar_style": "success",
            "description": "",
            "description_tooltip": null,
            "layout": "IPY_MODEL_c5844ae1eab64ff3b62ab15ff8517506",
            "max": 3,
            "min": 0,
            "orientation": "horizontal",
            "style": "IPY_MODEL_f5387530841f47c6a6dcec6af4eb9f34",
            "value": 3
          }
        },
        "c3bad68c90b74fb596b37eb83e085ae3": {
          "model_module": "@jupyter-widgets/controls",
          "model_name": "HTMLModel",
          "model_module_version": "1.5.0",
          "state": {
            "_dom_classes": [],
            "_model_module": "@jupyter-widgets/controls",
            "_model_module_version": "1.5.0",
            "_model_name": "HTMLModel",
            "_view_count": null,
            "_view_module": "@jupyter-widgets/controls",
            "_view_module_version": "1.5.0",
            "_view_name": "HTMLView",
            "description": "",
            "description_tooltip": null,
            "layout": "IPY_MODEL_fecb7a6108304c5fa7174eb05cac4b6d",
            "placeholder": "​",
            "style": "IPY_MODEL_2acfbbc4bdfd439d8ead5071cdaa913a",
            "value": " 3/3 [00:34&lt;00:00, 11.27s/it]"
          }
        },
        "f8fc8ebec8c54b859ee43bafcfdc0740": {
          "model_module": "@jupyter-widgets/base",
          "model_name": "LayoutModel",
          "model_module_version": "1.2.0",
          "state": {
            "_model_module": "@jupyter-widgets/base",
            "_model_module_version": "1.2.0",
            "_model_name": "LayoutModel",
            "_view_count": null,
            "_view_module": "@jupyter-widgets/base",
            "_view_module_version": "1.2.0",
            "_view_name": "LayoutView",
            "align_content": null,
            "align_items": null,
            "align_self": null,
            "border": null,
            "bottom": null,
            "display": null,
            "flex": null,
            "flex_flow": null,
            "grid_area": null,
            "grid_auto_columns": null,
            "grid_auto_flow": null,
            "grid_auto_rows": null,
            "grid_column": null,
            "grid_gap": null,
            "grid_row": null,
            "grid_template_areas": null,
            "grid_template_columns": null,
            "grid_template_rows": null,
            "height": null,
            "justify_content": null,
            "justify_items": null,
            "left": null,
            "margin": null,
            "max_height": null,
            "max_width": null,
            "min_height": null,
            "min_width": null,
            "object_fit": null,
            "object_position": null,
            "order": null,
            "overflow": null,
            "overflow_x": null,
            "overflow_y": null,
            "padding": null,
            "right": null,
            "top": null,
            "visibility": null,
            "width": null
          }
        },
        "174278bb680945c7b3d9ef0d078000ac": {
          "model_module": "@jupyter-widgets/base",
          "model_name": "LayoutModel",
          "model_module_version": "1.2.0",
          "state": {
            "_model_module": "@jupyter-widgets/base",
            "_model_module_version": "1.2.0",
            "_model_name": "LayoutModel",
            "_view_count": null,
            "_view_module": "@jupyter-widgets/base",
            "_view_module_version": "1.2.0",
            "_view_name": "LayoutView",
            "align_content": null,
            "align_items": null,
            "align_self": null,
            "border": null,
            "bottom": null,
            "display": null,
            "flex": null,
            "flex_flow": null,
            "grid_area": null,
            "grid_auto_columns": null,
            "grid_auto_flow": null,
            "grid_auto_rows": null,
            "grid_column": null,
            "grid_gap": null,
            "grid_row": null,
            "grid_template_areas": null,
            "grid_template_columns": null,
            "grid_template_rows": null,
            "height": null,
            "justify_content": null,
            "justify_items": null,
            "left": null,
            "margin": null,
            "max_height": null,
            "max_width": null,
            "min_height": null,
            "min_width": null,
            "object_fit": null,
            "object_position": null,
            "order": null,
            "overflow": null,
            "overflow_x": null,
            "overflow_y": null,
            "padding": null,
            "right": null,
            "top": null,
            "visibility": null,
            "width": null
          }
        },
        "569313c50d1641db884257ea18dc4067": {
          "model_module": "@jupyter-widgets/controls",
          "model_name": "DescriptionStyleModel",
          "model_module_version": "1.5.0",
          "state": {
            "_model_module": "@jupyter-widgets/controls",
            "_model_module_version": "1.5.0",
            "_model_name": "DescriptionStyleModel",
            "_view_count": null,
            "_view_module": "@jupyter-widgets/base",
            "_view_module_version": "1.2.0",
            "_view_name": "StyleView",
            "description_width": ""
          }
        },
        "c5844ae1eab64ff3b62ab15ff8517506": {
          "model_module": "@jupyter-widgets/base",
          "model_name": "LayoutModel",
          "model_module_version": "1.2.0",
          "state": {
            "_model_module": "@jupyter-widgets/base",
            "_model_module_version": "1.2.0",
            "_model_name": "LayoutModel",
            "_view_count": null,
            "_view_module": "@jupyter-widgets/base",
            "_view_module_version": "1.2.0",
            "_view_name": "LayoutView",
            "align_content": null,
            "align_items": null,
            "align_self": null,
            "border": null,
            "bottom": null,
            "display": null,
            "flex": null,
            "flex_flow": null,
            "grid_area": null,
            "grid_auto_columns": null,
            "grid_auto_flow": null,
            "grid_auto_rows": null,
            "grid_column": null,
            "grid_gap": null,
            "grid_row": null,
            "grid_template_areas": null,
            "grid_template_columns": null,
            "grid_template_rows": null,
            "height": null,
            "justify_content": null,
            "justify_items": null,
            "left": null,
            "margin": null,
            "max_height": null,
            "max_width": null,
            "min_height": null,
            "min_width": null,
            "object_fit": null,
            "object_position": null,
            "order": null,
            "overflow": null,
            "overflow_x": null,
            "overflow_y": null,
            "padding": null,
            "right": null,
            "top": null,
            "visibility": null,
            "width": null
          }
        },
        "f5387530841f47c6a6dcec6af4eb9f34": {
          "model_module": "@jupyter-widgets/controls",
          "model_name": "ProgressStyleModel",
          "model_module_version": "1.5.0",
          "state": {
            "_model_module": "@jupyter-widgets/controls",
            "_model_module_version": "1.5.0",
            "_model_name": "ProgressStyleModel",
            "_view_count": null,
            "_view_module": "@jupyter-widgets/base",
            "_view_module_version": "1.2.0",
            "_view_name": "StyleView",
            "bar_color": null,
            "description_width": ""
          }
        },
        "fecb7a6108304c5fa7174eb05cac4b6d": {
          "model_module": "@jupyter-widgets/base",
          "model_name": "LayoutModel",
          "model_module_version": "1.2.0",
          "state": {
            "_model_module": "@jupyter-widgets/base",
            "_model_module_version": "1.2.0",
            "_model_name": "LayoutModel",
            "_view_count": null,
            "_view_module": "@jupyter-widgets/base",
            "_view_module_version": "1.2.0",
            "_view_name": "LayoutView",
            "align_content": null,
            "align_items": null,
            "align_self": null,
            "border": null,
            "bottom": null,
            "display": null,
            "flex": null,
            "flex_flow": null,
            "grid_area": null,
            "grid_auto_columns": null,
            "grid_auto_flow": null,
            "grid_auto_rows": null,
            "grid_column": null,
            "grid_gap": null,
            "grid_row": null,
            "grid_template_areas": null,
            "grid_template_columns": null,
            "grid_template_rows": null,
            "height": null,
            "justify_content": null,
            "justify_items": null,
            "left": null,
            "margin": null,
            "max_height": null,
            "max_width": null,
            "min_height": null,
            "min_width": null,
            "object_fit": null,
            "object_position": null,
            "order": null,
            "overflow": null,
            "overflow_x": null,
            "overflow_y": null,
            "padding": null,
            "right": null,
            "top": null,
            "visibility": null,
            "width": null
          }
        },
        "2acfbbc4bdfd439d8ead5071cdaa913a": {
          "model_module": "@jupyter-widgets/controls",
          "model_name": "DescriptionStyleModel",
          "model_module_version": "1.5.0",
          "state": {
            "_model_module": "@jupyter-widgets/controls",
            "_model_module_version": "1.5.0",
            "_model_name": "DescriptionStyleModel",
            "_view_count": null,
            "_view_module": "@jupyter-widgets/base",
            "_view_module_version": "1.2.0",
            "_view_name": "StyleView",
            "description_width": ""
          }
        },
        "e31b0bfae95a40a29c0a9c22c33bf305": {
          "model_module": "@jupyter-widgets/controls",
          "model_name": "HBoxModel",
          "model_module_version": "1.5.0",
          "state": {
            "_dom_classes": [],
            "_model_module": "@jupyter-widgets/controls",
            "_model_module_version": "1.5.0",
            "_model_name": "HBoxModel",
            "_view_count": null,
            "_view_module": "@jupyter-widgets/controls",
            "_view_module_version": "1.5.0",
            "_view_name": "HBoxView",
            "box_style": "",
            "children": [
              "IPY_MODEL_2f6b366b4f71401fbdc26f7b8921f84a",
              "IPY_MODEL_04f6d869d7a24a3bb80a835526852391",
              "IPY_MODEL_a05f05d32bb440efa93ca8731e377242"
            ],
            "layout": "IPY_MODEL_3beade1dd41c4490b1b6d41d74d62c4f"
          }
        },
        "2f6b366b4f71401fbdc26f7b8921f84a": {
          "model_module": "@jupyter-widgets/controls",
          "model_name": "HTMLModel",
          "model_module_version": "1.5.0",
          "state": {
            "_dom_classes": [],
            "_model_module": "@jupyter-widgets/controls",
            "_model_module_version": "1.5.0",
            "_model_name": "HTMLModel",
            "_view_count": null,
            "_view_module": "@jupyter-widgets/controls",
            "_view_module_version": "1.5.0",
            "_view_name": "HTMLView",
            "description": "",
            "description_tooltip": null,
            "layout": "IPY_MODEL_aa512eea86b34d0ca6e6a1254f291ae6",
            "placeholder": "​",
            "style": "IPY_MODEL_4d849d343fdb472f897700679896fdb1",
            "value": "Making predictions...: 100%"
          }
        },
        "04f6d869d7a24a3bb80a835526852391": {
          "model_module": "@jupyter-widgets/controls",
          "model_name": "FloatProgressModel",
          "model_module_version": "1.5.0",
          "state": {
            "_dom_classes": [],
            "_model_module": "@jupyter-widgets/controls",
            "_model_module_version": "1.5.0",
            "_model_name": "FloatProgressModel",
            "_view_count": null,
            "_view_module": "@jupyter-widgets/controls",
            "_view_module_version": "1.5.0",
            "_view_name": "ProgressView",
            "bar_style": "success",
            "description": "",
            "description_tooltip": null,
            "layout": "IPY_MODEL_65fa08348b554c2b9cef7ede90100474",
            "max": 313,
            "min": 0,
            "orientation": "horizontal",
            "style": "IPY_MODEL_31ef46611c8548bb91111f33d664c571",
            "value": 313
          }
        },
        "a05f05d32bb440efa93ca8731e377242": {
          "model_module": "@jupyter-widgets/controls",
          "model_name": "HTMLModel",
          "model_module_version": "1.5.0",
          "state": {
            "_dom_classes": [],
            "_model_module": "@jupyter-widgets/controls",
            "_model_module_version": "1.5.0",
            "_model_name": "HTMLModel",
            "_view_count": null,
            "_view_module": "@jupyter-widgets/controls",
            "_view_module_version": "1.5.0",
            "_view_name": "HTMLView",
            "description": "",
            "description_tooltip": null,
            "layout": "IPY_MODEL_b6e120b68a4c49b8a0daef130f68f22d",
            "placeholder": "​",
            "style": "IPY_MODEL_dfa3a0c958994cd5ae82cae02af6e245",
            "value": " 313/313 [00:01&lt;00:00, 276.95it/s]"
          }
        },
        "3beade1dd41c4490b1b6d41d74d62c4f": {
          "model_module": "@jupyter-widgets/base",
          "model_name": "LayoutModel",
          "model_module_version": "1.2.0",
          "state": {
            "_model_module": "@jupyter-widgets/base",
            "_model_module_version": "1.2.0",
            "_model_name": "LayoutModel",
            "_view_count": null,
            "_view_module": "@jupyter-widgets/base",
            "_view_module_version": "1.2.0",
            "_view_name": "LayoutView",
            "align_content": null,
            "align_items": null,
            "align_self": null,
            "border": null,
            "bottom": null,
            "display": null,
            "flex": null,
            "flex_flow": null,
            "grid_area": null,
            "grid_auto_columns": null,
            "grid_auto_flow": null,
            "grid_auto_rows": null,
            "grid_column": null,
            "grid_gap": null,
            "grid_row": null,
            "grid_template_areas": null,
            "grid_template_columns": null,
            "grid_template_rows": null,
            "height": null,
            "justify_content": null,
            "justify_items": null,
            "left": null,
            "margin": null,
            "max_height": null,
            "max_width": null,
            "min_height": null,
            "min_width": null,
            "object_fit": null,
            "object_position": null,
            "order": null,
            "overflow": null,
            "overflow_x": null,
            "overflow_y": null,
            "padding": null,
            "right": null,
            "top": null,
            "visibility": null,
            "width": null
          }
        },
        "aa512eea86b34d0ca6e6a1254f291ae6": {
          "model_module": "@jupyter-widgets/base",
          "model_name": "LayoutModel",
          "model_module_version": "1.2.0",
          "state": {
            "_model_module": "@jupyter-widgets/base",
            "_model_module_version": "1.2.0",
            "_model_name": "LayoutModel",
            "_view_count": null,
            "_view_module": "@jupyter-widgets/base",
            "_view_module_version": "1.2.0",
            "_view_name": "LayoutView",
            "align_content": null,
            "align_items": null,
            "align_self": null,
            "border": null,
            "bottom": null,
            "display": null,
            "flex": null,
            "flex_flow": null,
            "grid_area": null,
            "grid_auto_columns": null,
            "grid_auto_flow": null,
            "grid_auto_rows": null,
            "grid_column": null,
            "grid_gap": null,
            "grid_row": null,
            "grid_template_areas": null,
            "grid_template_columns": null,
            "grid_template_rows": null,
            "height": null,
            "justify_content": null,
            "justify_items": null,
            "left": null,
            "margin": null,
            "max_height": null,
            "max_width": null,
            "min_height": null,
            "min_width": null,
            "object_fit": null,
            "object_position": null,
            "order": null,
            "overflow": null,
            "overflow_x": null,
            "overflow_y": null,
            "padding": null,
            "right": null,
            "top": null,
            "visibility": null,
            "width": null
          }
        },
        "4d849d343fdb472f897700679896fdb1": {
          "model_module": "@jupyter-widgets/controls",
          "model_name": "DescriptionStyleModel",
          "model_module_version": "1.5.0",
          "state": {
            "_model_module": "@jupyter-widgets/controls",
            "_model_module_version": "1.5.0",
            "_model_name": "DescriptionStyleModel",
            "_view_count": null,
            "_view_module": "@jupyter-widgets/base",
            "_view_module_version": "1.2.0",
            "_view_name": "StyleView",
            "description_width": ""
          }
        },
        "65fa08348b554c2b9cef7ede90100474": {
          "model_module": "@jupyter-widgets/base",
          "model_name": "LayoutModel",
          "model_module_version": "1.2.0",
          "state": {
            "_model_module": "@jupyter-widgets/base",
            "_model_module_version": "1.2.0",
            "_model_name": "LayoutModel",
            "_view_count": null,
            "_view_module": "@jupyter-widgets/base",
            "_view_module_version": "1.2.0",
            "_view_name": "LayoutView",
            "align_content": null,
            "align_items": null,
            "align_self": null,
            "border": null,
            "bottom": null,
            "display": null,
            "flex": null,
            "flex_flow": null,
            "grid_area": null,
            "grid_auto_columns": null,
            "grid_auto_flow": null,
            "grid_auto_rows": null,
            "grid_column": null,
            "grid_gap": null,
            "grid_row": null,
            "grid_template_areas": null,
            "grid_template_columns": null,
            "grid_template_rows": null,
            "height": null,
            "justify_content": null,
            "justify_items": null,
            "left": null,
            "margin": null,
            "max_height": null,
            "max_width": null,
            "min_height": null,
            "min_width": null,
            "object_fit": null,
            "object_position": null,
            "order": null,
            "overflow": null,
            "overflow_x": null,
            "overflow_y": null,
            "padding": null,
            "right": null,
            "top": null,
            "visibility": null,
            "width": null
          }
        },
        "31ef46611c8548bb91111f33d664c571": {
          "model_module": "@jupyter-widgets/controls",
          "model_name": "ProgressStyleModel",
          "model_module_version": "1.5.0",
          "state": {
            "_model_module": "@jupyter-widgets/controls",
            "_model_module_version": "1.5.0",
            "_model_name": "ProgressStyleModel",
            "_view_count": null,
            "_view_module": "@jupyter-widgets/base",
            "_view_module_version": "1.2.0",
            "_view_name": "StyleView",
            "bar_color": null,
            "description_width": ""
          }
        },
        "b6e120b68a4c49b8a0daef130f68f22d": {
          "model_module": "@jupyter-widgets/base",
          "model_name": "LayoutModel",
          "model_module_version": "1.2.0",
          "state": {
            "_model_module": "@jupyter-widgets/base",
            "_model_module_version": "1.2.0",
            "_model_name": "LayoutModel",
            "_view_count": null,
            "_view_module": "@jupyter-widgets/base",
            "_view_module_version": "1.2.0",
            "_view_name": "LayoutView",
            "align_content": null,
            "align_items": null,
            "align_self": null,
            "border": null,
            "bottom": null,
            "display": null,
            "flex": null,
            "flex_flow": null,
            "grid_area": null,
            "grid_auto_columns": null,
            "grid_auto_flow": null,
            "grid_auto_rows": null,
            "grid_column": null,
            "grid_gap": null,
            "grid_row": null,
            "grid_template_areas": null,
            "grid_template_columns": null,
            "grid_template_rows": null,
            "height": null,
            "justify_content": null,
            "justify_items": null,
            "left": null,
            "margin": null,
            "max_height": null,
            "max_width": null,
            "min_height": null,
            "min_width": null,
            "object_fit": null,
            "object_position": null,
            "order": null,
            "overflow": null,
            "overflow_x": null,
            "overflow_y": null,
            "padding": null,
            "right": null,
            "top": null,
            "visibility": null,
            "width": null
          }
        },
        "dfa3a0c958994cd5ae82cae02af6e245": {
          "model_module": "@jupyter-widgets/controls",
          "model_name": "DescriptionStyleModel",
          "model_module_version": "1.5.0",
          "state": {
            "_model_module": "@jupyter-widgets/controls",
            "_model_module_version": "1.5.0",
            "_model_name": "DescriptionStyleModel",
            "_view_count": null,
            "_view_module": "@jupyter-widgets/base",
            "_view_module_version": "1.2.0",
            "_view_name": "StyleView",
            "description_width": ""
          }
        }
      }
    }
  },
  "cells": [
    {
      "cell_type": "markdown",
      "metadata": {
        "id": "view-in-github",
        "colab_type": "text"
      },
      "source": [
        "<a href=\"https://colab.research.google.com/github/b-ionut-r/Pytorch-Course/blob/main/03_pytorch_computer_vision.ipynb\" target=\"_parent\"><img src=\"https://colab.research.google.com/assets/colab-badge.svg\" alt=\"Open In Colab\"/></a>"
      ]
    },
    {
      "cell_type": "markdown",
      "source": [
        "# PyTorch Computer Vision\n",
        "\n",
        "* See reference notebook - https://github.com/mrdbourke/pytorch-deep-learning/blob/main/03_pytorch_computer_vision.ipynb\n",
        "* See reference online book  -https://www.learnpytorch.io/03_pytorch_computer_vision/"
      ],
      "metadata": {
        "id": "QBt5WnMo1b6K"
      }
    },
    {
      "cell_type": "markdown",
      "source": [
        "## 0. Computer vision libraries in PyTorch\n",
        "\n",
        "* [`torchvision`](https://www.learnpytorch.io/03_pytorch_computer_vision/) - base domain library for PyTorch computer vision\n",
        "* `torchvision.datasets` - get datasets and data loading functions for computer vision here\n",
        "* `torchvision.models` - get pretrained computer vision models that you can leverage for your own problems\n",
        "* `torchvision.transforms` - functions for manipulating your vision data (images) to be suitable for use with an ML model\n",
        "* `torch.utils.data.Dataset` - Base dataset class for PyTorch\n",
        "* `torch.utils.data.DataLoader` - Creates a Python iterable over a dataset"
      ],
      "metadata": {
        "id": "vRsao9cV5ipr"
      }
    },
    {
      "cell_type": "code",
      "source": [
        "# Import Pytorch\n",
        "import torch\n",
        "from torch import nn\n",
        "\n",
        "# Import torchvision\n",
        "import torchvision\n",
        "from torchvision import datasets\n",
        "from torchvision import transforms\n",
        "from torchvision.transforms import ToTensor\n",
        "\n",
        "# Import matplotlib\n",
        "from matplotlib import pyplot as plt\n",
        "\n",
        "# Check versions\n",
        "print(torch.__version__)\n",
        "print(torchvision.__version__)"
      ],
      "metadata": {
        "colab": {
          "base_uri": "https://localhost:8080/"
        },
        "id": "p2u_fwIi6sp9",
        "outputId": "d9cb4d83-991b-414f-8e82-c7acd75d6bbb"
      },
      "execution_count": 1,
      "outputs": [
        {
          "output_type": "stream",
          "name": "stdout",
          "text": [
            "2.5.1+cu124\n",
            "0.20.1+cu124\n"
          ]
        }
      ]
    },
    {
      "cell_type": "markdown",
      "source": [
        "## 1. Getting a dataset\n",
        "\n",
        "The dataset we'll be using is FashionMNIST from torchvision.datasets"
      ],
      "metadata": {
        "id": "LVfxUfQV7IOf"
      }
    },
    {
      "cell_type": "code",
      "source": [
        "# Setup training data\n",
        "train_data = datasets.FashionMNIST(\n",
        "    root = \"data\", # where to download data to?\n",
        "    train = True, # do we eant the training dataset?\n",
        "    download = True, # do we want to download yes/no?\n",
        "    transform = ToTensor(), # images come as PIL format, we want to turn into Torch tensors\n",
        "    target_transform = None # you can transform labels as well\n",
        ")\n",
        "\n",
        "test_data = datasets.FashionMNIST(\n",
        "    root = \"data\",\n",
        "    train = False,\n",
        "    download = True,\n",
        "    transform = ToTensor(),\n",
        "    target_transform = None\n",
        ")"
      ],
      "metadata": {
        "colab": {
          "base_uri": "https://localhost:8080/"
        },
        "id": "q2xfPpFv7-6p",
        "outputId": "a78b7549-f5dc-4b38-838f-626cb558eee1"
      },
      "execution_count": 2,
      "outputs": [
        {
          "output_type": "stream",
          "name": "stdout",
          "text": [
            "Downloading http://fashion-mnist.s3-website.eu-central-1.amazonaws.com/train-images-idx3-ubyte.gz\n",
            "Downloading http://fashion-mnist.s3-website.eu-central-1.amazonaws.com/train-images-idx3-ubyte.gz to data/FashionMNIST/raw/train-images-idx3-ubyte.gz\n"
          ]
        },
        {
          "output_type": "stream",
          "name": "stderr",
          "text": [
            "100%|██████████| 26.4M/26.4M [00:02<00:00, 10.2MB/s]\n"
          ]
        },
        {
          "output_type": "stream",
          "name": "stdout",
          "text": [
            "Extracting data/FashionMNIST/raw/train-images-idx3-ubyte.gz to data/FashionMNIST/raw\n",
            "\n",
            "Downloading http://fashion-mnist.s3-website.eu-central-1.amazonaws.com/train-labels-idx1-ubyte.gz\n",
            "Downloading http://fashion-mnist.s3-website.eu-central-1.amazonaws.com/train-labels-idx1-ubyte.gz to data/FashionMNIST/raw/train-labels-idx1-ubyte.gz\n"
          ]
        },
        {
          "output_type": "stream",
          "name": "stderr",
          "text": [
            "100%|██████████| 29.5k/29.5k [00:00<00:00, 171kB/s]\n"
          ]
        },
        {
          "output_type": "stream",
          "name": "stdout",
          "text": [
            "Extracting data/FashionMNIST/raw/train-labels-idx1-ubyte.gz to data/FashionMNIST/raw\n",
            "\n",
            "Downloading http://fashion-mnist.s3-website.eu-central-1.amazonaws.com/t10k-images-idx3-ubyte.gz\n",
            "Downloading http://fashion-mnist.s3-website.eu-central-1.amazonaws.com/t10k-images-idx3-ubyte.gz to data/FashionMNIST/raw/t10k-images-idx3-ubyte.gz\n"
          ]
        },
        {
          "output_type": "stream",
          "name": "stderr",
          "text": [
            "100%|██████████| 4.42M/4.42M [00:01<00:00, 3.04MB/s]\n"
          ]
        },
        {
          "output_type": "stream",
          "name": "stdout",
          "text": [
            "Extracting data/FashionMNIST/raw/t10k-images-idx3-ubyte.gz to data/FashionMNIST/raw\n",
            "\n",
            "Downloading http://fashion-mnist.s3-website.eu-central-1.amazonaws.com/t10k-labels-idx1-ubyte.gz\n",
            "Downloading http://fashion-mnist.s3-website.eu-central-1.amazonaws.com/t10k-labels-idx1-ubyte.gz to data/FashionMNIST/raw/t10k-labels-idx1-ubyte.gz\n"
          ]
        },
        {
          "output_type": "stream",
          "name": "stderr",
          "text": [
            "100%|██████████| 5.15k/5.15k [00:00<00:00, 13.0MB/s]"
          ]
        },
        {
          "output_type": "stream",
          "name": "stdout",
          "text": [
            "Extracting data/FashionMNIST/raw/t10k-labels-idx1-ubyte.gz to data/FashionMNIST/raw\n",
            "\n"
          ]
        },
        {
          "output_type": "stream",
          "name": "stderr",
          "text": [
            "\n"
          ]
        }
      ]
    },
    {
      "cell_type": "code",
      "source": [
        "len(train_data), len(test_data)"
      ],
      "metadata": {
        "colab": {
          "base_uri": "https://localhost:8080/"
        },
        "id": "vMuSs95u8iju",
        "outputId": "b2d3bf1b-48ee-4ab8-afb4-42bfb44bb058"
      },
      "execution_count": 3,
      "outputs": [
        {
          "output_type": "execute_result",
          "data": {
            "text/plain": [
              "(60000, 10000)"
            ]
          },
          "metadata": {},
          "execution_count": 3
        }
      ]
    },
    {
      "cell_type": "code",
      "source": [
        "# See the first training example\n",
        "image, label = train_data[0]\n",
        "image, label"
      ],
      "metadata": {
        "colab": {
          "base_uri": "https://localhost:8080/"
        },
        "id": "sOpgPQgA8sJo",
        "outputId": "abdd0830-8275-4145-db0c-fe569985ba0d"
      },
      "execution_count": 4,
      "outputs": [
        {
          "output_type": "execute_result",
          "data": {
            "text/plain": [
              "(tensor([[[0.0000, 0.0000, 0.0000, 0.0000, 0.0000, 0.0000, 0.0000, 0.0000,\n",
              "           0.0000, 0.0000, 0.0000, 0.0000, 0.0000, 0.0000, 0.0000, 0.0000,\n",
              "           0.0000, 0.0000, 0.0000, 0.0000, 0.0000, 0.0000, 0.0000, 0.0000,\n",
              "           0.0000, 0.0000, 0.0000, 0.0000],\n",
              "          [0.0000, 0.0000, 0.0000, 0.0000, 0.0000, 0.0000, 0.0000, 0.0000,\n",
              "           0.0000, 0.0000, 0.0000, 0.0000, 0.0000, 0.0000, 0.0000, 0.0000,\n",
              "           0.0000, 0.0000, 0.0000, 0.0000, 0.0000, 0.0000, 0.0000, 0.0000,\n",
              "           0.0000, 0.0000, 0.0000, 0.0000],\n",
              "          [0.0000, 0.0000, 0.0000, 0.0000, 0.0000, 0.0000, 0.0000, 0.0000,\n",
              "           0.0000, 0.0000, 0.0000, 0.0000, 0.0000, 0.0000, 0.0000, 0.0000,\n",
              "           0.0000, 0.0000, 0.0000, 0.0000, 0.0000, 0.0000, 0.0000, 0.0000,\n",
              "           0.0000, 0.0000, 0.0000, 0.0000],\n",
              "          [0.0000, 0.0000, 0.0000, 0.0000, 0.0000, 0.0000, 0.0000, 0.0000,\n",
              "           0.0000, 0.0000, 0.0000, 0.0000, 0.0039, 0.0000, 0.0000, 0.0510,\n",
              "           0.2863, 0.0000, 0.0000, 0.0039, 0.0157, 0.0000, 0.0000, 0.0000,\n",
              "           0.0000, 0.0039, 0.0039, 0.0000],\n",
              "          [0.0000, 0.0000, 0.0000, 0.0000, 0.0000, 0.0000, 0.0000, 0.0000,\n",
              "           0.0000, 0.0000, 0.0000, 0.0000, 0.0118, 0.0000, 0.1412, 0.5333,\n",
              "           0.4980, 0.2431, 0.2118, 0.0000, 0.0000, 0.0000, 0.0039, 0.0118,\n",
              "           0.0157, 0.0000, 0.0000, 0.0118],\n",
              "          [0.0000, 0.0000, 0.0000, 0.0000, 0.0000, 0.0000, 0.0000, 0.0000,\n",
              "           0.0000, 0.0000, 0.0000, 0.0000, 0.0235, 0.0000, 0.4000, 0.8000,\n",
              "           0.6902, 0.5255, 0.5647, 0.4824, 0.0902, 0.0000, 0.0000, 0.0000,\n",
              "           0.0000, 0.0471, 0.0392, 0.0000],\n",
              "          [0.0000, 0.0000, 0.0000, 0.0000, 0.0000, 0.0000, 0.0000, 0.0000,\n",
              "           0.0000, 0.0000, 0.0000, 0.0000, 0.0000, 0.0000, 0.6078, 0.9255,\n",
              "           0.8118, 0.6980, 0.4196, 0.6118, 0.6314, 0.4275, 0.2510, 0.0902,\n",
              "           0.3020, 0.5098, 0.2824, 0.0588],\n",
              "          [0.0000, 0.0000, 0.0000, 0.0000, 0.0000, 0.0000, 0.0000, 0.0000,\n",
              "           0.0000, 0.0000, 0.0000, 0.0039, 0.0000, 0.2706, 0.8118, 0.8745,\n",
              "           0.8549, 0.8471, 0.8471, 0.6392, 0.4980, 0.4745, 0.4784, 0.5725,\n",
              "           0.5529, 0.3451, 0.6745, 0.2588],\n",
              "          [0.0000, 0.0000, 0.0000, 0.0000, 0.0000, 0.0000, 0.0000, 0.0000,\n",
              "           0.0000, 0.0039, 0.0039, 0.0039, 0.0000, 0.7843, 0.9098, 0.9098,\n",
              "           0.9137, 0.8980, 0.8745, 0.8745, 0.8431, 0.8353, 0.6431, 0.4980,\n",
              "           0.4824, 0.7686, 0.8980, 0.0000],\n",
              "          [0.0000, 0.0000, 0.0000, 0.0000, 0.0000, 0.0000, 0.0000, 0.0000,\n",
              "           0.0000, 0.0000, 0.0000, 0.0000, 0.0000, 0.7176, 0.8824, 0.8471,\n",
              "           0.8745, 0.8941, 0.9216, 0.8902, 0.8784, 0.8706, 0.8784, 0.8667,\n",
              "           0.8745, 0.9608, 0.6784, 0.0000],\n",
              "          [0.0000, 0.0000, 0.0000, 0.0000, 0.0000, 0.0000, 0.0000, 0.0000,\n",
              "           0.0000, 0.0000, 0.0000, 0.0000, 0.0000, 0.7569, 0.8941, 0.8549,\n",
              "           0.8353, 0.7765, 0.7059, 0.8314, 0.8235, 0.8275, 0.8353, 0.8745,\n",
              "           0.8627, 0.9529, 0.7922, 0.0000],\n",
              "          [0.0000, 0.0000, 0.0000, 0.0000, 0.0000, 0.0000, 0.0000, 0.0000,\n",
              "           0.0000, 0.0039, 0.0118, 0.0000, 0.0471, 0.8588, 0.8627, 0.8314,\n",
              "           0.8549, 0.7529, 0.6627, 0.8902, 0.8157, 0.8549, 0.8784, 0.8314,\n",
              "           0.8863, 0.7725, 0.8196, 0.2039],\n",
              "          [0.0000, 0.0000, 0.0000, 0.0000, 0.0000, 0.0000, 0.0000, 0.0000,\n",
              "           0.0000, 0.0000, 0.0235, 0.0000, 0.3882, 0.9569, 0.8706, 0.8627,\n",
              "           0.8549, 0.7961, 0.7765, 0.8667, 0.8431, 0.8353, 0.8706, 0.8627,\n",
              "           0.9608, 0.4667, 0.6549, 0.2196],\n",
              "          [0.0000, 0.0000, 0.0000, 0.0000, 0.0000, 0.0000, 0.0000, 0.0000,\n",
              "           0.0000, 0.0157, 0.0000, 0.0000, 0.2157, 0.9255, 0.8941, 0.9020,\n",
              "           0.8941, 0.9412, 0.9098, 0.8353, 0.8549, 0.8745, 0.9176, 0.8510,\n",
              "           0.8510, 0.8196, 0.3608, 0.0000],\n",
              "          [0.0000, 0.0000, 0.0039, 0.0157, 0.0235, 0.0275, 0.0078, 0.0000,\n",
              "           0.0000, 0.0000, 0.0000, 0.0000, 0.9294, 0.8863, 0.8510, 0.8745,\n",
              "           0.8706, 0.8588, 0.8706, 0.8667, 0.8471, 0.8745, 0.8980, 0.8431,\n",
              "           0.8549, 1.0000, 0.3020, 0.0000],\n",
              "          [0.0000, 0.0118, 0.0000, 0.0000, 0.0000, 0.0000, 0.0000, 0.0000,\n",
              "           0.0000, 0.2431, 0.5686, 0.8000, 0.8941, 0.8118, 0.8353, 0.8667,\n",
              "           0.8549, 0.8157, 0.8275, 0.8549, 0.8784, 0.8745, 0.8588, 0.8431,\n",
              "           0.8784, 0.9569, 0.6235, 0.0000],\n",
              "          [0.0000, 0.0000, 0.0000, 0.0000, 0.0706, 0.1725, 0.3216, 0.4196,\n",
              "           0.7412, 0.8941, 0.8627, 0.8706, 0.8510, 0.8863, 0.7843, 0.8039,\n",
              "           0.8275, 0.9020, 0.8784, 0.9176, 0.6902, 0.7373, 0.9804, 0.9725,\n",
              "           0.9137, 0.9333, 0.8431, 0.0000],\n",
              "          [0.0000, 0.2235, 0.7333, 0.8157, 0.8784, 0.8667, 0.8784, 0.8157,\n",
              "           0.8000, 0.8392, 0.8157, 0.8196, 0.7843, 0.6235, 0.9608, 0.7569,\n",
              "           0.8078, 0.8745, 1.0000, 1.0000, 0.8667, 0.9176, 0.8667, 0.8275,\n",
              "           0.8627, 0.9098, 0.9647, 0.0000],\n",
              "          [0.0118, 0.7922, 0.8941, 0.8784, 0.8667, 0.8275, 0.8275, 0.8392,\n",
              "           0.8039, 0.8039, 0.8039, 0.8627, 0.9412, 0.3137, 0.5882, 1.0000,\n",
              "           0.8980, 0.8667, 0.7373, 0.6039, 0.7490, 0.8235, 0.8000, 0.8196,\n",
              "           0.8706, 0.8941, 0.8824, 0.0000],\n",
              "          [0.3843, 0.9137, 0.7765, 0.8235, 0.8706, 0.8980, 0.8980, 0.9176,\n",
              "           0.9765, 0.8627, 0.7608, 0.8431, 0.8510, 0.9451, 0.2549, 0.2863,\n",
              "           0.4157, 0.4588, 0.6588, 0.8588, 0.8667, 0.8431, 0.8510, 0.8745,\n",
              "           0.8745, 0.8784, 0.8980, 0.1137],\n",
              "          [0.2941, 0.8000, 0.8314, 0.8000, 0.7569, 0.8039, 0.8275, 0.8824,\n",
              "           0.8471, 0.7255, 0.7725, 0.8078, 0.7765, 0.8353, 0.9412, 0.7647,\n",
              "           0.8902, 0.9608, 0.9373, 0.8745, 0.8549, 0.8314, 0.8196, 0.8706,\n",
              "           0.8627, 0.8667, 0.9020, 0.2627],\n",
              "          [0.1882, 0.7961, 0.7176, 0.7608, 0.8353, 0.7725, 0.7255, 0.7451,\n",
              "           0.7608, 0.7529, 0.7922, 0.8392, 0.8588, 0.8667, 0.8627, 0.9255,\n",
              "           0.8824, 0.8471, 0.7804, 0.8078, 0.7294, 0.7098, 0.6941, 0.6745,\n",
              "           0.7098, 0.8039, 0.8078, 0.4510],\n",
              "          [0.0000, 0.4784, 0.8588, 0.7569, 0.7020, 0.6706, 0.7176, 0.7686,\n",
              "           0.8000, 0.8235, 0.8353, 0.8118, 0.8275, 0.8235, 0.7843, 0.7686,\n",
              "           0.7608, 0.7490, 0.7647, 0.7490, 0.7765, 0.7529, 0.6902, 0.6118,\n",
              "           0.6549, 0.6941, 0.8235, 0.3608],\n",
              "          [0.0000, 0.0000, 0.2902, 0.7412, 0.8314, 0.7490, 0.6863, 0.6745,\n",
              "           0.6863, 0.7098, 0.7255, 0.7373, 0.7412, 0.7373, 0.7569, 0.7765,\n",
              "           0.8000, 0.8196, 0.8235, 0.8235, 0.8275, 0.7373, 0.7373, 0.7608,\n",
              "           0.7529, 0.8471, 0.6667, 0.0000],\n",
              "          [0.0078, 0.0000, 0.0000, 0.0000, 0.2588, 0.7843, 0.8706, 0.9294,\n",
              "           0.9373, 0.9490, 0.9647, 0.9529, 0.9569, 0.8667, 0.8627, 0.7569,\n",
              "           0.7490, 0.7020, 0.7137, 0.7137, 0.7098, 0.6902, 0.6510, 0.6588,\n",
              "           0.3882, 0.2275, 0.0000, 0.0000],\n",
              "          [0.0000, 0.0000, 0.0000, 0.0000, 0.0000, 0.0000, 0.0000, 0.1569,\n",
              "           0.2392, 0.1725, 0.2824, 0.1608, 0.1373, 0.0000, 0.0000, 0.0000,\n",
              "           0.0000, 0.0000, 0.0000, 0.0000, 0.0000, 0.0000, 0.0000, 0.0000,\n",
              "           0.0000, 0.0000, 0.0000, 0.0000],\n",
              "          [0.0000, 0.0000, 0.0000, 0.0000, 0.0000, 0.0000, 0.0000, 0.0000,\n",
              "           0.0000, 0.0000, 0.0000, 0.0000, 0.0000, 0.0000, 0.0000, 0.0000,\n",
              "           0.0000, 0.0000, 0.0000, 0.0000, 0.0000, 0.0000, 0.0000, 0.0000,\n",
              "           0.0000, 0.0000, 0.0000, 0.0000],\n",
              "          [0.0000, 0.0000, 0.0000, 0.0000, 0.0000, 0.0000, 0.0000, 0.0000,\n",
              "           0.0000, 0.0000, 0.0000, 0.0000, 0.0000, 0.0000, 0.0000, 0.0000,\n",
              "           0.0000, 0.0000, 0.0000, 0.0000, 0.0000, 0.0000, 0.0000, 0.0000,\n",
              "           0.0000, 0.0000, 0.0000, 0.0000]]]),\n",
              " 9)"
            ]
          },
          "metadata": {},
          "execution_count": 4
        }
      ]
    },
    {
      "cell_type": "code",
      "source": [
        "class_names = train_data.classes\n",
        "class_names"
      ],
      "metadata": {
        "colab": {
          "base_uri": "https://localhost:8080/"
        },
        "id": "gbQ5Eyy48zsY",
        "outputId": "dd792e3f-ecb1-4572-ebe8-dc2dcc45e7c2"
      },
      "execution_count": 5,
      "outputs": [
        {
          "output_type": "execute_result",
          "data": {
            "text/plain": [
              "['T-shirt/top',\n",
              " 'Trouser',\n",
              " 'Pullover',\n",
              " 'Dress',\n",
              " 'Coat',\n",
              " 'Sandal',\n",
              " 'Shirt',\n",
              " 'Sneaker',\n",
              " 'Bag',\n",
              " 'Ankle boot']"
            ]
          },
          "metadata": {},
          "execution_count": 5
        }
      ]
    },
    {
      "cell_type": "code",
      "source": [
        "class_to_idx = train_data.class_to_idx\n",
        "class_to_idx"
      ],
      "metadata": {
        "colab": {
          "base_uri": "https://localhost:8080/"
        },
        "id": "8C3aag0v9BJw",
        "outputId": "ac245ce3-b92b-4c40-e72f-ade557bd2bf1"
      },
      "execution_count": 6,
      "outputs": [
        {
          "output_type": "execute_result",
          "data": {
            "text/plain": [
              "{'T-shirt/top': 0,\n",
              " 'Trouser': 1,\n",
              " 'Pullover': 2,\n",
              " 'Dress': 3,\n",
              " 'Coat': 4,\n",
              " 'Sandal': 5,\n",
              " 'Shirt': 6,\n",
              " 'Sneaker': 7,\n",
              " 'Bag': 8,\n",
              " 'Ankle boot': 9}"
            ]
          },
          "metadata": {},
          "execution_count": 6
        }
      ]
    },
    {
      "cell_type": "code",
      "source": [
        "# Check the shape of our image\n",
        "print(f\"Image shape: {image.shape} -> [color_channels, height, width]\")\n",
        "print(f\"Image label: {class_names[label]}\")"
      ],
      "metadata": {
        "colab": {
          "base_uri": "https://localhost:8080/"
        },
        "id": "JXk4GssJ9Eh6",
        "outputId": "13c2a1c9-e104-496a-94ef-1c32677516e0"
      },
      "execution_count": 7,
      "outputs": [
        {
          "output_type": "stream",
          "name": "stdout",
          "text": [
            "Image shape: torch.Size([1, 28, 28]) -> [color_channels, height, width]\n",
            "Image label: Ankle boot\n"
          ]
        }
      ]
    },
    {
      "cell_type": "markdown",
      "source": [
        "### 1.2 Visualizing our data"
      ],
      "metadata": {
        "id": "rf7HbjN99IQj"
      }
    },
    {
      "cell_type": "code",
      "source": [
        "import matplotlib.pyplot as plt\n",
        "image, label = train_data[0]\n",
        "print(f\"Image shape: {image.shape}\")\n",
        "plt.imshow(image.squeeze())\n",
        "plt.title(label);"
      ],
      "metadata": {
        "colab": {
          "base_uri": "https://localhost:8080/",
          "height": 469
        },
        "id": "GURcWLdF9roM",
        "outputId": "dff1ea5f-02ef-4531-ad41-d8c4ec2c6fb1"
      },
      "execution_count": 8,
      "outputs": [
        {
          "output_type": "stream",
          "name": "stdout",
          "text": [
            "Image shape: torch.Size([1, 28, 28])\n"
          ]
        },
        {
          "output_type": "display_data",
          "data": {
            "text/plain": [
              "<Figure size 640x480 with 1 Axes>"
            ],
            "image/png": "[encoded data removed]"
          },
          "metadata": {}
        }
      ]
    },
    {
      "cell_type": "code",
      "source": [
        "plt.imshow(image.squeeze(), cmap=\"gray\")\n",
        "plt.title(class_names[label]);\n",
        "plt.axis('off');"
      ],
      "metadata": {
        "colab": {
          "base_uri": "https://localhost:8080/",
          "height": 428
        },
        "id": "zcnmVSwL9tb9",
        "outputId": "60658dc4-8301-4957-8c6e-be51291cf5a9"
      },
      "execution_count": 9,
      "outputs": [
        {
          "output_type": "display_data",
          "data": {
            "text/plain": [
              "<Figure size 640x480 with 1 Axes>"
            ],
            "image/png": "[encoded data removed]"
          },
          "metadata": {}
        }
      ]
    },
    {
      "cell_type": "code",
      "source": [
        "# Plot more images\n",
        "torch.manual_seed(42)\n",
        "fig = plt.figure(figsize=(9, 9))\n",
        "rows, cols = 4, 4\n",
        "for i in range(1, rows*cols+1):\n",
        "  random_idx = torch.randint(0, len(train_data), size=[1]).item()\n",
        "  img, label = train_data[random_idx]\n",
        "  fig.add_subplot(rows, cols, i)\n",
        "  plt.imshow(img.squeeze(), cmap=\"gray\")\n",
        "  plt.title(class_names[label])\n",
        "  plt.axis(False);"
      ],
      "metadata": {
        "colab": {
          "base_uri": "https://localhost:8080/",
          "height": 752
        },
        "id": "Nk8SiKAA-Jrk",
        "outputId": "83132ba3-147c-477d-edd8-af71f2e4387d"
      },
      "execution_count": 10,
      "outputs": [
        {
          "output_type": "display_data",
          "data": {
            "text/plain": [
              "<Figure size 900x900 with 16 Axes>"
            ],
            "image/png": "[encoded data removed]"
          },
          "metadata": {}
        }
      ]
    },
    {
      "cell_type": "markdown",
      "source": [
        "Do you think these items of clothing (images) could be modelled with pure linear lines? Or do you think we'll need non-linearities?"
      ],
      "metadata": {
        "id": "Q1B3l6g4-cHl"
      }
    },
    {
      "cell_type": "markdown",
      "source": [
        "## 2. Prepare DataLoader\n",
        "\n",
        "Right now, our data is in the form of PyTorch Datasets.\n",
        "\n",
        "DataLoader turns our data into a Python iterable.\n",
        "\n",
        "More specifically, we want to turn our data into batches (or mini-batches).\n",
        "\n",
        "Why would we do this?\n",
        "\n",
        "1. It is more computationally efficient, as in, your computing hardware may not be able to look (store in memory) at 60000 images in one hit. So we break it down to 32 images at a time (batch size of 32).\n",
        "2. It gives our neural network more chances to update its gradients per epoch.\n",
        "\n",
        "See why 32 is best here - https://x.com/ylecun/status/989610208497360896?lang=en"
      ],
      "metadata": {
        "id": "SlECDSP-_jAh"
      }
    },
    {
      "cell_type": "code",
      "source": [
        "from torch.utils.data import DataLoader\n",
        "\n",
        "# Setup the batch size hyperparameter\n",
        "BATCH_SIZE = 32\n",
        "\n",
        "# Turn datasets into iterables (loaders)\n",
        "train_dataloader = DataLoader(dataset = train_data,\n",
        "                              batch_size = BATCH_SIZE,\n",
        "                              shuffle = True)\n",
        "test_dataloader = DataLoader(dataset = test_data,\n",
        "                             batch_size = BATCH_SIZE,\n",
        "                             shuffle = False)\n",
        "\n",
        "train_dataloader, test_dataloader"
      ],
      "metadata": {
        "colab": {
          "base_uri": "https://localhost:8080/"
        },
        "id": "4ZzQBiuZ_2Be",
        "outputId": "69d27456-5459-4342-c33f-7dfa60a7c478"
      },
      "execution_count": 11,
      "outputs": [
        {
          "output_type": "execute_result",
          "data": {
            "text/plain": [
              "(<torch.utils.data.dataloader.DataLoader at 0x7e01f1152ad0>,\n",
              " <torch.utils.data.dataloader.DataLoader at 0x7e01eede11d0>)"
            ]
          },
          "metadata": {},
          "execution_count": 11
        }
      ]
    },
    {
      "cell_type": "code",
      "source": [
        "# Let's check out what we've created\n",
        "print(f\"DataLoaders: {train_dataloader, test_dataloader}\")\n",
        "print(f\"Length of train_dataloader: {len(train_dataloader)} batches of {BATCH_SIZE}...\")\n",
        "print(f\"Length of test_dataloader: {len(test_dataloader)} batches of {BATCH_SIZE}...\")"
      ],
      "metadata": {
        "colab": {
          "base_uri": "https://localhost:8080/"
        },
        "id": "TfxzG7IjBQG5",
        "outputId": "a365706d-4eeb-4e81-da28-4d0b3499da18"
      },
      "execution_count": 12,
      "outputs": [
        {
          "output_type": "stream",
          "name": "stdout",
          "text": [
            "DataLoaders: (<torch.utils.data.dataloader.DataLoader object at 0x7e01f1152ad0>, <torch.utils.data.dataloader.DataLoader object at 0x7e01eede11d0>)\n",
            "Length of train_dataloader: 1875 batches of 32...\n",
            "Length of test_dataloader: 313 batches of 32...\n"
          ]
        }
      ]
    },
    {
      "cell_type": "code",
      "source": [
        "# Check out what's inside the training dataloader\n",
        "train_features_batch, train_labels_batch = next(iter(train_dataloader))\n",
        "train_features_batch.shape, train_labels_batch.shape"
      ],
      "metadata": {
        "colab": {
          "base_uri": "https://localhost:8080/"
        },
        "id": "o6G-RdUfB3y_",
        "outputId": "43c3e174-17cb-4c93-fe21-6c92f8e146a3"
      },
      "execution_count": 13,
      "outputs": [
        {
          "output_type": "execute_result",
          "data": {
            "text/plain": [
              "(torch.Size([32, 1, 28, 28]), torch.Size([32]))"
            ]
          },
          "metadata": {},
          "execution_count": 13
        }
      ]
    },
    {
      "cell_type": "code",
      "source": [
        "# Show a sample\n",
        "torch.manual_seed(42)\n",
        "random_idx = torch.randint(0, len(train_features_batch), size=[1]).item()\n",
        "img, label = train_features_batch[random_idx], train_labels_batch[random_idx]\n",
        "plt.imshow(img.squeeze(), cmap=\"gray\")\n",
        "plt.title(class_names[label])\n",
        "plt.axis(\"off\");\n",
        "print(f\"Image size: {img.shape}\")\n",
        "print(f\"Label: {label}, label size: {label.shape}\")"
      ],
      "metadata": {
        "colab": {
          "base_uri": "https://localhost:8080/",
          "height": 463
        },
        "id": "odIdqGdaBbLM",
        "outputId": "2d5fee05-d0a1-45ae-a05c-8828da98774e"
      },
      "execution_count": 14,
      "outputs": [
        {
          "output_type": "stream",
          "name": "stdout",
          "text": [
            "Image size: torch.Size([1, 28, 28])\n",
            "Label: 6, label size: torch.Size([])\n"
          ]
        },
        {
          "output_type": "display_data",
          "data": {
            "text/plain": [
              "<Figure size 640x480 with 1 Axes>"
            ],
            "image/png": "[encoded data removed]"
          },
          "metadata": {}
        }
      ]
    },
    {
      "cell_type": "markdown",
      "source": [
        "## 3. Model 0: Build a baseline model\n",
        "\n",
        "When starting to build a series of machine learning modelling experiments, it's best practice to start with a baseline model.\n",
        "\n",
        "A baseline model is a simple model you will try and improve upon with subsequent models/experiments.\n",
        "\n",
        "In other words: start simply and add complexity when necessary."
      ],
      "metadata": {
        "id": "kD3j8UgSCu8j"
      }
    },
    {
      "cell_type": "code",
      "source": [
        "# Create a flatten layer\n",
        "flatten_model = nn.Flatten()\n",
        "\n",
        "# Get a single_sample\n",
        "x = train_features_batch[0]\n",
        "\n",
        "# Flatten the sample\n",
        "output = flatten_model(x) # perform forward pass\n",
        "\n",
        "# Print out what happened\n",
        "print(f\"Shape before flattening: {x.shape}. -> [color_channels, height, width]\")\n",
        "print(f\"Shape after flattening: {output.shape}. -> [color_channels, height*width]\")"
      ],
      "metadata": {
        "colab": {
          "base_uri": "https://localhost:8080/"
        },
        "id": "sEjanLCmDQI5",
        "outputId": "1d124267-1b08-4a99-a672-d82b9ab66e52"
      },
      "execution_count": 15,
      "outputs": [
        {
          "output_type": "stream",
          "name": "stdout",
          "text": [
            "Shape before flattening: torch.Size([1, 28, 28]). -> [color_channels, height, width]\n",
            "Shape after flattening: torch.Size([1, 784]). -> [color_channels, height*width]\n"
          ]
        }
      ]
    },
    {
      "cell_type": "code",
      "source": [
        "from torch import nn\n",
        "\n",
        "class FashionMNISTModelV0(nn.Module):\n",
        "  def __init__(self,\n",
        "               input_shape: int,\n",
        "               hidden_units: int,\n",
        "               output_shape: int):\n",
        "    super().__init__()\n",
        "    self.layer_stack = nn.Sequential(\n",
        "        nn.Flatten(),\n",
        "        nn.Linear(in_features=input_shape,\n",
        "                  out_features=hidden_units),\n",
        "        nn.Linear(in_features = hidden_units,\n",
        "                  out_features = output_shape)\n",
        "    )\n",
        "  def forward(self, x):\n",
        "    return self.layer_stack(x)"
      ],
      "metadata": {
        "id": "iM78aYTbEZ6d"
      },
      "execution_count": 16,
      "outputs": []
    },
    {
      "cell_type": "code",
      "source": [
        "torch.manual_seed(42)\n",
        "\n",
        "# Setup model with input parameters\n",
        "model_0 = FashionMNISTModelV0(input_shape = 28 * 28, # 784 flattened\n",
        "                              hidden_units = 10, # how many units in the hidden layer\n",
        "                              output_shape = len(class_names) # one for every class\n",
        ").to(\"cpu\")\n",
        "model_0"
      ],
      "metadata": {
        "colab": {
          "base_uri": "https://localhost:8080/"
        },
        "id": "K4or8eDRFKe3",
        "outputId": "450d8c57-0f05-4986-8811-45f2798b8c7a"
      },
      "execution_count": 17,
      "outputs": [
        {
          "output_type": "execute_result",
          "data": {
            "text/plain": [
              "FashionMNISTModelV0(\n",
              "  (layer_stack): Sequential(\n",
              "    (0): Flatten(start_dim=1, end_dim=-1)\n",
              "    (1): Linear(in_features=784, out_features=10, bias=True)\n",
              "    (2): Linear(in_features=10, out_features=10, bias=True)\n",
              "  )\n",
              ")"
            ]
          },
          "metadata": {},
          "execution_count": 17
        }
      ]
    },
    {
      "cell_type": "code",
      "source": [
        "dummy_x = torch.rand([1, 1, 28, 28])\n",
        "model_0(dummy_x).size()"
      ],
      "metadata": {
        "colab": {
          "base_uri": "https://localhost:8080/"
        },
        "id": "RDMtUh4YFg9X",
        "outputId": "7be995d9-d3b4-4d5c-8756-40e507f5c0ba"
      },
      "execution_count": 18,
      "outputs": [
        {
          "output_type": "execute_result",
          "data": {
            "text/plain": [
              "torch.Size([1, 10])"
            ]
          },
          "metadata": {},
          "execution_count": 18
        }
      ]
    },
    {
      "cell_type": "code",
      "source": [
        "model_0.state_dict()"
      ],
      "metadata": {
        "colab": {
          "base_uri": "https://localhost:8080/"
        },
        "id": "5h9uUftSFrmW",
        "outputId": "965a6682-fc8f-43e2-b689-ffd8e6cc31a7"
      },
      "execution_count": 19,
      "outputs": [
        {
          "output_type": "execute_result",
          "data": {
            "text/plain": [
              "OrderedDict([('layer_stack.1.weight',\n",
              "              tensor([[ 0.0273,  0.0296, -0.0084,  ..., -0.0142,  0.0093,  0.0135],\n",
              "                      [-0.0188, -0.0354,  0.0187,  ..., -0.0106, -0.0001,  0.0115],\n",
              "                      [-0.0008,  0.0017,  0.0045,  ..., -0.0127, -0.0188,  0.0059],\n",
              "                      ...,\n",
              "                      [-0.0116,  0.0273, -0.0344,  ...,  0.0176,  0.0283, -0.0011],\n",
              "                      [-0.0230,  0.0257,  0.0291,  ..., -0.0187, -0.0087,  0.0001],\n",
              "                      [ 0.0176, -0.0147,  0.0053,  ..., -0.0336, -0.0221,  0.0205]])),\n",
              "             ('layer_stack.1.bias',\n",
              "              tensor([-0.0093,  0.0283, -0.0033,  0.0255,  0.0017,  0.0037, -0.0302, -0.0123,\n",
              "                       0.0018,  0.0163])),\n",
              "             ('layer_stack.2.weight',\n",
              "              tensor([[ 0.0614, -0.0687,  0.0021,  0.2718,  0.2109,  0.1079, -0.2279, -0.1063,\n",
              "                        0.2019,  0.2847],\n",
              "                      [-0.1495,  0.1344, -0.0740,  0.2006, -0.0475, -0.2514, -0.3130, -0.0118,\n",
              "                        0.0932, -0.1864],\n",
              "                      [ 0.2488,  0.1500,  0.1907,  0.1457, -0.3050, -0.0580,  0.1643,  0.1565,\n",
              "                       -0.2877, -0.1792],\n",
              "                      [ 0.2305, -0.2618,  0.2397, -0.0610,  0.0232,  0.1542,  0.0851, -0.2027,\n",
              "                        0.1030, -0.2715],\n",
              "                      [-0.1596, -0.0555, -0.0633,  0.2302, -0.1726,  0.2654,  0.1473,  0.1029,\n",
              "                        0.2252, -0.2160],\n",
              "                      [-0.2725,  0.0118,  0.1559,  0.1596,  0.0132,  0.3024,  0.1124,  0.1366,\n",
              "                       -0.1533,  0.0965],\n",
              "                      [-0.1184, -0.2555, -0.2057, -0.1909, -0.0477, -0.1324,  0.2905,  0.1307,\n",
              "                       -0.2629,  0.0133],\n",
              "                      [ 0.2727, -0.0127,  0.0513,  0.0863, -0.1043, -0.2047, -0.1185, -0.0825,\n",
              "                        0.2488, -0.2571],\n",
              "                      [ 0.0425, -0.1209, -0.0336, -0.0281, -0.1227,  0.0730,  0.0747, -0.1816,\n",
              "                        0.1943,  0.2853],\n",
              "                      [-0.1310,  0.0645, -0.1171,  0.2168, -0.0245, -0.2820,  0.0736,  0.2621,\n",
              "                        0.0012, -0.0810]])),\n",
              "             ('layer_stack.2.bias',\n",
              "              tensor([-0.0087,  0.1791,  0.2712, -0.0791,  0.1685,  0.1762,  0.2825,  0.2266,\n",
              "                      -0.2612, -0.2613]))])"
            ]
          },
          "metadata": {},
          "execution_count": 19
        }
      ]
    },
    {
      "cell_type": "markdown",
      "source": [
        "### 3.1 Setup loss, optimizer and evaluation metrics\n",
        "\n",
        "* Loss function - since we're working with multi-class data, our loss function will be `nn.CrossEntropyLoss()`\n",
        "* Optimizer - our optimizer `torch.optim.SGD()` (stochastic gradient descent)\n",
        "* Evaluation metric - since we're working with multi-class data, our evaluation metric will be `torchmetrics.Accuracy()`"
      ],
      "metadata": {
        "id": "bqyqqXhdGZRs"
      }
    },
    {
      "cell_type": "code",
      "source": [
        "import requests\n",
        "from pathlib import Path\n",
        "\n",
        "# Download helper function from Learn Pytorch repo\n",
        "\n",
        "if Path(\"helper_function.py\").is_file():\n",
        "  print(\"helper_function.py already exists, skipping download\")\n",
        "else:\n",
        "  print(\"Downloading helper_function.py\")\n",
        "  request = requests.get(\"https://raw.githubusercontent.com/mrdbourke/pytorch-deep-learning/main/helper_functions.py\")\n",
        "  with open(\"helper_function.py\", \"wb\") as f:\n",
        "    f.write(request.content)"
      ],
      "metadata": {
        "colab": {
          "base_uri": "https://localhost:8080/"
        },
        "id": "GVR-tuW5HLz4",
        "outputId": "ada97d63-bfc3-44ce-91c0-069d3e0bf3f6"
      },
      "execution_count": 20,
      "outputs": [
        {
          "output_type": "stream",
          "name": "stdout",
          "text": [
            "Downloading helper_function.py\n"
          ]
        }
      ]
    },
    {
      "cell_type": "code",
      "source": [
        "# Import accuracy metric\n",
        "from helper_function import accuracy_fn\n",
        "\n",
        "# Setup loss function and optimizer\n",
        "loss_fn = nn.CrossEntropyLoss()\n",
        "optimizer = torch.optim.SGD(params = model_0.parameters(),\n",
        "                            lr = 0.1)"
      ],
      "metadata": {
        "id": "VZzh_VCFHwvD"
      },
      "execution_count": 21,
      "outputs": []
    },
    {
      "cell_type": "markdown",
      "source": [
        "### 3.2 Creating a function to time our experiments\n",
        "\n",
        "Machine learning is very experimental.\n",
        "\n",
        "Two of the main things you'll often want to track are:\n",
        "\n",
        "1. Model's performance (loss and accuracy values etc)\n",
        "2. How fast it runs."
      ],
      "metadata": {
        "id": "wi_AzN72H2Rw"
      }
    },
    {
      "cell_type": "code",
      "source": [
        "from timeit import default_timer as timer\n",
        "\n",
        "def print_train_time(start: float,\n",
        "                     end: float,\n",
        "                     device: torch.device = None):\n",
        "  \"\"\"Prints difference between start and end time.\"\"\"\n",
        "  total_time = end - start\n",
        "  print(f\"Train time on {device}: {total_time:.3f} seconds\")\n",
        "  return total_time\n",
        "\n",
        "start_time = timer()\n",
        "# some code...\n",
        "end_time = timer()\n",
        "print_train_time(start_time, end_time, device=\"cpu\")"
      ],
      "metadata": {
        "colab": {
          "base_uri": "https://localhost:8080/"
        },
        "id": "7cHKsaM5IfVo",
        "outputId": "905b0f77-747f-4837-8f8a-392a102cdbff"
      },
      "execution_count": 22,
      "outputs": [
        {
          "output_type": "stream",
          "name": "stdout",
          "text": [
            "Train time on cpu: 0.000 seconds\n"
          ]
        },
        {
          "output_type": "execute_result",
          "data": {
            "text/plain": [
              "3.868800001782802e-05"
            ]
          },
          "metadata": {},
          "execution_count": 22
        }
      ]
    },
    {
      "cell_type": "markdown",
      "source": [
        "### 3.3 Creating a training loop and training a model on batches of data...\n",
        "\n",
        "1. Loop through epochs.\n",
        "2. Loop through training batches, perform training steps, calculate the train loss *per batch*.\n",
        "3. Loop through testing bacthes, perform testing steps, calculate the test loss *per batch*.\n",
        "4. Print out what's happening.\n",
        "5. Time it all (for fun)."
      ],
      "metadata": {
        "id": "O9hrb08hI-kK"
      }
    },
    {
      "cell_type": "code",
      "source": [
        "# Import tqdm for progress bar\n",
        "from tqdm.auto import tqdm\n",
        "\n",
        "# Set the seed and start the timer\n",
        "torch.manual_seed(42)\n",
        "train_time_start_on_cpu = timer()\n",
        "\n",
        "# Set the number of epochs (we'll keep this small for faster training time)\n",
        "epochs = 3\n",
        "\n",
        "# Create training and test loop\n",
        "for epoch in tqdm(range(epochs)):\n",
        "  print(f\"Epoch: {epoch}\\n------\")\n",
        "  ## Training\n",
        "  train_loss = 0\n",
        "  # Add a loop to loop through the training batches\n",
        "  for batch, (X, y) in enumerate(train_dataloader):\n",
        "    model_0.train()\n",
        "    # 1. Forward pass\n",
        "    y_pred = model_0(X)\n",
        "\n",
        "    # 2. Calculate the loss\n",
        "    loss = loss_fn(y_pred, y)\n",
        "    train_loss += loss # accumulate train loss\n",
        "\n",
        "    # 3. Zero the parameters (optimizer zero grad)\n",
        "    optimizer.zero_grad()\n",
        "\n",
        "    # 4. Backpropagation (loss backward)\n",
        "    loss.backward()\n",
        "\n",
        "    # 5. Optimizer step\n",
        "    optimizer.step()\n",
        "\n",
        "    # Print out what's happening\n",
        "    if batch % 400 == 0:\n",
        "      print(f\"Looked at {batch * len(X)} / {len(train_dataloader.dataset)} samples\")\n",
        "\n",
        "  # Divide total train loss by length of train dataloader\n",
        "  train_loss /= len(train_dataloader)\n",
        "\n",
        "  ### Testing\n",
        "  test_loss, test_acc = 0, 0\n",
        "  model_0.eval()\n",
        "  with torch.inference_mode():\n",
        "    for X_test, y_test in test_dataloader:\n",
        "      # 1. Forward pass\n",
        "      test_pred = model_0(X_test)\n",
        "\n",
        "      # 2. Calculate loss (accumulatively)\n",
        "      test_loss += loss_fn(test_pred, y_test)\n",
        "\n",
        "      # 3. Calculate accuracy\n",
        "      test_acc += accuracy_fn(y_true=y_test, y_pred=test_pred.argmax(dim=-1))\n",
        "\n",
        "    # Calculate the test loss average per batch\n",
        "    test_loss /= len(test_dataloader)\n",
        "\n",
        "    # Calculate the test acc average per batch\n",
        "    test_acc /= len(test_dataloader)\n",
        "\n",
        "  # Print out what's happening\n",
        "  print(f\"\\nTrain loss: {train_loss:.5f} | Test loss: {test_loss:.5f}, Test acc: {test_acc:.2f}\")\n",
        "\n",
        "# Calculate training time\n",
        "train_time_end_on_cpu = timer()\n",
        "total_train_time_model_0 = print_train_time(start=train_time_start_on_cpu,\n",
        "                                            end=train_time_end_on_cpu,\n",
        "                                            device=str(next(model_0.parameters()).device))"
      ],
      "metadata": {
        "colab": {
          "base_uri": "https://localhost:8080/",
          "height": 535,
          "referenced_widgets": [
            "f586dc4579894642b55ad407b0f8027a",
            "8b174c7ae5bf46e08a3fea6086507b66",
            "f744911ea63c4f02ba220d0b137c04b0",
            "247a54b918384721a7758494155f42b9",
            "086ccfb34b0d4eebb11489dc210dea1b",
            "46d68b3247224d6886b8cc5afbf6831e",
            "4ace819da3ca40e2b8acbe8b419d307f",
            "c1dbbfc5f5b7425686a66a886642a657",
            "a2e04e92c96240b88896157f14bfb15a",
            "800d2131f8ef4a0d87db5f8aa9ce8186",
            "761f78ac94574b3eb2c1dfcf5b4f131d"
          ]
        },
        "id": "Ef3zUO6XJiwn",
        "outputId": "e05e1338-3e6b-4e30-e565-a6ed2fe9b186"
      },
      "execution_count": 23,
      "outputs": [
        {
          "output_type": "display_data",
          "data": {
            "text/plain": [
              "  0%|          | 0/3 [00:00<?, ?it/s]"
            ],
            "application/vnd.jupyter.widget-view+json": {
              "version_major": 2,
              "version_minor": 0,
              "model_id": "f586dc4579894642b55ad407b0f8027a"
            }
          },
          "metadata": {}
        },
        {
          "output_type": "stream",
          "name": "stdout",
          "text": [
            "Epoch: 0\n",
            "------\n",
            "Looked at 0 / 60000 samples\n",
            "Looked at 12800 / 60000 samples\n",
            "Looked at 25600 / 60000 samples\n",
            "Looked at 38400 / 60000 samples\n",
            "Looked at 51200 / 60000 samples\n",
            "\n",
            "Train loss: 0.59039 | Test loss: 0.50954, Test acc: 82.04\n",
            "Epoch: 1\n",
            "------\n",
            "Looked at 0 / 60000 samples\n",
            "Looked at 12800 / 60000 samples\n",
            "Looked at 25600 / 60000 samples\n",
            "Looked at 38400 / 60000 samples\n",
            "Looked at 51200 / 60000 samples\n",
            "\n",
            "Train loss: 0.47633 | Test loss: 0.47989, Test acc: 83.20\n",
            "Epoch: 2\n",
            "------\n",
            "Looked at 0 / 60000 samples\n",
            "Looked at 12800 / 60000 samples\n",
            "Looked at 25600 / 60000 samples\n",
            "Looked at 38400 / 60000 samples\n",
            "Looked at 51200 / 60000 samples\n",
            "\n",
            "Train loss: 0.45503 | Test loss: 0.47664, Test acc: 83.43\n",
            "Train time on cpu: 24.715 seconds\n"
          ]
        }
      ]
    },
    {
      "cell_type": "markdown",
      "source": [
        "## 4. Make predictions and get Model 0 results\n"
      ],
      "metadata": {
        "id": "ITvmNcdhMtTE"
      }
    },
    {
      "cell_type": "code",
      "source": [
        "torch.manual_seed(42)\n",
        "def eval_model(model: torch.nn.Module,\n",
        "               data_loader: torch.utils.data.DataLoader,\n",
        "               loss_fn: torch.nn.Module,\n",
        "               accuracy_fn,\n",
        "               device: torch.device):\n",
        "  \"\"\"Returns a dictionary containing the result sof model predicting on data_loader.\"\"\"\n",
        "\n",
        "  loss, acc = 0, 0\n",
        "  model.eval()\n",
        "\n",
        "  with torch.inference_mode():\n",
        "    for X, y in data_loader:\n",
        "      X, y = X.to(device), y.to(device)\n",
        "      # Make predictions\n",
        "      preds = model(X)\n",
        "\n",
        "      # Accumulate the loss and acc values per batch\n",
        "      loss += loss_fn(preds, y)\n",
        "      acc += accuracy_fn(y_true = y, y_pred = preds.argmax(dim=-1))\n",
        "\n",
        "  # Scale loss and acc to find the average loss/acc per batch\n",
        "  loss = loss / len(data_loader)\n",
        "  acc = acc / len(data_loader)\n",
        "  return {\"model_name\": model.__class__.__name__, # only works when modle was created with a class\n",
        "          \"loss\": loss.item(),\n",
        "          \"acc\": acc}\n",
        "\n",
        "# Calculate model 0 results on test dataset\n",
        "model_0_results = eval_model(model = model_0,\n",
        "                             data_loader = test_dataloader,\n",
        "                             loss_fn = loss_fn,\n",
        "                             accuracy_fn = accuracy_fn,\n",
        "                             device=\"cpu\")\n",
        "model_0_results"
      ],
      "metadata": {
        "colab": {
          "base_uri": "https://localhost:8080/"
        },
        "id": "HZu9XIU6Nwgx",
        "outputId": "b2844ca8-5426-4776-c9cf-d43b294042af"
      },
      "execution_count": 52,
      "outputs": [
        {
          "output_type": "execute_result",
          "data": {
            "text/plain": [
              "{'model_name': 'FashionMNISTModelV0',\n",
              " 'loss': 0.47663888335227966,\n",
              " 'acc': 83.42651757188499}"
            ]
          },
          "metadata": {},
          "execution_count": 52
        }
      ]
    },
    {
      "cell_type": "markdown",
      "source": [
        "## 5. Setup device agnostic-code (for using a GPU if there is one)\n"
      ],
      "metadata": {
        "id": "EyQErvG-PYA1"
      }
    },
    {
      "cell_type": "code",
      "source": [
        "device = \"cuda\" if torch.cuda.is_available() else \"cpu\"\n",
        "print(f\"Using device: {device}...\")"
      ],
      "metadata": {
        "colab": {
          "base_uri": "https://localhost:8080/"
        },
        "id": "IjC97YCqOP79",
        "outputId": "115dbc97-da13-47c9-f01f-521210bd1bd4"
      },
      "execution_count": 25,
      "outputs": [
        {
          "output_type": "stream",
          "name": "stdout",
          "text": [
            "Using device: cuda...\n"
          ]
        }
      ]
    },
    {
      "cell_type": "markdown",
      "source": [
        "## 6. Model 1: Building a better model with non-linearity\n",
        "\n",
        "We've learned about the power of non-linearity in notebook 02 - https://www.learnpytorch.io/02_pytorch_classification/#6-the-missing-piece-non-linearity"
      ],
      "metadata": {
        "id": "XofdcGIVPSKM"
      }
    },
    {
      "cell_type": "code",
      "source": [
        "# Create a model with non-linear and linear layers\n",
        "\n",
        "class FashionMNISTModelV1(nn.Module):\n",
        "\n",
        "  def __init__(self, input_shape: int, hidden_units: int, output_shape: int):\n",
        "    super().__init__()\n",
        "    self.layer_stack = nn.Sequential(\n",
        "        nn.Flatten(), # flatten inputs into a single vector\n",
        "        nn.Linear(in_features = input_shape,\n",
        "                  out_features = hidden_units),\n",
        "        nn.ReLU(),\n",
        "        nn.Linear(in_features = hidden_units,\n",
        "                  out_features = output_shape),\n",
        "        nn.ReLU()\n",
        "    )\n",
        "\n",
        "  def forward(self, x: torch.Tensor):\n",
        "    return self.layer_stack(x)\n"
      ],
      "metadata": {
        "id": "Rw7OOI67QC1l"
      },
      "execution_count": 42,
      "outputs": []
    },
    {
      "cell_type": "code",
      "source": [
        "# Create an instance of model_1\n",
        "torch.manual_seed(42)\n",
        "model_1 = FashionMNISTModelV1(input_shape = 784,\n",
        "                              hidden_units = 10,\n",
        "                              output_shape = len(class_names)).to(device)\n",
        "next(model_1.parameters()).device"
      ],
      "metadata": {
        "colab": {
          "base_uri": "https://localhost:8080/"
        },
        "id": "6GPBdcRJQ1LU",
        "outputId": "d6330c9f-a163-4461-8f2c-20e429247b0f"
      },
      "execution_count": 43,
      "outputs": [
        {
          "output_type": "execute_result",
          "data": {
            "text/plain": [
              "device(type='cuda', index=0)"
            ]
          },
          "metadata": {},
          "execution_count": 43
        }
      ]
    },
    {
      "cell_type": "markdown",
      "source": [
        "### 6.1 Setup loss, optimizer and evaluation metrics"
      ],
      "metadata": {
        "id": "LdinHCYhRcDR"
      }
    },
    {
      "cell_type": "code",
      "source": [
        "from helper_function import accuracy_fn\n",
        "loss_fn = nn.CrossEntropyLoss() # measure how wrong our model is\n",
        "optimizer = torch.optim.SGD(params = model_1.parameters(), # tries to update our model's parameters to reduce the loss\n",
        "                            lr = 0.1)"
      ],
      "metadata": {
        "id": "2M44AHlFROiz"
      },
      "execution_count": 44,
      "outputs": []
    },
    {
      "cell_type": "markdown",
      "source": [
        "### 6.2 Functionizing training and evaluation/testing loops\n",
        "\n",
        "Let's create a function for:\n",
        "* training loop - `train_step()`\n",
        "* testing loop - `test_step()`"
      ],
      "metadata": {
        "id": "lFy_wXnPRaJs"
      }
    },
    {
      "cell_type": "code",
      "source": [
        "def train_step(model: torch.nn.Module,\n",
        "               data_loader: torch.utils.data.DataLoader,\n",
        "               loss_fn: torch.nn.Module,\n",
        "               optimizer: torch.optim.Optimizer,\n",
        "               accuracy_fn,\n",
        "               device: torch.device = device):\n",
        "  \"\"\"Performs a training with model trying to learn on data_loader for 1 epoch.\"\"\"\n",
        "  train_loss, train_acc = 0, 0\n",
        "  model.train()\n",
        "  for batch, (X, y) in enumerate(data_loader):\n",
        "    # Put data on target device\n",
        "    X, y = X.to(device), y.to(device)\n",
        "    # 1. Forward pass\n",
        "    y_pred = model(X)\n",
        "    # 2. Calculate the loss and acc\n",
        "    loss = loss_fn(y_pred, y)\n",
        "    train_loss += loss\n",
        "    acc = accuracy_fn(y_true = y, y_pred = y_pred.argmax(dim=-1))\n",
        "    train_acc += acc\n",
        "    # 3. Optimizer zero grad\n",
        "    optimizer.zero_grad()\n",
        "    # 4. Loss backward\n",
        "    loss.backward()\n",
        "    # 5. Optimizer step\n",
        "    optimizer.step()\n",
        "    # # Print out what's happening\n",
        "    # if batch % 400 == 0:\n",
        "    #   print(f\"Looked at {batch * len(X)} / {len(data_loader.dataset)} samples\")\n",
        "  train_loss = train_loss / len(data_loader)\n",
        "  train_acc = train_acc / len(data_loader)\n",
        "  print(f\"Train loss: {train_loss:.5f} | Train acc: {train_acc:.2f}%\")"
      ],
      "metadata": {
        "id": "o4tAEImZR9bP"
      },
      "execution_count": 48,
      "outputs": []
    },
    {
      "cell_type": "code",
      "source": [
        "def test_step(model: torch.nn.Module,\n",
        "              data_loader: torch.utils.data.DataLoader,\n",
        "              loss_fn: torch.nn.Module,\n",
        "              accuracy,\n",
        "              device: torch.device = device):\n",
        "  \"\"\"Performs a testing loop step on model going over data_loader.\"\"\"\n",
        "  test_loss, test_acc = 0, 0\n",
        "  # Put the model in eval mode\n",
        "  model.eval()\n",
        "  # Turn on inference mode context managerr\n",
        "  with torch.inference_mode():\n",
        "    for X, y in data_loader:\n",
        "      # Send the data to the target device\n",
        "      X, y = X.to(device), y.to(device)\n",
        "      # 1. Forward passs\n",
        "      test_pred = model(X)\n",
        "      # 2. Calculate the loss and acc\n",
        "      loss = loss_fn(test_pred, y)\n",
        "      test_loss += loss\n",
        "      acc = accuracy_fn(y_true = y, y_pred = test_pred.argmax(dim=-1)) # go from logits -> prediction labels\n",
        "      test_acc += acc\n",
        "  # Adjust metrics and print out\n",
        "  test_loss = test_loss / len(data_loader)\n",
        "  test_acc = test_acc / len(data_loader)\n",
        "  print(f\"Test loss: {test_loss:.5f} | Test acc: {test_acc:.2f}%\")"
      ],
      "metadata": {
        "id": "K-dcogy2TVaS"
      },
      "execution_count": 49,
      "outputs": []
    },
    {
      "cell_type": "code",
      "source": [
        "torch.manual_seed(42)\n",
        "\n",
        "# Measure time\n",
        "from timeit import default_timer as timer\n",
        "train_time_start_on_gpu = timer()\n",
        "\n",
        "# Set epochs\n",
        "epochs = 3\n",
        "\n",
        "# Create a optimization and evaluation loop using train_step() and test_step()\n",
        "for epoch in tqdm(range(epochs)):\n",
        "  print(f\"Epoch: {epoch}\\n--------\")\n",
        "  train_step(model = model_1,\n",
        "             data_loader = train_dataloader,\n",
        "             loss_fn = loss_fn,\n",
        "             optimizer = optimizer,\n",
        "             accuracy_fn = accuracy_fn,\n",
        "             device = device)\n",
        "  test_step(model = model_1,\n",
        "            data_loader = test_dataloader,\n",
        "            loss_fn = loss_fn,\n",
        "            accuracy = accuracy_fn,\n",
        "            device = device)\n",
        "train_time_end_on_gpu = timer()\n",
        "total_train_time_model_1 = print_train_time(train_time_start_on_gpu,\n",
        "                                            train_time_end_on_gpu,\n",
        "                                            device)"
      ],
      "metadata": {
        "colab": {
          "base_uri": "https://localhost:8080/",
          "height": 275,
          "referenced_widgets": [
            "b4d712c814a946dc8d397241687e6bd5",
            "b671444b9bdb4fb7af90ee790ce33ff3",
            "0926f2d109d9424284cf9bbe84dac176",
            "7d3a6300cf474369b549547127f3b23a",
            "21aca0849a4449e8acbbf3e2dd72abd6",
            "f460c5b77f5d4b9b9d5b5f0c674f5102",
            "0d20ce9e2b974a9aa7c31043427c8dc6",
            "014298253c5f4bbab6507d2918b6a680",
            "588d7892fd0449c4bba1acee16eb4686",
            "0a4ddf9cfd474afdbf33621e1498e186",
            "3fbc8f89c7ed44278e757e6719f58915"
          ]
        },
        "id": "-8mAaR0AUYPM",
        "outputId": "bf546242-5b72-48c2-f33e-c171b6cfa83b"
      },
      "execution_count": 47,
      "outputs": [
        {
          "output_type": "display_data",
          "data": {
            "text/plain": [
              "  0%|          | 0/3 [00:00<?, ?it/s]"
            ],
            "application/vnd.jupyter.widget-view+json": {
              "version_major": 2,
              "version_minor": 0,
              "model_id": "b4d712c814a946dc8d397241687e6bd5"
            }
          },
          "metadata": {}
        },
        {
          "output_type": "stream",
          "name": "stdout",
          "text": [
            "Epoch: 0\n",
            "--------\n",
            "Train loss: 1.09199 | Train acc: 61.34\n",
            "Test loss: 0.95636 | Test acc: 65.00\n",
            "Epoch: 1\n",
            "--------\n",
            "Train loss: 0.78101 | Train acc: 71.93\n",
            "Test loss: 0.72227 | Test acc: 73.91\n",
            "Epoch: 2\n",
            "--------\n",
            "Train loss: 0.67027 | Train acc: 75.94\n",
            "Test loss: 0.68500 | Test acc: 75.02\n",
            "Train time on cuda: 29.063 seconds\n"
          ]
        }
      ]
    },
    {
      "cell_type": "code",
      "source": [
        "total_train_time_model_0, total_train_time_model_1"
      ],
      "metadata": {
        "colab": {
          "base_uri": "https://localhost:8080/"
        },
        "id": "gu0S0UVjXH8e",
        "outputId": "fda5c986-b3e8-444a-b695-0c51b2244ae1"
      },
      "execution_count": 56,
      "outputs": [
        {
          "output_type": "execute_result",
          "data": {
            "text/plain": [
              "(24.714771776999953, 29.062869656999737)"
            ]
          },
          "metadata": {},
          "execution_count": 56
        }
      ]
    },
    {
      "cell_type": "markdown",
      "source": [
        "> **Note**: Sometimes, dependiing on your data / hardware you might find that your model trains faster on CPU than GPU.\n",
        "\n",
        ">\n",
        "> Why is this?\n",
        ">\n",
        "> 1. It could be that the overhead for copying data/model to and from the GPU outweighs the compute benefits offered by the GPU.\n",
        "> 2. The hardware you're using has a better CPU in terms of compute capability that the GPU.\n",
        ">\n",
        "> For more on how to make your models compute faster, see here: https://horace.io/brrr_intro.html"
      ],
      "metadata": {
        "id": "G1ZMEWBeVp6j"
      }
    },
    {
      "cell_type": "code",
      "source": [
        "model_0_results"
      ],
      "metadata": {
        "colab": {
          "base_uri": "https://localhost:8080/"
        },
        "id": "wLiCEvDJXFbl",
        "outputId": "9256e37e-70e5-4bd2-90ec-1c43aeefd59f"
      },
      "execution_count": 55,
      "outputs": [
        {
          "output_type": "execute_result",
          "data": {
            "text/plain": [
              "{'model_name': 'FashionMNISTModelV0',\n",
              " 'loss': 0.47663888335227966,\n",
              " 'acc': 83.42651757188499}"
            ]
          },
          "metadata": {},
          "execution_count": 55
        }
      ]
    },
    {
      "cell_type": "code",
      "source": [
        "# Get model_1 results dictionary\n",
        "\n",
        "model_1_results = eval_model(model = model_1,\n",
        "                             data_loader = test_dataloader,\n",
        "                             loss_fn = loss_fn,\n",
        "                             accuracy_fn = accuracy_fn,\n",
        "                             device = device)\n",
        "model_1_results"
      ],
      "metadata": {
        "colab": {
          "base_uri": "https://localhost:8080/"
        },
        "id": "9A_sZ58-VQUC",
        "outputId": "4a7a5988-55c6-45ed-a186-dd4ed3e89f42"
      },
      "execution_count": 54,
      "outputs": [
        {
          "output_type": "execute_result",
          "data": {
            "text/plain": [
              "{'model_name': 'FashionMNISTModelV1',\n",
              " 'loss': 0.6850008964538574,\n",
              " 'acc': 75.01996805111821}"
            ]
          },
          "metadata": {},
          "execution_count": 54
        }
      ]
    },
    {
      "cell_type": "markdown",
      "source": [
        "## Model 2: Building a Convolutional Neural Network (CNN)\n",
        "\n",
        "CNN's are also known as ConvNets.\n",
        "\n",
        "CNN's are known for their capabilities to find patterns in visual data."
      ],
      "metadata": {
        "id": "2sxpQ-X9XCBu"
      }
    },
    {
      "cell_type": "code",
      "source": [
        "# Create a convolutional neural network\n",
        "\n",
        "class FashionMNISTModelV2(nn.Module):\n",
        "  \"\"\"\n",
        "  Model architrecture that replicates the TinyVGG\n",
        "  from the CNN explainer website.\n",
        "  \"\"\"\n",
        "  def __init__(self,\n",
        "               input_shape: int,\n",
        "               hidden_units: int,\n",
        "               output_shape: int):\n",
        "    super().__init__()\n",
        "    self.conv_block_1 = nn.Sequential(\n",
        "        # Create a conv layer - https://pytorch.org/docs/stable/generated/torch.nn.Conv2d.html\n",
        "        nn.Conv2d(in_channels = input_shape,\n",
        "                  out_channels = hidden_units,\n",
        "                  kernel_size = 3,\n",
        "                  stride = 1,\n",
        "                  padding = 1), # values we can set ourselves in our NN's are called hyperparams\n",
        "        nn.ReLU(),\n",
        "        nn.Conv2d(in_channels = hidden_units,\n",
        "                  out_channels = hidden_units,\n",
        "                  kernel_size = 3,\n",
        "                  stride = 1,\n",
        "                  padding = 1),\n",
        "        nn.ReLU(),\n",
        "        nn.MaxPool2d(kernel_size = (2, 2))\n",
        "    )\n",
        "    self.conv_block_2 = nn.Sequential(\n",
        "        nn.Conv2d(in_channels = hidden_units,\n",
        "                  out_channels = hidden_units,\n",
        "                  kernel_size = 3,\n",
        "                  stride = 1,\n",
        "                  padding = 1),\n",
        "        nn.ReLU(),\n",
        "        nn.Conv2d(in_channels = hidden_units,\n",
        "                  out_channels = hidden_units,\n",
        "                  kernel_size = 3,\n",
        "                  stride = 1,\n",
        "                  padding = 1),\n",
        "        nn.ReLU(),\n",
        "        nn.MaxPool2d(kernel_size = (2, 2))\n",
        "    )\n",
        "    self.classifier = nn.Sequential(\n",
        "        nn.Flatten(),\n",
        "        nn.Linear(in_features = hidden_units * 7 * 7, # there's a trick to calculating this...\n",
        "                  out_features = output_shape)\n",
        "    )\n",
        "\n",
        "  def forward(self, x: torch.Tensor):\n",
        "    x = self.conv_block_1(x)\n",
        "    # print(x.shape)\n",
        "    x = self.conv_block_2(x)\n",
        "    # print(x.shape)\n",
        "    x = self.classifier(x)\n",
        "    # print(x.shape)\n",
        "    return x\n",
        "    # return self.classifier(self.conv_block_2(self.conv_block_1(x))) # <- leverage the benefits of operator fusion"
      ],
      "metadata": {
        "id": "qRHLzNJXXYuZ"
      },
      "execution_count": 106,
      "outputs": []
    },
    {
      "cell_type": "code",
      "source": [
        "torch.manual_seed(42)\n",
        "model_2 = FashionMNISTModelV2(input_shape = 1,\n",
        "                              hidden_units = 10,\n",
        "                              output_shape = len(class_names)).to(device)\n"
      ],
      "metadata": {
        "id": "m3rQMI-ebWpr"
      },
      "execution_count": 107,
      "outputs": []
    },
    {
      "cell_type": "code",
      "source": [
        "rand_image_tensor = torch.randn(size=(1, 28, 28)).to(device)\n",
        "rand_image_tensor.shape"
      ],
      "metadata": {
        "colab": {
          "base_uri": "https://localhost:8080/"
        },
        "id": "HcPubSx7gtjk",
        "outputId": "bcca853d-0396-407d-d7a4-3400955cb720"
      },
      "execution_count": 108,
      "outputs": [
        {
          "output_type": "execute_result",
          "data": {
            "text/plain": [
              "torch.Size([1, 28, 28])"
            ]
          },
          "metadata": {},
          "execution_count": 108
        }
      ]
    },
    {
      "cell_type": "code",
      "source": [
        "model_2(rand_image_tensor.unsqueeze(0))"
      ],
      "metadata": {
        "colab": {
          "base_uri": "https://localhost:8080/"
        },
        "id": "v1NFkucSggsI",
        "outputId": "f82311df-2533-4d30-e04a-e6ec4137268f"
      },
      "execution_count": 109,
      "outputs": [
        {
          "output_type": "execute_result",
          "data": {
            "text/plain": [
              "tensor([[ 0.0366, -0.0940,  0.0686, -0.0485,  0.0068,  0.0290,  0.0132,  0.0084,\n",
              "         -0.0030, -0.0185]], device='cuda:0', grad_fn=<AddmmBackward0>)"
            ]
          },
          "metadata": {},
          "execution_count": 109
        }
      ]
    },
    {
      "cell_type": "markdown",
      "source": [
        "### 7.1 Stepping through `nn.Conv2d()`\n",
        "\n",
        "See the documentation for `nn.Conv2d()` here - https://pytorch.org/docs/stable/generated/torch.nn.Conv2d.html"
      ],
      "metadata": {
        "id": "vKqrjC8TblGK"
      }
    },
    {
      "cell_type": "code",
      "source": [
        "torch.manual_seed(42)\n",
        "\n",
        "# Create a bacth of images\n",
        "images = torch.randn(size = (32, 3, 64, 64))\n",
        "test_image = images[0]\n",
        "\n",
        "print(f\"Image batch shape: {images.shape}\")\n",
        "print(f\"Single image shape: {test_image.shape}\")\n",
        "print(f\"Test image:\\n{test_image}\")"
      ],
      "metadata": {
        "colab": {
          "base_uri": "https://localhost:8080/"
        },
        "id": "vBKnzHwVcBn2",
        "outputId": "296dd992-3e15-4c87-cf07-239d0afd0a7f"
      },
      "execution_count": 65,
      "outputs": [
        {
          "output_type": "stream",
          "name": "stdout",
          "text": [
            "Image batch shape: torch.Size([32, 3, 64, 64])\n",
            "Single image shape: torch.Size([3, 64, 64])\n",
            "Test image:\n",
            "tensor([[[ 1.9269,  1.4873,  0.9007,  ...,  1.8446, -1.1845,  1.3835],\n",
            "         [ 1.4451,  0.8564,  2.2181,  ...,  0.3399,  0.7200,  0.4114],\n",
            "         [ 1.9312,  1.0119, -1.4364,  ..., -0.5558,  0.7043,  0.7099],\n",
            "         ...,\n",
            "         [-0.5610, -0.4830,  0.4770,  ..., -0.2713, -0.9537, -0.6737],\n",
            "         [ 0.3076, -0.1277,  0.0366,  ..., -2.0060,  0.2824, -0.8111],\n",
            "         [-1.5486,  0.0485, -0.7712,  ..., -0.1403,  0.9416, -0.0118]],\n",
            "\n",
            "        [[-0.5197,  1.8524,  1.8365,  ...,  0.8935, -1.5114, -0.8515],\n",
            "         [ 2.0818,  1.0677, -1.4277,  ...,  1.6612, -2.6223, -0.4319],\n",
            "         [-0.1010, -0.4388, -1.9775,  ...,  0.2106,  0.2536, -0.7318],\n",
            "         ...,\n",
            "         [ 0.2779,  0.7342, -0.3736,  ..., -0.4601,  0.1815,  0.1850],\n",
            "         [ 0.7205, -0.2833,  0.0937,  ..., -0.1002, -2.3609,  2.2465],\n",
            "         [-1.3242, -0.1973,  0.2920,  ...,  0.5409,  0.6940,  1.8563]],\n",
            "\n",
            "        [[-0.7978,  1.0261,  1.1465,  ...,  1.2134,  0.9354, -0.0780],\n",
            "         [-1.4647, -1.9571,  0.1017,  ..., -1.9986, -0.7409,  0.7011],\n",
            "         [-1.3938,  0.8466, -1.7191,  ..., -1.1867,  0.1320,  0.3407],\n",
            "         ...,\n",
            "         [ 0.8206, -0.3745,  1.2499,  ..., -0.0676,  0.0385,  0.6335],\n",
            "         [-0.5589, -0.3393,  0.2347,  ...,  2.1181,  2.4569,  1.3083],\n",
            "         [-0.4092,  1.5199,  0.2401,  ..., -0.2558,  0.7870,  0.9924]]])\n"
          ]
        }
      ]
    },
    {
      "cell_type": "code",
      "source": [
        "# Create a single conv2d layer\n",
        "conv_layer = nn.Conv2d(in_channels = 3,\n",
        "                       out_channels = 10,\n",
        "                       kernel_size = (3, 3),\n",
        "                       stride = 1,\n",
        "                       padding = 1)\n",
        "\n",
        "# Pass the data though the convolutional layer\n",
        "conv_output = conv_layer(test_image)\n",
        "conv_output.shape"
      ],
      "metadata": {
        "colab": {
          "base_uri": "https://localhost:8080/"
        },
        "id": "4TvqpEXVcBkX",
        "outputId": "e75feca1-f08f-41fa-8159-90d1b16292a7"
      },
      "execution_count": 82,
      "outputs": [
        {
          "output_type": "execute_result",
          "data": {
            "text/plain": [
              "torch.Size([10, 64, 64])"
            ]
          },
          "metadata": {},
          "execution_count": 82
        }
      ]
    },
    {
      "cell_type": "markdown",
      "source": [
        "### 7.3 Stepping though `nn.MaxPool2d()`\n",
        "\n",
        "https://pytorch.org/docs/stable/generated/torch.nn.MaxPool2d.html"
      ],
      "metadata": {
        "id": "9PKxGwuXcczy"
      }
    },
    {
      "cell_type": "code",
      "source": [
        "test_image"
      ],
      "metadata": {
        "colab": {
          "base_uri": "https://localhost:8080/"
        },
        "id": "H2kvU0STd1Ap",
        "outputId": "60a9cad2-5f64-4199-bcf6-23cb6e2bc1a2"
      },
      "execution_count": 83,
      "outputs": [
        {
          "output_type": "execute_result",
          "data": {
            "text/plain": [
              "tensor([[[ 1.9269,  1.4873,  0.9007,  ...,  1.8446, -1.1845,  1.3835],\n",
              "         [ 1.4451,  0.8564,  2.2181,  ...,  0.3399,  0.7200,  0.4114],\n",
              "         [ 1.9312,  1.0119, -1.4364,  ..., -0.5558,  0.7043,  0.7099],\n",
              "         ...,\n",
              "         [-0.5610, -0.4830,  0.4770,  ..., -0.2713, -0.9537, -0.6737],\n",
              "         [ 0.3076, -0.1277,  0.0366,  ..., -2.0060,  0.2824, -0.8111],\n",
              "         [-1.5486,  0.0485, -0.7712,  ..., -0.1403,  0.9416, -0.0118]],\n",
              "\n",
              "        [[-0.5197,  1.8524,  1.8365,  ...,  0.8935, -1.5114, -0.8515],\n",
              "         [ 2.0818,  1.0677, -1.4277,  ...,  1.6612, -2.6223, -0.4319],\n",
              "         [-0.1010, -0.4388, -1.9775,  ...,  0.2106,  0.2536, -0.7318],\n",
              "         ...,\n",
              "         [ 0.2779,  0.7342, -0.3736,  ..., -0.4601,  0.1815,  0.1850],\n",
              "         [ 0.7205, -0.2833,  0.0937,  ..., -0.1002, -2.3609,  2.2465],\n",
              "         [-1.3242, -0.1973,  0.2920,  ...,  0.5409,  0.6940,  1.8563]],\n",
              "\n",
              "        [[-0.7978,  1.0261,  1.1465,  ...,  1.2134,  0.9354, -0.0780],\n",
              "         [-1.4647, -1.9571,  0.1017,  ..., -1.9986, -0.7409,  0.7011],\n",
              "         [-1.3938,  0.8466, -1.7191,  ..., -1.1867,  0.1320,  0.3407],\n",
              "         ...,\n",
              "         [ 0.8206, -0.3745,  1.2499,  ..., -0.0676,  0.0385,  0.6335],\n",
              "         [-0.5589, -0.3393,  0.2347,  ...,  2.1181,  2.4569,  1.3083],\n",
              "         [-0.4092,  1.5199,  0.2401,  ..., -0.2558,  0.7870,  0.9924]]])"
            ]
          },
          "metadata": {},
          "execution_count": 83
        }
      ]
    },
    {
      "cell_type": "code",
      "source": [
        "# Print out original image shape without unsqueezed dimension\n",
        "print(f\"Test image original shape: {test_image.shape}\")\n",
        "\n",
        "# Create a sample nn.MaxPool2d layer\n",
        "max_pool_layer = nn.MaxPool2d(kernel_size=2)\n",
        "\n",
        "# Pass data through just the conv layer\n",
        "test_image_through_conv = conv_layer(test_image)\n",
        "\n",
        "# Print out the shape of the data\n",
        "print(f\"Test image through conv layer shape: {test_image_through_conv.shape}\")\n",
        "\n",
        "# Pass data through max pool layer next\n",
        "test_image_through_conv_and_max_pool = max_pool_layer(test_image_through_conv)\n",
        "\n",
        "# Print out the shape of the data\n",
        "print(f\"Test image through conv and max pool layer shape: {test_image_through_conv_and_max_pool.shape}\")"
      ],
      "metadata": {
        "colab": {
          "base_uri": "https://localhost:8080/"
        },
        "id": "dzLOMQj2eDQQ",
        "outputId": "6ff675c1-1e56-4acb-9f26-1b7cdf188adc"
      },
      "execution_count": 84,
      "outputs": [
        {
          "output_type": "stream",
          "name": "stdout",
          "text": [
            "Test image original shape: torch.Size([3, 64, 64])\n",
            "Test image through conv layer shape: torch.Size([10, 64, 64])\n",
            "Test image through conv and max pool layer shape: torch.Size([10, 32, 32])\n"
          ]
        }
      ]
    },
    {
      "cell_type": "code",
      "source": [
        "torch.manual_seed(42)\n",
        "# Create a random tensor with a similar number of dimensions to our images\n",
        "random_tensor = torch.randn(size=(1, 1, 2, 2))\n",
        "\n",
        "# Create a max pool layer\n",
        "max_pool_layer = nn.MaxPool2d(kernel_size=2)\n",
        "\n",
        "# Pass the random tensor through the max pool layer\n",
        "max_pool_tensor = max_pool_layer(random_tensor)\n",
        "print(f\"Random tensor:\\n{random_tensor}\")\n",
        "print(f\"Random tensor shape: {random_tensor.shape}\")\n",
        "print(f\"Max pool tensor:\\n{max_pool_tensor}\")\n",
        "print(f\"Max pool tensor shape: {max_pool_tensor.shape}\")"
      ],
      "metadata": {
        "colab": {
          "base_uri": "https://localhost:8080/"
        },
        "id": "HDzSCzxOeoIT",
        "outputId": "3d7a4a66-0c53-44dc-8c3b-c672500f6ada"
      },
      "execution_count": 86,
      "outputs": [
        {
          "output_type": "stream",
          "name": "stdout",
          "text": [
            "Random tensor:\n",
            "tensor([[[[0.3367, 0.1288],\n",
            "          [0.2345, 0.2303]]]])\n",
            "Random tensor shape: torch.Size([1, 1, 2, 2])\n",
            "Max pool tensor:\n",
            "tensor([[[[0.3367]]]])\n",
            "Max pool tensor shape: torch.Size([1, 1, 1, 1])\n"
          ]
        }
      ]
    },
    {
      "cell_type": "markdown",
      "source": [
        "### 7.3 Setup a loss function and optimizer for `model_2`"
      ],
      "metadata": {
        "id": "WXuqFufDfiEr"
      }
    },
    {
      "cell_type": "code",
      "source": [
        "# Setup loss function/eval metrics /optimizer\n",
        "from helper_function import accuracy_fn\n",
        "loss_fn = nn.CrossEntropyLoss()\n",
        "optimizer = torch.optim.SGD(params = model_2.parameters(),\n",
        "                            lr = 0.1)\n",
        "model_2.state_dict()"
      ],
      "metadata": {
        "colab": {
          "base_uri": "https://localhost:8080/"
        },
        "id": "6fLTCsbeiyAY",
        "outputId": "708dbf4a-1b1a-4928-ebaf-e333b8d31969"
      },
      "execution_count": 111,
      "outputs": [
        {
          "output_type": "execute_result",
          "data": {
            "text/plain": [
              "OrderedDict([('conv_block_1.0.weight',\n",
              "              tensor([[[[ 0.2548,  0.2767, -0.0781],\n",
              "                        [ 0.3062, -0.0730,  0.0673],\n",
              "                        [-0.1623,  0.1958,  0.2938]]],\n",
              "              \n",
              "              \n",
              "                      [[[-0.2445,  0.2897,  0.0624],\n",
              "                        [ 0.2463,  0.0451,  0.1607],\n",
              "                        [-0.0471,  0.2570,  0.0493]]],\n",
              "              \n",
              "              \n",
              "                      [[[-0.1556,  0.0850, -0.1536],\n",
              "                        [-0.0391, -0.1354,  0.2211],\n",
              "                        [-0.2631, -0.1537, -0.0941]]],\n",
              "              \n",
              "              \n",
              "                      [[[-0.2004,  0.0315, -0.3292],\n",
              "                        [ 0.3010, -0.2832,  0.2573],\n",
              "                        [ 0.0555, -0.1082,  0.2060]]],\n",
              "              \n",
              "              \n",
              "                      [[[ 0.0520,  0.2693,  0.0364],\n",
              "                        [-0.1051,  0.0896, -0.0904],\n",
              "                        [ 0.1403,  0.2976,  0.1927]]],\n",
              "              \n",
              "              \n",
              "                      [[[-0.1457,  0.1924,  0.0596],\n",
              "                        [ 0.1693, -0.2032, -0.3300],\n",
              "                        [-0.1288, -0.2557,  0.2735]]],\n",
              "              \n",
              "              \n",
              "                      [[[ 0.0960,  0.1381,  0.1054],\n",
              "                        [-0.0058,  0.2609, -0.2368],\n",
              "                        [ 0.0210, -0.2275,  0.1028]]],\n",
              "              \n",
              "              \n",
              "                      [[[-0.1148,  0.1021, -0.0694],\n",
              "                        [ 0.2765, -0.1976, -0.1988],\n",
              "                        [-0.1988,  0.2998,  0.1111]]],\n",
              "              \n",
              "              \n",
              "                      [[[ 0.3208, -0.2751, -0.3306],\n",
              "                        [-0.2608, -0.2242,  0.1350],\n",
              "                        [ 0.1194,  0.2770, -0.1721]]],\n",
              "              \n",
              "              \n",
              "                      [[[-0.2272,  0.1769, -0.1347],\n",
              "                        [ 0.2023, -0.0791,  0.1907],\n",
              "                        [-0.2590, -0.1682,  0.1016]]]], device='cuda:0')),\n",
              "             ('conv_block_1.0.bias',\n",
              "              tensor([ 0.0705, -0.0850,  0.1987,  0.2266, -0.2417, -0.1780,  0.3052, -0.1125,\n",
              "                      -0.1182, -0.3225], device='cuda:0')),\n",
              "             ('conv_block_1.2.weight',\n",
              "              tensor([[[[-0.0604,  0.0263, -0.0139],\n",
              "                        [-0.0765,  0.0025, -0.0720],\n",
              "                        [-0.0894, -0.0580, -0.0923]],\n",
              "              \n",
              "                       [[-0.0671,  0.1054,  0.0199],\n",
              "                        [ 0.0325, -0.0983, -0.0692],\n",
              "                        [-0.0351,  0.0165, -0.0928]],\n",
              "              \n",
              "                       [[-0.0454, -0.0631,  0.0003],\n",
              "                        [-0.0392, -0.0073, -0.0714],\n",
              "                        [-0.0724, -0.0615, -0.0361]],\n",
              "              \n",
              "                       [[-0.0832,  0.0884, -0.0209],\n",
              "                        [ 0.0907,  0.0328, -0.0893],\n",
              "                        [ 0.0729, -0.0290, -0.0404]],\n",
              "              \n",
              "                       [[-0.0875, -0.1048,  0.0302],\n",
              "                        [-0.0230,  0.0410, -0.0865],\n",
              "                        [ 0.0783, -0.0774, -0.0182]],\n",
              "              \n",
              "                       [[ 0.0220,  0.0544,  0.0851],\n",
              "                        [ 0.0960, -0.0836,  0.0265],\n",
              "                        [-0.0453, -0.0116, -0.0789]],\n",
              "              \n",
              "                       [[ 0.0960, -0.0774,  0.0563],\n",
              "                        [ 0.0370,  0.0343, -0.0570],\n",
              "                        [ 0.0958,  0.0232,  0.0136]],\n",
              "              \n",
              "                       [[-0.0929,  0.0442, -0.0158],\n",
              "                        [-0.0483,  0.0905,  0.0235],\n",
              "                        [-0.0583, -0.0534, -0.0050]],\n",
              "              \n",
              "                       [[ 0.0589, -0.0269, -0.0601],\n",
              "                        [-0.0361, -0.0787,  0.0376],\n",
              "                        [ 0.0816, -0.0992,  0.0245]],\n",
              "              \n",
              "                       [[ 0.0545,  0.0191, -0.0375],\n",
              "                        [ 0.0550,  0.0554,  0.0394],\n",
              "                        [-0.0185, -0.0279,  0.0113]]],\n",
              "              \n",
              "              \n",
              "                      [[[-0.0186, -0.0314,  0.0674],\n",
              "                        [ 0.0906, -0.0104, -0.0236],\n",
              "                        [ 0.0015, -0.0063,  0.0253]],\n",
              "              \n",
              "                       [[ 0.0295, -0.0957, -0.0389],\n",
              "                        [ 0.0888,  0.0411, -0.0052],\n",
              "                        [-0.0636, -0.0645, -0.0944]],\n",
              "              \n",
              "                       [[-0.0344,  0.0356,  0.0672],\n",
              "                        [ 0.0487, -0.0932, -0.0634],\n",
              "                        [-0.0166,  0.1020,  0.0152]],\n",
              "              \n",
              "                       [[-0.0273,  0.0436, -0.0401],\n",
              "                        [-0.0682,  0.0769, -0.0479],\n",
              "                        [-0.0211, -0.1049,  0.0705]],\n",
              "              \n",
              "                       [[ 0.0799,  0.0384, -0.0735],\n",
              "                        [-0.1040, -0.0856,  0.0786],\n",
              "                        [ 0.0506,  0.0887,  0.0552]],\n",
              "              \n",
              "                       [[ 0.0267, -0.0010, -0.0802],\n",
              "                        [-0.0903, -0.0986,  0.0432],\n",
              "                        [-0.0518, -0.0212, -0.0607]],\n",
              "              \n",
              "                       [[-0.0192, -0.0742, -0.0689],\n",
              "                        [ 0.0350, -0.0313,  0.0651],\n",
              "                        [-0.0338, -0.0773, -0.0186]],\n",
              "              \n",
              "                       [[-0.0511, -0.0322, -0.1003],\n",
              "                        [ 0.0590, -0.0734,  0.0530],\n",
              "                        [ 0.0478,  0.0753, -0.0809]],\n",
              "              \n",
              "                       [[ 0.0758, -0.0498,  0.0391],\n",
              "                        [ 0.0990, -0.0149, -0.0008],\n",
              "                        [-0.0243, -0.0880,  0.0506]],\n",
              "              \n",
              "                       [[-0.1046,  0.0654,  0.0789],\n",
              "                        [ 0.0997, -0.0249, -0.0866],\n",
              "                        [ 0.0237,  0.0582, -0.1049]]],\n",
              "              \n",
              "              \n",
              "                      [[[-0.0239, -0.0632, -0.0092],\n",
              "                        [-0.0519, -0.0431, -0.0335],\n",
              "                        [-0.1002,  0.0865,  0.0884]],\n",
              "              \n",
              "                       [[-0.0165, -0.0120, -0.0430],\n",
              "                        [-0.0952, -0.1026,  0.0392],\n",
              "                        [-0.0579, -0.0678, -0.0082]],\n",
              "              \n",
              "                       [[-0.0351, -0.0341,  0.0034],\n",
              "                        [-0.0224, -0.0363, -0.0505],\n",
              "                        [-0.0858,  0.0884, -0.0422]],\n",
              "              \n",
              "                       [[ 0.0279, -0.0366,  0.0086],\n",
              "                        [ 0.0983,  0.0486, -0.0913],\n",
              "                        [ 0.0418,  0.1001,  0.0277]],\n",
              "              \n",
              "                       [[ 0.0707,  0.1039, -0.0162],\n",
              "                        [ 0.0219, -0.0733, -0.0217],\n",
              "                        [ 0.0781,  0.0540, -0.0667]],\n",
              "              \n",
              "                       [[-0.0845, -0.0720, -0.1040],\n",
              "                        [-0.0813, -0.0261,  0.0711],\n",
              "                        [ 0.0176, -0.0802, -0.0846]],\n",
              "              \n",
              "                       [[ 0.0524, -0.0784, -0.0130],\n",
              "                        [ 0.0506, -0.0488, -0.0115],\n",
              "                        [-0.0092, -0.0249, -0.0534]],\n",
              "              \n",
              "                       [[-0.0940, -0.0852, -0.0564],\n",
              "                        [ 0.1018, -0.0509, -0.0708],\n",
              "                        [ 0.0256,  0.0291,  0.0578]],\n",
              "              \n",
              "                       [[ 0.0801,  0.0587, -0.1045],\n",
              "                        [ 0.0093,  0.0639, -0.0097],\n",
              "                        [-0.0621,  0.1005, -0.0394]],\n",
              "              \n",
              "                       [[-0.0600, -0.0950,  0.0047],\n",
              "                        [ 0.0467,  0.0233,  0.0208],\n",
              "                        [-0.0799, -0.0984,  0.0019]]],\n",
              "              \n",
              "              \n",
              "                      [[[ 0.0961,  0.0608, -0.0614],\n",
              "                        [-0.0137, -0.0777, -0.0509],\n",
              "                        [ 0.0191,  0.0574,  0.0873]],\n",
              "              \n",
              "                       [[-0.0968,  0.0705, -0.0743],\n",
              "                        [ 0.0395,  0.0892,  0.0015],\n",
              "                        [ 0.0959, -0.0898, -0.0403]],\n",
              "              \n",
              "                       [[ 0.0615, -0.0230, -0.0216],\n",
              "                        [-0.0439,  0.0727,  0.0517],\n",
              "                        [ 0.0338, -0.0592, -0.0856]],\n",
              "              \n",
              "                       [[ 0.0114,  0.0312, -0.0487],\n",
              "                        [-0.0295,  0.0712,  0.0084],\n",
              "                        [ 0.0048, -0.0259, -0.0955]],\n",
              "              \n",
              "                       [[-0.0991, -0.0504, -0.0536],\n",
              "                        [ 0.0328, -0.0307, -0.0412],\n",
              "                        [ 0.1005,  0.0367,  0.0751]],\n",
              "              \n",
              "                       [[-0.0510, -0.0431,  0.0387],\n",
              "                        [-0.0702, -0.0689, -0.0051],\n",
              "                        [-0.0386, -0.0790,  0.0625]],\n",
              "              \n",
              "                       [[ 0.0848,  0.0171, -0.0184],\n",
              "                        [-0.0976, -0.0384,  0.0268],\n",
              "                        [ 0.0497, -0.0133, -0.0417]],\n",
              "              \n",
              "                       [[ 0.0587, -0.0839,  0.0666],\n",
              "                        [-0.0409,  0.0016, -0.0208],\n",
              "                        [ 0.0128, -0.0319,  0.0766]],\n",
              "              \n",
              "                       [[-0.0027,  0.0823,  0.1013],\n",
              "                        [-0.0514, -0.0769,  0.0846],\n",
              "                        [ 0.0826, -0.0805, -0.0081]],\n",
              "              \n",
              "                       [[-0.1039, -0.0863,  0.0204],\n",
              "                        [ 0.0280,  0.0223, -0.0287],\n",
              "                        [ 0.0972,  0.0151, -0.0622]]],\n",
              "              \n",
              "              \n",
              "                      [[[-0.0060,  0.0253,  0.0369],\n",
              "                        [-0.0745,  0.0395, -0.0539],\n",
              "                        [-0.0876, -0.0576,  0.1017]],\n",
              "              \n",
              "                       [[ 0.0901,  0.0944,  0.0619],\n",
              "                        [ 0.0796, -0.0141, -0.0580],\n",
              "                        [ 0.0527, -0.0546, -0.0711]],\n",
              "              \n",
              "                       [[-0.0337,  0.0221,  0.0543],\n",
              "                        [-0.0409, -0.0620,  0.0142],\n",
              "                        [-0.0621, -0.0686,  0.0549]],\n",
              "              \n",
              "                       [[-0.0177,  0.0963,  0.1025],\n",
              "                        [ 0.0315,  0.0363,  0.0243],\n",
              "                        [ 0.0017, -0.0077,  0.0014]],\n",
              "              \n",
              "                       [[ 0.0394,  0.0980, -0.0273],\n",
              "                        [-0.0446, -0.0255, -0.0509],\n",
              "                        [ 0.0179,  0.0787,  0.0824]],\n",
              "              \n",
              "                       [[ 0.0484, -0.0776, -0.0566],\n",
              "                        [-0.0232, -0.0194,  0.0087],\n",
              "                        [-0.0968,  0.0328, -0.0804]],\n",
              "              \n",
              "                       [[-0.0667, -0.0876,  0.0918],\n",
              "                        [-0.0998,  0.0795, -0.0035],\n",
              "                        [-0.0123,  0.0659, -0.0097]],\n",
              "              \n",
              "                       [[ 0.0661,  0.0762, -0.0915],\n",
              "                        [ 0.0406,  0.0199,  0.0227],\n",
              "                        [ 0.0154,  0.0288, -0.0507]],\n",
              "              \n",
              "                       [[-0.0135,  0.1002,  0.0708],\n",
              "                        [-0.0040, -0.0991,  0.0046],\n",
              "                        [-0.0718,  0.0857, -0.0640]],\n",
              "              \n",
              "                       [[-0.0076, -0.0234,  0.0188],\n",
              "                        [ 0.0992,  0.0100,  0.0610],\n",
              "                        [ 0.0818,  0.0851, -0.0364]]],\n",
              "              \n",
              "              \n",
              "                      [[[-0.0236,  0.0508, -0.0288],\n",
              "                        [ 0.0494, -0.0230, -0.0715],\n",
              "                        [ 0.0429,  0.0162,  0.0470]],\n",
              "              \n",
              "                       [[ 0.1047,  0.0720,  0.0999],\n",
              "                        [ 0.0056, -0.0907, -0.0739],\n",
              "                        [-0.0655, -0.0929, -0.0528]],\n",
              "              \n",
              "                       [[-0.0970, -0.0973, -0.0630],\n",
              "                        [-0.1039, -0.0647,  0.0402],\n",
              "                        [ 0.0879, -0.0314, -0.0307]],\n",
              "              \n",
              "                       [[ 0.0563, -0.0520, -0.0498],\n",
              "                        [ 0.0649, -0.0918,  0.0129],\n",
              "                        [ 0.0931,  0.0181,  0.0287]],\n",
              "              \n",
              "                       [[-0.0614, -0.0015,  0.0058],\n",
              "                        [ 0.0259,  0.0410,  0.0916],\n",
              "                        [-0.0805,  0.0032, -0.0527]],\n",
              "              \n",
              "                       [[-0.0834, -0.0084, -0.0928],\n",
              "                        [ 0.0736,  0.0122, -0.0568],\n",
              "                        [ 0.0551, -0.0998, -0.0408]],\n",
              "              \n",
              "                       [[-0.0205, -0.0896, -0.0670],\n",
              "                        [-0.0172,  0.0800,  0.1018],\n",
              "                        [ 0.0671, -0.0629, -0.0690]],\n",
              "              \n",
              "                       [[ 0.0920,  0.0373,  0.0028],\n",
              "                        [ 0.0143, -0.0847, -0.0352],\n",
              "                        [ 0.1015, -0.0260, -0.0053]],\n",
              "              \n",
              "                       [[-0.0875, -0.0590, -0.0022],\n",
              "                        [-0.0655, -0.0131,  0.0429],\n",
              "                        [-0.1031,  0.0313, -0.0697]],\n",
              "              \n",
              "                       [[-0.0514,  0.0405,  0.0838],\n",
              "                        [-0.0288, -0.0433, -0.0953],\n",
              "                        [-0.0544, -0.0923, -0.0241]]],\n",
              "              \n",
              "              \n",
              "                      [[[ 0.0215, -0.0988,  0.0920],\n",
              "                        [ 0.0661, -0.1032, -0.0503],\n",
              "                        [ 0.0344, -0.0217, -0.0115]],\n",
              "              \n",
              "                       [[-0.0476,  0.0847, -0.0589],\n",
              "                        [ 0.0874,  0.0068,  0.0212],\n",
              "                        [ 0.0822, -0.0174, -0.0600]],\n",
              "              \n",
              "                       [[-0.0170,  0.0855, -0.0782],\n",
              "                        [ 0.0239, -0.1036,  0.0553],\n",
              "                        [ 0.0389,  0.0045,  0.0452]],\n",
              "              \n",
              "                       [[ 0.0001,  0.0583, -0.0834],\n",
              "                        [-0.0155,  0.0468,  0.1050],\n",
              "                        [ 0.0537, -0.0767,  0.0811]],\n",
              "              \n",
              "                       [[-0.0235, -0.0225, -0.0958],\n",
              "                        [-0.0166,  0.0746,  0.0147],\n",
              "                        [-0.0614,  0.0324, -0.0338]],\n",
              "              \n",
              "                       [[ 0.0962, -0.0915, -0.0333],\n",
              "                        [-0.1018, -0.0415,  0.0332],\n",
              "                        [ 0.1015,  0.0177,  0.1033]],\n",
              "              \n",
              "                       [[ 0.0206,  0.0609,  0.0845],\n",
              "                        [ 0.0881, -0.0590,  0.0969],\n",
              "                        [ 0.0639, -0.0493, -0.0503]],\n",
              "              \n",
              "                       [[-0.0884,  0.0265, -0.0854],\n",
              "                        [ 0.0445,  0.0333, -0.0916],\n",
              "                        [ 0.0287, -0.0086,  0.0482]],\n",
              "              \n",
              "                       [[ 0.0605, -0.1048,  0.0967],\n",
              "                        [ 0.0884,  0.0419, -0.0963],\n",
              "                        [-0.0377, -0.0305, -0.0271]],\n",
              "              \n",
              "                       [[ 0.0594,  0.0383,  0.0835],\n",
              "                        [-0.0395,  0.0355,  0.0375],\n",
              "                        [-0.0878, -0.1022, -0.0547]]],\n",
              "              \n",
              "              \n",
              "                      [[[ 0.0722, -0.0992, -0.0918],\n",
              "                        [ 0.0591,  0.0569,  0.0867],\n",
              "                        [-0.0796, -0.0771,  0.0541]],\n",
              "              \n",
              "                       [[ 0.0917,  0.0631,  0.0165],\n",
              "                        [ 0.0347,  0.1000, -0.0680],\n",
              "                        [-0.0479,  0.0737, -0.0721]],\n",
              "              \n",
              "                       [[-0.0581,  0.0769,  0.0333],\n",
              "                        [ 0.0341, -0.0447, -0.0015],\n",
              "                        [ 0.0965, -0.0633,  0.0008]],\n",
              "              \n",
              "                       [[ 0.0501, -0.0728,  0.1024],\n",
              "                        [-0.0527, -0.0253, -0.0285],\n",
              "                        [-0.0687, -0.1034,  0.0594]],\n",
              "              \n",
              "                       [[ 0.0280, -0.0987, -0.0678],\n",
              "                        [ 0.1042,  0.0403,  0.0423],\n",
              "                        [-0.0631, -0.0462, -0.0159]],\n",
              "              \n",
              "                       [[-0.0193, -0.0722,  0.0087],\n",
              "                        [ 0.0105, -0.0133,  0.0146],\n",
              "                        [-0.0418,  0.0274,  0.0398]],\n",
              "              \n",
              "                       [[-0.0555, -0.1045,  0.0552],\n",
              "                        [ 0.0251, -0.0536,  0.1016],\n",
              "                        [-0.0477,  0.0712,  0.0535]],\n",
              "              \n",
              "                       [[-0.0884,  0.0680, -0.0969],\n",
              "                        [-0.0584, -0.0176, -0.0711],\n",
              "                        [ 0.1030, -0.0211,  0.0419]],\n",
              "              \n",
              "                       [[-0.0941,  0.0607, -0.0328],\n",
              "                        [-0.0802,  0.0154,  0.0511],\n",
              "                        [ 0.0912, -0.0644, -0.0519]],\n",
              "              \n",
              "                       [[ 0.0203,  0.0286,  0.0405],\n",
              "                        [ 0.0579, -0.0239,  0.0586],\n",
              "                        [ 0.0777, -0.0275,  0.0750]]],\n",
              "              \n",
              "              \n",
              "                      [[[ 0.0515,  0.0930, -0.0599],\n",
              "                        [-0.0521, -0.0305,  0.0053],\n",
              "                        [ 0.0633, -0.0602,  0.0528]],\n",
              "              \n",
              "                       [[-0.0378,  0.0637, -0.0050],\n",
              "                        [-0.0923, -0.0580, -0.0763],\n",
              "                        [ 0.0523, -0.0707, -0.0088]],\n",
              "              \n",
              "                       [[ 0.0227, -0.0578,  0.0304],\n",
              "                        [-0.1029, -0.0754, -0.0955],\n",
              "                        [-0.0319, -0.0384,  0.0151]],\n",
              "              \n",
              "                       [[-0.0195,  0.0496,  0.0966],\n",
              "                        [ 0.0378, -0.0415, -0.0987],\n",
              "                        [ 0.0382, -0.0522,  0.0536]],\n",
              "              \n",
              "                       [[ 0.0705,  0.0407,  0.0989],\n",
              "                        [ 0.1001,  0.0223, -0.0768],\n",
              "                        [ 0.0942, -0.0500, -0.0498]],\n",
              "              \n",
              "                       [[ 0.0882,  0.0817,  0.0318],\n",
              "                        [ 0.0066, -0.0887, -0.0109],\n",
              "                        [ 0.1011,  0.0268,  0.0090]],\n",
              "              \n",
              "                       [[-0.0219, -0.0368,  0.0628],\n",
              "                        [ 0.0065,  0.0686, -0.0187],\n",
              "                        [ 0.0461,  0.0435,  0.0168]],\n",
              "              \n",
              "                       [[ 0.0662,  0.0661,  0.0977],\n",
              "                        [ 0.0810, -0.0270, -0.0892],\n",
              "                        [ 0.0193, -0.0009, -0.0275]],\n",
              "              \n",
              "                       [[-0.0177,  0.0050,  0.0769],\n",
              "                        [ 0.0329, -0.0374, -0.0433],\n",
              "                        [-0.0261, -0.0407,  0.0948]],\n",
              "              \n",
              "                       [[ 0.0558,  0.0952,  0.0003],\n",
              "                        [ 0.0213,  0.0366, -0.0998],\n",
              "                        [ 0.0094, -0.0071, -0.0591]]],\n",
              "              \n",
              "              \n",
              "                      [[[-0.0818,  0.0933,  0.0857],\n",
              "                        [ 0.0489,  0.1006, -0.0428],\n",
              "                        [-0.0182,  0.0399, -0.0174]],\n",
              "              \n",
              "                       [[-0.0207, -0.0871,  0.0283],\n",
              "                        [-0.0637,  0.0038,  0.1028],\n",
              "                        [-0.0324, -0.0332,  0.0636]],\n",
              "              \n",
              "                       [[-0.0388, -0.0091,  0.0984],\n",
              "                        [-0.0432, -0.0754, -0.0590],\n",
              "                        [-0.0292, -0.0500, -0.0547]],\n",
              "              \n",
              "                       [[ 0.0426,  0.0179, -0.0337],\n",
              "                        [-0.0819, -0.0332, -0.0445],\n",
              "                        [-0.0343, -0.0951,  0.0227]],\n",
              "              \n",
              "                       [[-0.0774, -0.0821, -0.0861],\n",
              "                        [ 0.0440, -0.0635, -0.0435],\n",
              "                        [ 0.0826,  0.0560,  0.0604]],\n",
              "              \n",
              "                       [[-0.1001, -0.0756, -0.0398],\n",
              "                        [ 0.0871,  0.0108, -0.0788],\n",
              "                        [ 0.0007, -0.0819, -0.0231]],\n",
              "              \n",
              "                       [[-0.0290,  0.0912,  0.0326],\n",
              "                        [-0.0184,  0.0178, -0.0304],\n",
              "                        [ 0.0414,  0.0417,  0.0283]],\n",
              "              \n",
              "                       [[-0.0411,  0.0899, -0.0152],\n",
              "                        [-0.0410,  0.0660,  0.0859],\n",
              "                        [ 0.1049,  0.0312, -0.0359]],\n",
              "              \n",
              "                       [[ 0.0535,  0.0904, -0.1034],\n",
              "                        [-0.0131, -0.0719,  0.0196],\n",
              "                        [ 0.0436, -0.0218, -0.0088]],\n",
              "              \n",
              "                       [[ 0.0474, -0.0177, -0.0885],\n",
              "                        [ 0.0843, -0.0531, -0.0116],\n",
              "                        [ 0.0099, -0.0063, -0.0992]]]], device='cuda:0')),\n",
              "             ('conv_block_1.2.bias',\n",
              "              tensor([ 0.0484, -0.0479, -0.0547,  0.0252, -0.0550, -0.0487, -0.0355, -0.0396,\n",
              "                      -0.0440, -0.0284], device='cuda:0')),\n",
              "             ('conv_block_2.0.weight',\n",
              "              tensor([[[[ 2.7393e-02, -8.5299e-02, -6.3802e-02],\n",
              "                        [ 1.5381e-03,  1.4659e-02,  5.8217e-02],\n",
              "                        [-7.4044e-02,  3.3646e-02,  5.9914e-02]],\n",
              "              \n",
              "                       [[ 5.8530e-02, -9.8180e-02, -4.0225e-02],\n",
              "                        [-9.0606e-02, -6.6704e-02,  5.8711e-02],\n",
              "                        [-1.5740e-02,  4.4769e-02, -6.1876e-02]],\n",
              "              \n",
              "                       [[ 1.6018e-02, -6.3758e-02,  5.2693e-02],\n",
              "                        [-4.6104e-02, -2.6432e-02, -9.1456e-02],\n",
              "                        [ 3.4822e-04,  1.0008e-01,  5.1163e-02]],\n",
              "              \n",
              "                       [[-5.6240e-02,  1.4176e-03, -1.1558e-02],\n",
              "                        [-8.4862e-02,  8.2650e-02,  1.6993e-03],\n",
              "                        [ 2.2199e-02, -4.2567e-02, -4.9323e-02]],\n",
              "              \n",
              "                       [[ 1.7381e-02,  3.8971e-02,  2.3643e-02],\n",
              "                        [-5.0801e-02,  1.0234e-01, -1.5517e-02],\n",
              "                        [-6.4554e-02, -4.9301e-02,  1.0377e-01]],\n",
              "              \n",
              "                       [[ 5.0766e-06, -1.4309e-02, -4.3867e-02],\n",
              "                        [-2.7633e-02, -8.8779e-02, -8.3767e-02],\n",
              "                        [ 6.1695e-02,  9.0172e-02,  1.0059e-01]],\n",
              "              \n",
              "                       [[-7.6099e-02,  5.7012e-02, -6.5245e-02],\n",
              "                        [ 6.2883e-02,  7.6058e-02,  8.1573e-02],\n",
              "                        [ 7.5900e-02,  6.5941e-02,  2.0516e-03]],\n",
              "              \n",
              "                       [[ 4.8434e-02, -3.7712e-02,  4.5899e-02],\n",
              "                        [-3.3879e-02, -1.7700e-03, -9.1746e-02],\n",
              "                        [-2.7562e-02, -5.5432e-02, -3.5557e-02]],\n",
              "              \n",
              "                       [[-6.7313e-02, -9.4810e-02,  6.8639e-03],\n",
              "                        [ 6.8408e-02,  9.6001e-02,  6.1512e-02],\n",
              "                        [-5.4638e-02, -1.0425e-01,  3.9983e-02]],\n",
              "              \n",
              "                       [[ 5.9062e-02, -9.0495e-02,  3.7798e-02],\n",
              "                        [ 8.9121e-02,  6.3853e-03, -6.3505e-02],\n",
              "                        [ 8.6423e-02,  4.5011e-02,  6.9802e-02]]],\n",
              "              \n",
              "              \n",
              "                      [[[-7.1287e-02,  6.1342e-02, -7.2002e-02],\n",
              "                        [ 1.0430e-01, -4.4662e-02,  6.3516e-02],\n",
              "                        [ 2.1107e-02,  2.7935e-02, -1.6165e-02]],\n",
              "              \n",
              "                       [[ 4.3295e-02, -4.3932e-02, -9.9357e-02],\n",
              "                        [-4.0499e-02,  8.2592e-02, -2.7751e-02],\n",
              "                        [ 3.3132e-02, -3.8973e-02,  7.9073e-02]],\n",
              "              \n",
              "                       [[ 6.3086e-02,  3.7211e-02, -5.3881e-02],\n",
              "                        [-8.6133e-02,  3.9686e-03, -6.1839e-02],\n",
              "                        [ 8.6667e-02, -1.0130e-01,  4.7104e-02]],\n",
              "              \n",
              "                       [[ 1.0508e-01,  5.2792e-02,  3.5942e-02],\n",
              "                        [-1.0142e-01,  1.0139e-01, -1.8030e-02],\n",
              "                        [-9.8495e-02,  1.0406e-01, -4.2894e-02]],\n",
              "              \n",
              "                       [[-7.4575e-03,  9.6479e-02, -7.3070e-02],\n",
              "                        [-7.4576e-02,  1.7141e-02, -1.4109e-02],\n",
              "                        [ 2.4280e-02, -8.8407e-02,  3.1524e-03]],\n",
              "              \n",
              "                       [[-4.6882e-02, -5.1820e-02, -9.6517e-02],\n",
              "                        [ 5.5890e-02,  2.0306e-02, -8.9118e-02],\n",
              "                        [ 8.3648e-02,  3.1794e-02,  1.9560e-02]],\n",
              "              \n",
              "                       [[-6.1890e-02,  1.5896e-02,  1.0157e-01],\n",
              "                        [ 7.2299e-02, -8.2100e-02,  9.6220e-02],\n",
              "                        [ 8.1702e-03,  5.0698e-02,  8.1869e-02]],\n",
              "              \n",
              "                       [[ 8.9862e-02, -8.2170e-02,  9.2303e-02],\n",
              "                        [-7.1591e-02,  7.9021e-03, -7.3656e-02],\n",
              "                        [-2.3109e-02, -4.7901e-03, -1.2611e-02]],\n",
              "              \n",
              "                       [[-1.6652e-02,  8.3137e-03,  1.0398e-01],\n",
              "                        [ 6.1244e-02,  5.8973e-02,  4.2190e-02],\n",
              "                        [ 8.1606e-02, -4.8645e-03,  8.3813e-03]],\n",
              "              \n",
              "                       [[ 2.1693e-02, -9.1931e-02, -8.4913e-02],\n",
              "                        [ 1.2923e-02, -4.1241e-02, -1.9342e-03],\n",
              "                        [-2.4187e-02,  1.6408e-02,  6.8581e-02]]],\n",
              "              \n",
              "              \n",
              "                      [[[-3.4958e-02,  8.4418e-02,  8.3227e-02],\n",
              "                        [-8.0901e-02, -8.1400e-02, -8.5284e-02],\n",
              "                        [-5.7766e-02, -4.1033e-02, -7.9341e-03]],\n",
              "              \n",
              "                       [[-2.5635e-02, -5.3258e-02, -3.3488e-02],\n",
              "                        [-3.8131e-02,  1.0341e-01, -3.9068e-02],\n",
              "                        [-7.5473e-02,  4.3818e-02, -6.0886e-03]],\n",
              "              \n",
              "                       [[ 8.0698e-02,  6.5863e-02,  9.6843e-02],\n",
              "                        [-7.7197e-02,  6.7764e-02,  8.8464e-02],\n",
              "                        [-5.2054e-02,  9.6890e-02,  7.9019e-02]],\n",
              "              \n",
              "                       [[ 1.1544e-03,  5.0823e-02, -3.6853e-02],\n",
              "                        [-9.1936e-02,  2.6645e-02,  3.1425e-02],\n",
              "                        [-6.8891e-02,  5.1123e-02, -9.0043e-02]],\n",
              "              \n",
              "                       [[ 9.0718e-02,  1.0208e-01,  2.8699e-02],\n",
              "                        [-6.6137e-02,  5.1300e-02,  1.7963e-02],\n",
              "                        [ 2.8663e-02,  3.4643e-02,  8.0254e-02]],\n",
              "              \n",
              "                       [[-4.5309e-02, -2.3711e-02,  2.8746e-02],\n",
              "                        [ 1.1486e-02,  8.5000e-02, -5.5365e-02],\n",
              "                        [-3.8387e-03,  1.9696e-02, -2.7996e-02]],\n",
              "              \n",
              "                       [[ 7.1859e-02,  1.1530e-02, -9.7422e-02],\n",
              "                        [-1.1420e-02, -4.7809e-02,  1.0243e-02],\n",
              "                        [-1.2250e-02, -1.0456e-01, -1.9208e-02]],\n",
              "              \n",
              "                       [[-1.0096e-02, -3.1083e-02,  9.6848e-02],\n",
              "                        [-2.3000e-02,  6.7717e-02,  2.6112e-02],\n",
              "                        [-8.8979e-02,  2.4770e-02,  8.7356e-02]],\n",
              "              \n",
              "                       [[-6.8948e-02, -6.8134e-02,  1.0318e-01],\n",
              "                        [ 8.4697e-02, -5.8807e-02,  6.3429e-02],\n",
              "                        [-1.3485e-02, -1.0393e-01,  7.9198e-03]],\n",
              "              \n",
              "                       [[ 3.4057e-02, -3.1619e-02,  3.6670e-02],\n",
              "                        [-9.0136e-02,  7.3050e-02,  8.9865e-02],\n",
              "                        [ 5.8130e-02,  1.7866e-02,  3.4716e-02]]],\n",
              "              \n",
              "              \n",
              "                      [[[-7.6269e-02, -2.6339e-02, -1.0063e-02],\n",
              "                        [-5.8659e-02, -7.7857e-02,  7.0900e-02],\n",
              "                        [ 7.1535e-02, -9.5731e-02,  3.3542e-02]],\n",
              "              \n",
              "                       [[ 4.2881e-02,  1.0014e-01,  6.0985e-02],\n",
              "                        [ 9.6907e-02, -3.4510e-02,  7.3827e-02],\n",
              "                        [ 8.5740e-02, -9.9541e-02, -8.4613e-02]],\n",
              "              \n",
              "                       [[ 2.1335e-02,  5.7557e-02, -5.2369e-02],\n",
              "                        [ 1.1609e-02, -1.5303e-04,  2.6680e-02],\n",
              "                        [-5.6642e-02,  5.9455e-02,  7.0098e-02]],\n",
              "              \n",
              "                       [[-7.3139e-02,  1.0211e-03,  2.9247e-04],\n",
              "                        [ 3.3849e-02,  9.8198e-02,  3.0913e-02],\n",
              "                        [-2.3951e-02,  9.4672e-02, -4.0112e-02]],\n",
              "              \n",
              "                       [[-3.0608e-02,  7.1969e-03, -8.0270e-02],\n",
              "                        [ 1.1470e-02, -7.1518e-02,  1.0838e-02],\n",
              "                        [ 1.0099e-02,  1.4591e-02, -8.8891e-02]],\n",
              "              \n",
              "                       [[-1.0012e-01,  4.8501e-02,  9.0399e-02],\n",
              "                        [-9.3537e-02,  3.9043e-02, -7.7594e-02],\n",
              "                        [ 6.6082e-03,  9.8068e-02,  7.9965e-02]],\n",
              "              \n",
              "                       [[-7.7069e-02,  6.5203e-02,  5.5057e-02],\n",
              "                        [-1.6168e-04,  1.0211e-01, -4.1866e-02],\n",
              "                        [-2.4530e-02, -5.3275e-02,  1.5168e-02]],\n",
              "              \n",
              "                       [[ 2.7911e-02,  8.3990e-03, -5.9307e-02],\n",
              "                        [-4.7452e-02,  3.5855e-02, -9.2426e-02],\n",
              "                        [-1.6416e-02, -2.3350e-03, -4.2708e-02]],\n",
              "              \n",
              "                       [[ 3.8360e-02,  6.7940e-03,  7.4004e-02],\n",
              "                        [-9.3616e-03, -6.6528e-02,  7.4477e-02],\n",
              "                        [ 1.4720e-02, -3.0189e-02, -6.9476e-02]],\n",
              "              \n",
              "                       [[ 2.4707e-02, -1.0053e-01,  2.7762e-02],\n",
              "                        [ 5.2119e-02, -9.2465e-02, -6.9009e-02],\n",
              "                        [-7.5781e-02,  8.8597e-02,  8.9611e-02]]],\n",
              "              \n",
              "              \n",
              "                      [[[ 6.5987e-03,  9.8959e-02, -3.5239e-02],\n",
              "                        [-1.0233e-01,  3.6819e-02,  3.7343e-02],\n",
              "                        [ 1.0334e-01, -3.0510e-05,  8.0785e-02]],\n",
              "              \n",
              "                       [[ 6.4612e-02,  7.6292e-02, -1.0460e-01],\n",
              "                        [ 8.6800e-02, -8.9856e-02,  9.4501e-02],\n",
              "                        [-4.3682e-03, -9.3415e-02,  2.9314e-02]],\n",
              "              \n",
              "                       [[-2.1456e-02, -9.4678e-02, -3.8215e-02],\n",
              "                        [ 1.0868e-02,  8.2098e-02, -3.2406e-02],\n",
              "                        [ 6.2610e-02,  1.3200e-02,  3.5531e-03]],\n",
              "              \n",
              "                       [[ 2.0170e-02, -6.9177e-02, -8.7616e-02],\n",
              "                        [-3.3121e-02, -9.8226e-02, -4.9158e-02],\n",
              "                        [ 4.8494e-03, -6.9424e-02, -4.3723e-02]],\n",
              "              \n",
              "                       [[-1.8941e-02, -1.2144e-02, -5.8187e-02],\n",
              "                        [ 5.0650e-03, -1.4795e-02,  3.0147e-02],\n",
              "                        [ 4.7611e-03, -5.2638e-02, -3.6291e-02]],\n",
              "              \n",
              "                       [[-1.2149e-03, -6.5774e-02,  8.2520e-03],\n",
              "                        [-7.4425e-03,  4.0897e-02,  2.4947e-02],\n",
              "                        [ 7.8887e-02, -3.4749e-03, -7.7887e-02]],\n",
              "              \n",
              "                       [[ 4.7119e-02, -7.1240e-02, -1.4489e-02],\n",
              "                        [-3.4132e-02, -3.9997e-02, -3.9000e-02],\n",
              "                        [ 9.6863e-02,  6.0342e-02,  2.9213e-02]],\n",
              "              \n",
              "                       [[ 9.8975e-02, -9.5524e-02,  1.7010e-02],\n",
              "                        [ 6.7481e-02,  7.0022e-02, -8.3890e-02],\n",
              "                        [ 3.7514e-02, -6.0050e-02, -4.1187e-03]],\n",
              "              \n",
              "                       [[-2.1996e-02, -8.8013e-02, -1.0055e-01],\n",
              "                        [-6.9349e-02,  4.7832e-02,  4.8218e-02],\n",
              "                        [-9.1681e-02, -3.9586e-02,  1.7218e-03]],\n",
              "              \n",
              "                       [[-9.1135e-02,  5.9393e-02,  9.5473e-02],\n",
              "                        [ 1.8643e-02, -7.8321e-02,  2.4580e-02],\n",
              "                        [ 3.8265e-02,  8.3468e-02, -5.6085e-02]]],\n",
              "              \n",
              "              \n",
              "                      [[[-9.4437e-02,  4.6312e-02,  6.5624e-03],\n",
              "                        [-3.4345e-02, -4.4169e-02, -5.4351e-02],\n",
              "                        [ 8.5328e-02, -1.8187e-02,  7.6022e-02]],\n",
              "              \n",
              "                       [[ 9.4094e-02,  1.3353e-02,  2.2454e-02],\n",
              "                        [-7.1789e-03,  7.2397e-02, -9.4983e-02],\n",
              "                        [ 4.1919e-02, -1.7174e-02,  4.8132e-02]],\n",
              "              \n",
              "                       [[-4.6949e-04, -3.9029e-02, -1.1379e-02],\n",
              "                        [ 5.6920e-02, -7.3210e-02, -6.6629e-02],\n",
              "                        [-2.3611e-02, -3.8235e-02,  4.1409e-02]],\n",
              "              \n",
              "                       [[ 7.0937e-02, -1.1289e-02,  9.9672e-02],\n",
              "                        [-4.4042e-02, -5.9151e-02, -4.7191e-02],\n",
              "                        [-7.2624e-02, -7.3885e-02, -9.3921e-02]],\n",
              "              \n",
              "                       [[-9.3422e-02,  2.7512e-02,  6.4284e-02],\n",
              "                        [ 9.8963e-02,  8.9787e-02, -6.0709e-03],\n",
              "                        [ 2.0454e-02, -6.3068e-02,  4.0743e-02]],\n",
              "              \n",
              "                       [[-1.0107e-01,  4.9719e-02,  1.9334e-02],\n",
              "                        [ 3.2393e-02,  3.8595e-02, -4.8394e-02],\n",
              "                        [ 9.0452e-02,  5.0307e-02,  6.9243e-02]],\n",
              "              \n",
              "                       [[ 1.3922e-02,  6.6196e-02,  7.0941e-02],\n",
              "                        [ 4.7775e-02,  8.0297e-02, -1.9119e-02],\n",
              "                        [ 6.9310e-02,  2.4286e-02,  6.3424e-02]],\n",
              "              \n",
              "                       [[ 1.0267e-01,  2.3869e-02, -3.9124e-02],\n",
              "                        [-1.0488e-02,  2.9676e-02,  1.7773e-02],\n",
              "                        [-2.8795e-02,  8.2590e-02,  6.3331e-02]],\n",
              "              \n",
              "                       [[-6.5475e-02, -8.5889e-03, -1.0119e-02],\n",
              "                        [-6.6063e-02,  1.5374e-02, -3.2360e-02],\n",
              "                        [-5.4419e-02, -3.3894e-02, -3.7584e-02]],\n",
              "              \n",
              "                       [[ 1.0084e-01,  4.0432e-02,  1.0373e-01],\n",
              "                        [ 2.8903e-02,  2.3868e-02,  4.3333e-02],\n",
              "                        [ 1.8092e-02, -8.2722e-02, -6.2334e-02]]],\n",
              "              \n",
              "              \n",
              "                      [[[-2.5538e-02,  1.5846e-03,  3.9709e-02],\n",
              "                        [ 4.0588e-02,  8.3623e-02,  2.1458e-02],\n",
              "                        [-3.5975e-02, -7.9271e-02, -7.7203e-02]],\n",
              "              \n",
              "                       [[-6.2965e-02,  3.1792e-02,  5.6950e-02],\n",
              "                        [ 9.2224e-02, -3.3342e-02, -8.3150e-03],\n",
              "                        [-3.1303e-02, -3.8517e-04,  3.3837e-02]],\n",
              "              \n",
              "                       [[-2.3160e-03,  4.8799e-03,  1.3354e-02],\n",
              "                        [ 3.9256e-02, -3.1981e-02, -6.2855e-02],\n",
              "                        [ 2.4869e-02, -1.2481e-02, -4.7753e-02]],\n",
              "              \n",
              "                       [[ 4.4268e-02,  9.5597e-04, -1.5333e-02],\n",
              "                        [-5.1027e-02, -1.3868e-02, -8.9632e-02],\n",
              "                        [ 2.3980e-02,  1.5818e-03,  6.3966e-02]],\n",
              "              \n",
              "                       [[ 6.8063e-03,  8.4277e-03,  2.8715e-02],\n",
              "                        [ 8.0210e-02, -4.9812e-02,  6.2930e-02],\n",
              "                        [ 2.5779e-02, -7.0320e-02,  3.6702e-02]],\n",
              "              \n",
              "                       [[-6.3217e-02, -3.3181e-02, -5.0245e-02],\n",
              "                        [-7.1711e-02,  8.3017e-02, -9.4217e-02],\n",
              "                        [ 5.2706e-02, -9.4870e-02, -1.2829e-02]],\n",
              "              \n",
              "                       [[ 6.2868e-03,  7.4937e-02, -3.8147e-02],\n",
              "                        [ 3.0340e-02,  1.6329e-02,  6.2021e-02],\n",
              "                        [ 6.2667e-03,  3.9470e-02, -6.3677e-02]],\n",
              "              \n",
              "                       [[-7.3250e-02,  9.3928e-02, -7.6808e-02],\n",
              "                        [-1.7945e-02, -1.2742e-02,  1.0308e-01],\n",
              "                        [-2.2780e-02, -8.0249e-02, -2.6721e-02]],\n",
              "              \n",
              "                       [[ 5.4372e-02,  4.1773e-02,  8.7204e-02],\n",
              "                        [-2.1579e-02,  4.9653e-02, -9.9194e-02],\n",
              "                        [ 4.0787e-02,  4.8432e-02,  6.7998e-02]],\n",
              "              \n",
              "                       [[-6.0446e-02, -2.8142e-02,  2.5502e-02],\n",
              "                        [-7.4905e-02, -8.3851e-02, -1.0141e-01],\n",
              "                        [ 5.8842e-03,  6.5458e-02,  2.7075e-02]]],\n",
              "              \n",
              "              \n",
              "                      [[[ 6.4263e-03,  3.6727e-02, -6.6240e-02],\n",
              "                        [ 1.1113e-02, -2.6186e-02, -5.2193e-02],\n",
              "                        [ 9.0902e-02, -8.1550e-02,  1.5448e-02]],\n",
              "              \n",
              "                       [[-9.2624e-02, -3.5762e-03, -4.6840e-02],\n",
              "                        [ 3.4695e-02, -5.9191e-02,  6.7466e-02],\n",
              "                        [-8.5536e-02,  6.3313e-02, -7.9181e-02]],\n",
              "              \n",
              "                       [[ 5.6456e-02, -4.4384e-02, -2.4556e-04],\n",
              "                        [-1.9238e-02,  6.8414e-02,  3.4546e-02],\n",
              "                        [-9.2887e-02,  9.6914e-03, -7.2718e-02]],\n",
              "              \n",
              "                       [[ 7.8800e-02,  1.7319e-02, -2.7109e-02],\n",
              "                        [-5.3777e-02,  3.6485e-02, -6.3129e-02],\n",
              "                        [ 4.9992e-02,  5.7519e-02,  6.4701e-02]],\n",
              "              \n",
              "                       [[ 2.7537e-02, -9.2272e-02,  7.5823e-02],\n",
              "                        [-3.2700e-02, -3.1163e-02, -1.1325e-02],\n",
              "                        [ 7.7068e-02,  8.1052e-02,  1.6276e-02]],\n",
              "              \n",
              "                       [[ 5.0296e-02, -9.8241e-02,  2.4900e-04],\n",
              "                        [-9.3254e-02,  3.5876e-02, -7.5099e-02],\n",
              "                        [-3.7568e-02,  7.3684e-02,  1.0074e-01]],\n",
              "              \n",
              "                       [[-6.3286e-02, -5.8503e-02,  1.3055e-02],\n",
              "                        [ 4.1437e-02, -1.7168e-02, -3.2918e-02],\n",
              "                        [-6.9237e-02,  4.4997e-02,  1.0328e-01]],\n",
              "              \n",
              "                       [[-5.1026e-02,  4.9718e-02,  5.1481e-02],\n",
              "                        [ 8.4728e-02, -1.2001e-02,  3.3202e-03],\n",
              "                        [ 7.7444e-02,  6.6631e-02,  1.0411e-01]],\n",
              "              \n",
              "                       [[-3.0207e-02,  4.1709e-02,  7.3605e-02],\n",
              "                        [-7.1553e-02,  2.0940e-02, -2.3586e-02],\n",
              "                        [ 6.7760e-02, -4.7342e-02,  7.3933e-03]],\n",
              "              \n",
              "                       [[ 6.3067e-02, -9.6567e-02, -8.9004e-02],\n",
              "                        [-5.3989e-02,  6.7611e-02,  7.0680e-02],\n",
              "                        [-7.1991e-02,  2.0100e-02, -5.5854e-02]]],\n",
              "              \n",
              "              \n",
              "                      [[[-4.8926e-02,  9.0907e-02,  5.0914e-02],\n",
              "                        [-2.8828e-02,  1.5516e-02,  2.0424e-02],\n",
              "                        [ 2.4691e-02, -3.6079e-02, -6.2074e-02]],\n",
              "              \n",
              "                       [[ 6.9788e-02,  1.4164e-02,  4.4119e-02],\n",
              "                        [-3.9922e-02,  5.1057e-02,  7.6713e-02],\n",
              "                        [ 6.4107e-02,  2.8660e-02,  1.0371e-01]],\n",
              "              \n",
              "                       [[-2.3053e-04,  2.2441e-02,  1.0015e-01],\n",
              "                        [ 1.0245e-01, -4.4506e-02,  9.4953e-02],\n",
              "                        [ 3.8902e-02, -1.1799e-02,  9.2038e-02]],\n",
              "              \n",
              "                       [[-5.4605e-02,  6.8490e-02,  1.0445e-01],\n",
              "                        [-7.2701e-02, -6.2201e-02, -1.0445e-01],\n",
              "                        [-1.8970e-02, -9.5733e-02, -3.5304e-02]],\n",
              "              \n",
              "                       [[ 3.2002e-02,  7.4511e-02,  5.8717e-02],\n",
              "                        [ 5.8511e-02,  4.3730e-02, -6.5378e-02],\n",
              "                        [-8.3694e-02,  4.3696e-03,  1.0009e-01]],\n",
              "              \n",
              "                       [[ 5.9351e-03, -9.0662e-03, -7.1545e-02],\n",
              "                        [-5.2266e-02, -8.1256e-02,  8.4398e-02],\n",
              "                        [-1.7174e-02, -9.3119e-02,  1.1308e-02]],\n",
              "              \n",
              "                       [[ 7.6494e-03, -1.3023e-02,  3.7733e-02],\n",
              "                        [ 5.6687e-02, -9.9128e-02, -8.0753e-02],\n",
              "                        [-5.0639e-03, -9.7729e-02, -9.5750e-02]],\n",
              "              \n",
              "                       [[ 9.3067e-02, -8.0174e-03, -5.2113e-02],\n",
              "                        [-3.6157e-02, -8.2295e-02,  8.2258e-02],\n",
              "                        [-2.2857e-02, -5.9265e-02, -7.9944e-02]],\n",
              "              \n",
              "                       [[ 6.1611e-02, -1.4571e-02, -1.1074e-02],\n",
              "                        [-2.7473e-02, -5.0883e-02,  1.8751e-02],\n",
              "                        [ 8.1099e-02, -6.1093e-02,  5.0504e-03]],\n",
              "              \n",
              "                       [[-8.0165e-02, -4.9426e-02,  9.2525e-02],\n",
              "                        [ 1.1052e-03,  1.0154e-01, -1.8468e-02],\n",
              "                        [-5.7453e-02, -6.2981e-02,  9.3426e-02]]],\n",
              "              \n",
              "              \n",
              "                      [[[-8.1058e-02,  5.5318e-02,  2.6203e-02],\n",
              "                        [ 3.1107e-02,  5.9476e-02, -2.7577e-02],\n",
              "                        [ 6.5223e-02, -8.3982e-02, -3.7087e-02]],\n",
              "              \n",
              "                       [[ 7.7164e-02,  3.1283e-02, -1.4038e-02],\n",
              "                        [-2.4616e-02, -6.4364e-02,  6.4098e-02],\n",
              "                        [-3.3520e-03, -3.5664e-03,  2.4929e-02]],\n",
              "              \n",
              "                       [[ 7.7787e-02, -5.3778e-02, -3.6303e-02],\n",
              "                        [ 7.1429e-02,  5.9532e-02, -5.1855e-02],\n",
              "                        [-1.0428e-01,  1.9555e-02,  5.5434e-02]],\n",
              "              \n",
              "                       [[ 2.5178e-02,  7.4768e-02, -8.3640e-02],\n",
              "                        [ 5.3156e-02, -6.5531e-02,  5.9325e-02],\n",
              "                        [ 7.8394e-02,  3.3385e-02,  8.5284e-02]],\n",
              "              \n",
              "                       [[-6.9481e-02, -9.4275e-02, -1.0135e-01],\n",
              "                        [ 6.6179e-02,  3.6926e-02, -7.7188e-02],\n",
              "                        [ 5.1048e-02,  9.6177e-02, -1.0394e-01]],\n",
              "              \n",
              "                       [[ 7.6466e-02,  1.6167e-02,  9.8053e-03],\n",
              "                        [ 9.4847e-02,  9.5458e-02,  4.4414e-02],\n",
              "                        [ 8.3288e-02,  4.3853e-02,  1.7176e-02]],\n",
              "              \n",
              "                       [[-9.2656e-02,  1.9689e-02, -7.4993e-02],\n",
              "                        [ 3.2452e-02,  1.8598e-02,  2.3681e-03],\n",
              "                        [-7.2071e-02, -6.3899e-02,  7.7912e-02]],\n",
              "              \n",
              "                       [[ 5.1336e-02,  5.5576e-02, -3.1410e-02],\n",
              "                        [-1.8151e-02, -2.7014e-02,  7.2489e-02],\n",
              "                        [-4.5504e-02,  6.6394e-02,  7.2679e-02]],\n",
              "              \n",
              "                       [[-9.6403e-02,  6.4369e-04, -2.0076e-02],\n",
              "                        [-5.8273e-02,  4.5507e-02, -1.2807e-02],\n",
              "                        [ 9.2287e-02, -6.5976e-02,  4.8976e-02]],\n",
              "              \n",
              "                       [[-8.9998e-02, -5.2833e-02,  7.1903e-03],\n",
              "                        [ 8.3283e-02,  5.5521e-02, -8.6550e-02],\n",
              "                        [ 1.1676e-02, -6.2138e-02,  4.5674e-03]]]], device='cuda:0')),\n",
              "             ('conv_block_2.0.bias',\n",
              "              tensor([-0.0878, -0.0309,  0.0723, -0.0967, -0.1005,  0.0192,  0.0144, -0.0193,\n",
              "                       0.0920, -0.0635], device='cuda:0')),\n",
              "             ('conv_block_2.2.weight',\n",
              "              tensor([[[[-6.3992e-02, -7.8791e-02, -1.9619e-02],\n",
              "                        [-2.6901e-02,  6.5222e-02, -5.9186e-03],\n",
              "                        [ 3.3663e-02, -4.3804e-02,  8.5507e-02]],\n",
              "              \n",
              "                       [[ 8.8862e-02, -9.4401e-02, -2.7090e-02],\n",
              "                        [-8.9439e-02,  4.4781e-02, -9.2094e-02],\n",
              "                        [-4.9839e-02,  1.0532e-01, -1.0066e-01]],\n",
              "              \n",
              "                       [[ 7.7771e-02,  8.9049e-03,  8.4289e-02],\n",
              "                        [-5.3494e-02,  6.9236e-02,  1.2718e-02],\n",
              "                        [ 8.1073e-03,  7.1945e-02, -1.0019e-01]],\n",
              "              \n",
              "                       [[-8.4902e-02,  1.0180e-01, -6.3298e-02],\n",
              "                        [-7.5980e-02, -5.1539e-03, -3.3742e-02],\n",
              "                        [-1.4421e-02, -7.0623e-02,  3.8034e-02]],\n",
              "              \n",
              "                       [[-9.0703e-02,  8.5374e-03,  6.1510e-02],\n",
              "                        [ 2.0253e-02,  1.4006e-02,  1.5418e-02],\n",
              "                        [-3.0880e-02, -2.0080e-02, -4.4450e-02]],\n",
              "              \n",
              "                       [[-7.1207e-02, -5.5810e-02,  1.0420e-01],\n",
              "                        [-1.7641e-02,  3.6924e-02,  7.2896e-02],\n",
              "                        [-8.2343e-03, -5.6707e-02, -7.1419e-02]],\n",
              "              \n",
              "                       [[-3.8833e-02,  3.7624e-02, -8.8771e-02],\n",
              "                        [-1.2870e-02,  4.0096e-02,  8.5999e-02],\n",
              "                        [ 3.1721e-02,  2.0846e-02,  7.2162e-02]],\n",
              "              \n",
              "                       [[ 4.8708e-02,  3.5661e-02, -3.2682e-02],\n",
              "                        [-8.4528e-02, -2.2769e-02, -1.9117e-02],\n",
              "                        [ 7.7410e-03, -1.1593e-02,  4.2616e-02]],\n",
              "              \n",
              "                       [[ 7.0050e-02, -4.2735e-02, -1.0002e-01],\n",
              "                        [-5.4081e-02, -5.0436e-02,  5.9750e-02],\n",
              "                        [-6.7994e-02, -9.9145e-03, -2.2340e-02]],\n",
              "              \n",
              "                       [[-6.3976e-02,  4.7780e-02, -4.3909e-02],\n",
              "                        [-5.4531e-03, -7.4112e-02, -1.0632e-02],\n",
              "                        [ 1.4977e-02, -4.2894e-03, -3.9386e-02]]],\n",
              "              \n",
              "              \n",
              "                      [[[ 3.1315e-02, -2.7311e-02, -5.8439e-02],\n",
              "                        [-7.7732e-02, -2.2329e-02, -9.9578e-02],\n",
              "                        [ 8.7492e-02, -5.0357e-02, -4.3684e-02]],\n",
              "              \n",
              "                       [[ 9.7439e-03,  2.7326e-02, -9.9393e-03],\n",
              "                        [ 7.2313e-02, -6.1448e-02,  3.7777e-02],\n",
              "                        [-2.3773e-04, -8.5747e-02, -4.0824e-02]],\n",
              "              \n",
              "                       [[ 2.6825e-02,  2.0138e-02,  7.6647e-02],\n",
              "                        [ 7.0518e-02, -5.7493e-02, -4.5013e-02],\n",
              "                        [-2.2351e-02, -7.5517e-02, -2.8459e-02]],\n",
              "              \n",
              "                       [[-8.6258e-02,  4.0092e-02,  7.4583e-02],\n",
              "                        [ 8.3459e-03, -7.5460e-02, -7.9827e-02],\n",
              "                        [-4.1036e-02,  3.0659e-02,  2.5711e-03]],\n",
              "              \n",
              "                       [[ 1.9166e-02,  9.9346e-02,  4.8956e-02],\n",
              "                        [ 2.2665e-02, -2.1327e-02,  4.9864e-02],\n",
              "                        [ 3.8563e-02, -9.4879e-02, -6.2266e-02]],\n",
              "              \n",
              "                       [[ 3.5381e-03,  3.9997e-02,  5.1282e-02],\n",
              "                        [-6.2748e-02, -1.0458e-01, -5.4909e-03],\n",
              "                        [-1.2050e-02,  3.0588e-02, -2.8988e-02]],\n",
              "              \n",
              "                       [[ 8.0588e-02,  7.0333e-03,  7.6975e-02],\n",
              "                        [-7.3398e-02,  4.2167e-02,  1.2560e-02],\n",
              "                        [-5.2720e-02,  5.2256e-02, -1.0372e-01]],\n",
              "              \n",
              "                       [[ 8.5220e-02,  8.4947e-03,  1.0178e-02],\n",
              "                        [ 4.8746e-02,  8.7503e-03,  4.5184e-02],\n",
              "                        [ 6.7063e-02, -8.2268e-02,  6.9735e-02]],\n",
              "              \n",
              "                       [[-1.5784e-02, -2.4513e-02,  2.1217e-02],\n",
              "                        [ 8.2446e-02, -5.7302e-02, -7.1039e-02],\n",
              "                        [ 6.5418e-02, -4.9507e-02,  3.3937e-02]],\n",
              "              \n",
              "                       [[-1.5530e-02,  2.9014e-02,  8.0439e-02],\n",
              "                        [-5.3421e-02, -5.1151e-02,  5.1716e-02],\n",
              "                        [ 5.7714e-03, -1.1601e-02, -9.2590e-02]]],\n",
              "              \n",
              "              \n",
              "                      [[[ 8.9309e-02, -3.9919e-03, -1.9415e-02],\n",
              "                        [-4.3269e-02, -2.0801e-02,  5.1233e-02],\n",
              "                        [-2.4227e-03,  9.0147e-02, -6.0858e-03]],\n",
              "              \n",
              "                       [[-1.5122e-02,  5.9498e-02, -2.7275e-03],\n",
              "                        [-2.1039e-02,  3.5231e-02,  8.3129e-02],\n",
              "                        [ 2.6305e-02,  7.3398e-02,  6.8309e-02]],\n",
              "              \n",
              "                       [[ 2.9810e-02,  3.6650e-02,  3.4014e-02],\n",
              "                        [ 1.0934e-02,  8.9675e-02,  9.7308e-02],\n",
              "                        [ 3.7524e-02, -5.2640e-03,  9.4509e-02]],\n",
              "              \n",
              "                       [[-8.2042e-02,  7.7453e-02,  5.5849e-02],\n",
              "                        [ 6.7687e-02, -8.0992e-03, -7.8646e-02],\n",
              "                        [ 7.5193e-02, -4.6091e-02,  2.7734e-02]],\n",
              "              \n",
              "                       [[ 5.9719e-02, -9.8508e-02,  6.9954e-03],\n",
              "                        [-3.7444e-02,  7.4815e-02, -6.7114e-02],\n",
              "                        [ 6.4001e-02,  6.5730e-02,  5.8156e-02]],\n",
              "              \n",
              "                       [[ 1.0119e-01,  1.5964e-02, -9.5541e-02],\n",
              "                        [ 7.5248e-02,  9.6499e-03,  2.0918e-03],\n",
              "                        [-1.0041e-01, -2.3691e-02, -5.1162e-02]],\n",
              "              \n",
              "                       [[ 1.0324e-01,  7.5054e-02,  7.8634e-02],\n",
              "                        [ 7.2188e-02, -6.5340e-02, -4.5270e-02],\n",
              "                        [-4.1252e-02, -4.2257e-02,  8.2054e-02]],\n",
              "              \n",
              "                       [[ 3.5815e-02,  8.4470e-02, -4.9309e-03],\n",
              "                        [-9.3965e-02, -3.0582e-02,  7.4081e-02],\n",
              "                        [ 6.4174e-02,  3.2632e-02, -3.0919e-02]],\n",
              "              \n",
              "                       [[-9.8386e-02, -5.6639e-02,  5.4958e-02],\n",
              "                        [-4.2518e-02,  5.0421e-02,  2.8781e-02],\n",
              "                        [-4.0486e-02,  6.4202e-02, -3.3871e-02]],\n",
              "              \n",
              "                       [[-3.5020e-03, -4.0152e-02, -9.9988e-02],\n",
              "                        [ 1.6996e-02,  3.0460e-02, -5.3072e-02],\n",
              "                        [ 6.4663e-02, -9.4558e-02, -1.0161e-01]]],\n",
              "              \n",
              "              \n",
              "                      [[[-6.5106e-02, -3.6430e-02, -1.1707e-02],\n",
              "                        [-2.0370e-02,  4.8108e-02, -9.2510e-02],\n",
              "                        [ 1.5521e-02,  1.8254e-03,  2.7842e-02]],\n",
              "              \n",
              "                       [[ 1.0479e-01,  6.4874e-02, -5.8366e-02],\n",
              "                        [-8.6378e-02, -2.5520e-02, -5.2876e-02],\n",
              "                        [ 3.6820e-02,  9.6628e-04,  8.4783e-02]],\n",
              "              \n",
              "                       [[ 4.1405e-02, -1.9382e-02,  3.6229e-03],\n",
              "                        [ 2.5244e-02, -1.3080e-02,  8.5058e-02],\n",
              "                        [-8.2420e-02,  5.1377e-02, -6.7192e-02]],\n",
              "              \n",
              "                       [[-9.2347e-02, -2.1640e-02,  5.1366e-02],\n",
              "                        [ 7.4478e-02,  2.6452e-02, -9.1104e-03],\n",
              "                        [-5.9092e-03, -4.2731e-02, -9.4592e-03]],\n",
              "              \n",
              "                       [[-7.2831e-03,  8.9699e-02,  6.1690e-02],\n",
              "                        [-8.4351e-02,  4.3604e-04, -6.4834e-02],\n",
              "                        [-1.6733e-02, -8.3776e-02,  2.7402e-02]],\n",
              "              \n",
              "                       [[-7.6008e-02,  1.0406e-01,  7.9605e-02],\n",
              "                        [-7.2559e-02, -9.9239e-02,  4.1128e-03],\n",
              "                        [-2.9425e-02,  3.0945e-02, -7.1353e-02]],\n",
              "              \n",
              "                       [[ 4.3148e-02, -9.1047e-02, -5.5632e-02],\n",
              "                        [-5.5414e-02,  5.1007e-02, -2.7597e-03],\n",
              "                        [-1.0130e-01, -6.0201e-02, -4.8781e-02]],\n",
              "              \n",
              "                       [[-9.7802e-02,  1.3497e-02,  3.7561e-02],\n",
              "                        [-1.9340e-02, -4.1947e-02, -6.3926e-04],\n",
              "                        [-8.3725e-02, -6.4184e-02, -2.4040e-03]],\n",
              "              \n",
              "                       [[ 9.3643e-02, -3.2414e-02,  5.2247e-02],\n",
              "                        [-4.1484e-02, -2.8060e-02, -1.0034e-01],\n",
              "                        [ 8.7330e-02,  1.0264e-01, -2.2139e-03]],\n",
              "              \n",
              "                       [[ 6.6974e-02,  8.6219e-02,  5.2359e-02],\n",
              "                        [ 5.4288e-02, -1.0035e-01, -9.9050e-02],\n",
              "                        [-8.0906e-02,  3.2970e-02, -9.1177e-02]]],\n",
              "              \n",
              "              \n",
              "                      [[[-8.0464e-02, -5.1092e-02, -9.7154e-02],\n",
              "                        [ 1.4203e-04,  1.5207e-02, -6.1686e-02],\n",
              "                        [ 6.9018e-02, -4.0018e-02, -2.9676e-02]],\n",
              "              \n",
              "                       [[ 8.0309e-02,  9.0499e-02, -1.2093e-02],\n",
              "                        [-7.5671e-02, -5.2881e-02,  1.3423e-02],\n",
              "                        [ 6.1790e-02,  5.2477e-02, -4.6547e-02]],\n",
              "              \n",
              "                       [[-9.9650e-02, -9.2249e-02, -3.3537e-02],\n",
              "                        [ 1.3223e-03, -4.7347e-02, -8.3348e-02],\n",
              "                        [ 1.1109e-02, -8.3668e-02, -8.0946e-02]],\n",
              "              \n",
              "                       [[-8.5692e-02, -2.8563e-02,  9.3104e-02],\n",
              "                        [ 4.1207e-02, -1.2498e-02,  2.1694e-02],\n",
              "                        [ 4.1975e-02,  6.1414e-04, -8.5020e-02]],\n",
              "              \n",
              "                       [[-6.4944e-02, -7.1610e-02, -2.6766e-03],\n",
              "                        [-9.6492e-02, -1.9166e-02, -3.8545e-02],\n",
              "                        [ 1.0345e-01,  8.5679e-02,  6.1227e-02]],\n",
              "              \n",
              "                       [[ 5.9116e-03, -3.4129e-02,  2.6887e-02],\n",
              "                        [-7.2830e-02, -4.4957e-02, -2.1175e-02],\n",
              "                        [-2.4766e-02, -9.9854e-02,  4.1903e-02]],\n",
              "              \n",
              "                       [[ 8.6803e-02, -5.8141e-02,  2.8415e-02],\n",
              "                        [-1.2225e-02, -3.8445e-03,  6.1443e-03],\n",
              "                        [ 9.1346e-02,  1.4124e-02, -6.6690e-02]],\n",
              "              \n",
              "                       [[-3.7917e-02,  5.1495e-02,  3.2893e-02],\n",
              "                        [ 2.0487e-03, -1.3912e-02, -4.1012e-02],\n",
              "                        [-3.7413e-02, -5.5602e-02,  1.7273e-02]],\n",
              "              \n",
              "                       [[ 2.9603e-02,  8.0717e-02, -2.3813e-02],\n",
              "                        [ 7.5461e-03,  6.8125e-02,  4.5852e-02],\n",
              "                        [ 1.3544e-02,  3.2390e-02,  5.4714e-03]],\n",
              "              \n",
              "                       [[-9.0419e-02,  4.0636e-03, -2.3040e-02],\n",
              "                        [ 9.5123e-02,  9.5145e-02,  2.0912e-02],\n",
              "                        [ 9.4215e-02, -5.4288e-02,  9.1619e-02]]],\n",
              "              \n",
              "              \n",
              "                      [[[ 9.0756e-02, -4.0288e-03, -8.4592e-02],\n",
              "                        [-3.4015e-02, -2.8189e-02,  1.7411e-03],\n",
              "                        [-9.5569e-02,  1.9535e-02, -4.3839e-02]],\n",
              "              \n",
              "                       [[-2.6989e-02, -5.4443e-02, -2.2255e-02],\n",
              "                        [-9.7896e-02, -5.5885e-02,  9.7108e-03],\n",
              "                        [ 6.9072e-02,  9.5790e-02, -7.9737e-02]],\n",
              "              \n",
              "                       [[ 4.4264e-02, -5.9419e-02, -8.1498e-02],\n",
              "                        [-4.6417e-03, -6.0468e-02, -9.0783e-02],\n",
              "                        [-9.8509e-02, -7.0556e-02,  8.6619e-02]],\n",
              "              \n",
              "                       [[ 5.8788e-02, -4.1726e-02, -7.0553e-02],\n",
              "                        [-8.1085e-02, -6.2246e-02, -4.3376e-02],\n",
              "                        [ 6.3308e-02,  3.4496e-02, -4.0622e-02]],\n",
              "              \n",
              "                       [[ 7.2567e-02, -6.5484e-02, -8.5876e-02],\n",
              "                        [ 2.3006e-02, -5.8123e-02,  2.9987e-02],\n",
              "                        [ 8.9306e-02, -4.9849e-02, -7.3556e-02]],\n",
              "              \n",
              "                       [[ 3.9676e-02, -9.5200e-02,  9.4044e-02],\n",
              "                        [-4.9780e-02,  5.0961e-02, -8.3818e-02],\n",
              "                        [-7.1348e-02,  1.1611e-02,  3.7463e-02]],\n",
              "              \n",
              "                       [[ 8.1734e-02,  8.8158e-02, -6.0623e-03],\n",
              "                        [-1.3552e-02,  1.7424e-02, -2.4486e-02],\n",
              "                        [ 3.5882e-03, -9.9828e-02, -8.6531e-02]],\n",
              "              \n",
              "                       [[ 7.2233e-02, -6.1597e-02,  8.3008e-02],\n",
              "                        [ 1.1568e-02,  2.5676e-02,  9.5804e-02],\n",
              "                        [-5.8628e-02, -1.6640e-02,  1.8675e-02]],\n",
              "              \n",
              "                       [[ 3.6012e-02, -1.0259e-01,  3.7464e-02],\n",
              "                        [-6.2163e-02,  1.3846e-02,  7.1315e-02],\n",
              "                        [-1.0500e-02, -3.3346e-03, -7.8757e-03]],\n",
              "              \n",
              "                       [[ 8.7962e-02,  5.9907e-02,  1.7727e-02],\n",
              "                        [-6.3437e-02, -5.7241e-02,  8.3964e-02],\n",
              "                        [ 7.5834e-02,  6.1033e-02, -8.2189e-02]]],\n",
              "              \n",
              "              \n",
              "                      [[[ 8.2092e-02, -1.0076e-02,  7.7661e-02],\n",
              "                        [ 9.1553e-02,  1.1554e-02, -4.3863e-02],\n",
              "                        [ 9.9153e-02, -5.4931e-02,  6.8876e-02]],\n",
              "              \n",
              "                       [[-1.0108e-01, -3.3153e-02, -9.1902e-02],\n",
              "                        [-4.7284e-02,  4.4759e-02, -7.5529e-02],\n",
              "                        [-9.1158e-02,  7.5371e-02,  5.6270e-02]],\n",
              "              \n",
              "                       [[-1.1527e-03, -7.4309e-02, -2.7927e-02],\n",
              "                        [-3.4129e-02,  6.5100e-02, -3.4478e-02],\n",
              "                        [-3.0360e-02, -7.4720e-02, -4.9646e-02]],\n",
              "              \n",
              "                       [[ 5.7074e-02,  6.7914e-02,  1.5315e-02],\n",
              "                        [-3.9549e-02,  1.0124e-01,  2.0806e-02],\n",
              "                        [-4.0688e-02, -3.6535e-02, -1.4752e-02]],\n",
              "              \n",
              "                       [[ 4.9974e-02,  3.8555e-02,  7.6418e-02],\n",
              "                        [-4.7494e-03,  8.7183e-02, -4.2816e-02],\n",
              "                        [-4.8547e-02, -3.8927e-02, -9.8896e-02]],\n",
              "              \n",
              "                       [[-6.9195e-02, -9.5382e-02, -6.2294e-03],\n",
              "                        [ 9.9374e-04, -2.7358e-02, -7.2035e-02],\n",
              "                        [ 9.5637e-02, -3.4926e-02,  5.0233e-02]],\n",
              "              \n",
              "                       [[ 7.3408e-02, -6.9291e-02, -1.3179e-02],\n",
              "                        [ 6.0923e-02,  1.0218e-01, -1.3299e-02],\n",
              "                        [ 7.6382e-02, -8.2732e-02, -6.8489e-02]],\n",
              "              \n",
              "                       [[ 8.6682e-02, -9.9801e-03,  1.0414e-01],\n",
              "                        [ 7.6651e-03, -4.3714e-02,  1.0011e-01],\n",
              "                        [ 9.2179e-02,  9.7826e-03, -6.3900e-02]],\n",
              "              \n",
              "                       [[-4.5639e-03, -5.0693e-02,  7.6810e-02],\n",
              "                        [ 4.8829e-03,  2.2191e-02,  6.3927e-02],\n",
              "                        [ 3.4916e-02, -6.5803e-02,  8.7566e-02]],\n",
              "              \n",
              "                       [[ 6.4758e-02, -6.5073e-02,  7.9700e-02],\n",
              "                        [ 2.9905e-02, -2.0750e-02, -7.5385e-02],\n",
              "                        [-1.7490e-02, -1.0335e-01,  6.0163e-02]]],\n",
              "              \n",
              "              \n",
              "                      [[[ 7.6343e-02, -3.0347e-02,  9.7720e-02],\n",
              "                        [-3.9032e-02,  1.8051e-02, -7.3459e-02],\n",
              "                        [-4.4565e-03,  4.2610e-02,  4.5403e-02]],\n",
              "              \n",
              "                       [[-3.5346e-03, -5.3154e-02,  7.3680e-02],\n",
              "                        [ 6.9788e-02,  1.6916e-02, -4.8475e-02],\n",
              "                        [ 2.2349e-02,  2.8186e-04,  9.6302e-02]],\n",
              "              \n",
              "                       [[ 1.5621e-02,  8.1301e-03,  7.2057e-03],\n",
              "                        [ 5.6079e-02, -1.3024e-03,  9.0351e-02],\n",
              "                        [ 5.4917e-02, -7.9650e-02, -1.2063e-06]],\n",
              "              \n",
              "                       [[-8.9472e-02, -8.0934e-02,  2.0480e-02],\n",
              "                        [ 2.3687e-02, -9.2246e-03,  1.0019e-01],\n",
              "                        [-5.6627e-02, -4.4176e-02, -1.6881e-02]],\n",
              "              \n",
              "                       [[ 6.3911e-04, -8.9284e-03,  9.4909e-02],\n",
              "                        [-4.4519e-02, -5.5137e-02,  9.0599e-03],\n",
              "                        [ 7.9171e-02,  2.5019e-02,  5.6787e-02]],\n",
              "              \n",
              "                       [[ 2.0406e-02,  8.9839e-02,  6.3311e-02],\n",
              "                        [ 7.5428e-02, -1.4198e-02, -8.7268e-02],\n",
              "                        [-5.0002e-02,  3.5910e-02,  7.3950e-02]],\n",
              "              \n",
              "                       [[-4.1184e-02,  8.7218e-02,  1.5150e-02],\n",
              "                        [ 4.1869e-04,  4.1093e-03, -1.8623e-02],\n",
              "                        [ 9.8683e-02,  4.5784e-03,  6.4564e-02]],\n",
              "              \n",
              "                       [[-8.8967e-02, -5.4309e-02,  1.1852e-02],\n",
              "                        [ 8.4169e-02,  5.0184e-02,  2.0076e-02],\n",
              "                        [-1.0414e-01,  1.9816e-03, -6.9581e-02]],\n",
              "              \n",
              "                       [[-9.0006e-02,  1.4414e-02, -6.6693e-02],\n",
              "                        [ 9.5674e-02, -5.7294e-02,  3.3970e-02],\n",
              "                        [ 6.1871e-02, -8.1928e-02,  5.3946e-02]],\n",
              "              \n",
              "                       [[-1.4114e-02,  5.4619e-02,  1.0201e-01],\n",
              "                        [-4.4922e-02, -4.5653e-02,  8.3753e-02],\n",
              "                        [ 1.1722e-02, -1.0513e-02,  7.9971e-02]]],\n",
              "              \n",
              "              \n",
              "                      [[[-5.0928e-02, -5.2047e-03,  7.2403e-02],\n",
              "                        [ 4.1195e-02, -6.8180e-02,  2.7398e-02],\n",
              "                        [-8.0368e-02, -5.7245e-02,  6.7779e-02]],\n",
              "              \n",
              "                       [[-2.8093e-02, -5.3691e-02,  7.4717e-03],\n",
              "                        [ 2.5759e-02, -6.5524e-02, -7.1084e-02],\n",
              "                        [-1.0209e-01,  2.7236e-02, -6.8013e-02]],\n",
              "              \n",
              "                       [[ 8.0331e-03, -2.3576e-02, -6.8923e-02],\n",
              "                        [-3.3636e-02, -8.1027e-02, -5.5797e-02],\n",
              "                        [-3.2857e-03, -9.0116e-02, -9.2447e-02]],\n",
              "              \n",
              "                       [[ 7.8958e-02,  9.9188e-03, -4.6618e-02],\n",
              "                        [-3.5047e-03,  7.8168e-02, -8.7939e-02],\n",
              "                        [-5.5886e-02, -7.6226e-02, -7.6634e-03]],\n",
              "              \n",
              "                       [[-3.6274e-03, -8.2146e-02,  7.3163e-02],\n",
              "                        [-8.0946e-02,  9.8414e-02, -7.2560e-02],\n",
              "                        [-1.4446e-02,  1.9710e-02, -4.6852e-02]],\n",
              "              \n",
              "                       [[ 9.6939e-02, -7.2673e-02, -5.8427e-03],\n",
              "                        [-7.7398e-02,  2.9261e-02,  8.9871e-02],\n",
              "                        [ 9.7776e-02,  1.2514e-02, -5.2773e-02]],\n",
              "              \n",
              "                       [[ 1.0244e-01,  7.8667e-03,  7.1317e-02],\n",
              "                        [-5.4751e-02, -4.8920e-02, -8.7504e-02],\n",
              "                        [ 9.6990e-02,  1.7486e-02, -7.5704e-02]],\n",
              "              \n",
              "                       [[ 9.0535e-03, -4.5211e-02,  5.2659e-03],\n",
              "                        [ 3.4988e-02, -5.2308e-02,  1.8394e-02],\n",
              "                        [-6.6553e-02,  2.0312e-02, -1.0178e-01]],\n",
              "              \n",
              "                       [[ 1.6797e-02,  1.0473e-01,  9.7094e-02],\n",
              "                        [ 3.8451e-02,  7.7563e-02,  1.0248e-01],\n",
              "                        [ 2.9870e-02,  3.5156e-02,  1.3707e-02]],\n",
              "              \n",
              "                       [[ 9.3322e-02,  9.0551e-02, -4.9570e-02],\n",
              "                        [-4.3333e-03, -5.3110e-02,  3.7824e-02],\n",
              "                        [-1.0214e-01,  3.7301e-02, -2.8929e-02]]],\n",
              "              \n",
              "              \n",
              "                      [[[ 3.8227e-02,  3.2899e-02, -5.2454e-02],\n",
              "                        [ 5.4687e-02,  4.4762e-02, -8.9602e-02],\n",
              "                        [ 1.0517e-01,  9.0731e-02,  6.5584e-02]],\n",
              "              \n",
              "                       [[-1.0699e-02,  3.7345e-02, -5.7028e-02],\n",
              "                        [-3.5818e-02,  4.9749e-02,  4.6925e-02],\n",
              "                        [ 4.1741e-02, -1.0053e-01,  8.7350e-02]],\n",
              "              \n",
              "                       [[-4.4028e-02,  9.1223e-02,  8.6852e-02],\n",
              "                        [ 3.9070e-02,  1.0502e-01,  6.0528e-02],\n",
              "                        [ 6.1821e-02, -3.5794e-02,  9.7766e-02]],\n",
              "              \n",
              "                       [[ 2.7627e-02,  6.2280e-02, -2.3834e-02],\n",
              "                        [ 7.6340e-02,  9.3509e-02, -8.0770e-02],\n",
              "                        [ 8.6415e-02, -6.9664e-02, -7.2571e-02]],\n",
              "              \n",
              "                       [[-8.8089e-02,  3.0459e-02, -7.9144e-02],\n",
              "                        [-3.9680e-02, -5.2988e-02,  2.8172e-02],\n",
              "                        [-1.0349e-01, -4.8324e-02,  7.7112e-04]],\n",
              "              \n",
              "                       [[ 9.4660e-03, -4.7605e-02,  3.7764e-02],\n",
              "                        [-6.9544e-02, -8.9270e-02, -1.4986e-02],\n",
              "                        [-5.6989e-02,  6.6443e-02, -7.2049e-02]],\n",
              "              \n",
              "                       [[-8.8494e-03,  4.3782e-02, -9.2311e-02],\n",
              "                        [ 8.1599e-02, -4.7895e-02, -2.8684e-02],\n",
              "                        [-6.4480e-02, -3.9279e-02, -4.0645e-02]],\n",
              "              \n",
              "                       [[-9.3801e-02,  3.6019e-02, -3.3768e-04],\n",
              "                        [ 1.0311e-01,  7.1117e-02,  9.1699e-02],\n",
              "                        [ 3.1014e-02,  5.5388e-02,  9.8704e-02]],\n",
              "              \n",
              "                       [[ 8.6545e-02, -8.0996e-02, -2.3636e-02],\n",
              "                        [-1.0166e-01,  3.9877e-03, -3.7229e-02],\n",
              "                        [ 9.1486e-02,  1.6666e-02,  1.1601e-03]],\n",
              "              \n",
              "                       [[-7.6248e-02, -8.2718e-02,  1.6594e-02],\n",
              "                        [-5.2376e-02, -4.8409e-02,  7.3938e-02],\n",
              "                        [-5.4952e-02, -4.6918e-02,  8.0934e-02]]]], device='cuda:0')),\n",
              "             ('conv_block_2.2.bias',\n",
              "              tensor([ 0.0412, -0.0599,  0.0319,  0.0531, -0.0936,  0.0197,  0.0241, -0.0041,\n",
              "                       0.1011, -0.0697], device='cuda:0')),\n",
              "             ('classifier.1.weight',\n",
              "              tensor([[ 0.0245, -0.0240, -0.0387,  ...,  0.0094, -0.0015, -0.0225],\n",
              "                      [ 0.0228,  0.0067, -0.0439,  ..., -0.0302,  0.0368,  0.0293],\n",
              "                      [ 0.0303,  0.0347, -0.0211,  ...,  0.0207, -0.0423, -0.0240],\n",
              "                      ...,\n",
              "                      [-0.0359, -0.0343,  0.0166,  ...,  0.0324,  0.0113, -0.0143],\n",
              "                      [-0.0294, -0.0316,  0.0251,  ..., -0.0056,  0.0300, -0.0396],\n",
              "                      [-0.0246, -0.0035, -0.0046,  ..., -0.0146, -0.0358,  0.0175]],\n",
              "                     device='cuda:0')),\n",
              "             ('classifier.1.bias',\n",
              "              tensor([ 0.0320, -0.0445,  0.0246, -0.0357, -0.0442,  0.0156, -0.0010, -0.0277,\n",
              "                       0.0404,  0.0037], device='cuda:0'))])"
            ]
          },
          "metadata": {},
          "execution_count": 111
        }
      ]
    },
    {
      "cell_type": "markdown",
      "source": [
        "### 7.4 Training and testing `model_2` using our training and test functions"
      ],
      "metadata": {
        "id": "s95N1y3gi8ar"
      }
    },
    {
      "cell_type": "code",
      "source": [
        "torch.manual_seed(42)\n",
        "torch.cuda.manual_seed(42)\n",
        "\n",
        "# Measure it\n",
        "from timeit import default_timer as timer\n",
        "train_time_start_model_2 = timer()\n",
        "\n",
        "# Train and test model\n",
        "epochs = 3\n",
        "for epoch in tqdm(range(epochs)):\n",
        "  print(f\"Epoch: {epoch}\\n---------\")\n",
        "  train_step(model = model_2,\n",
        "             data_loader = train_dataloader,\n",
        "             loss_fn = loss_fn,\n",
        "             optimizer = optimizer,\n",
        "             accuracy_fn = accuracy_fn,\n",
        "             device = device)\n",
        "  test_step(model = model_2,\n",
        "            data_loader = test_dataloader,\n",
        "            loss_fn = loss_fn,\n",
        "            accuracy = accuracy_fn,\n",
        "            device = device)\n",
        "train_time_end_model_2 = timer()\n",
        "total_train_time_model_2 = print_train_time(start = train_time_start_model_2,\n",
        "                                            end = train_time_end_model_2,\n",
        "                                            device = device)"
      ],
      "metadata": {
        "colab": {
          "base_uri": "https://localhost:8080/",
          "height": 275,
          "referenced_widgets": [
            "295a9c0dc4f04e6db26c4e28fe0ac930",
            "d33e281c1b04414392cb038b516795ea",
            "2f95f35b3ebd463ba7fa782030050728",
            "c3bad68c90b74fb596b37eb83e085ae3",
            "f8fc8ebec8c54b859ee43bafcfdc0740",
            "174278bb680945c7b3d9ef0d078000ac",
            "569313c50d1641db884257ea18dc4067",
            "c5844ae1eab64ff3b62ab15ff8517506",
            "f5387530841f47c6a6dcec6af4eb9f34",
            "fecb7a6108304c5fa7174eb05cac4b6d",
            "2acfbbc4bdfd439d8ead5071cdaa913a"
          ]
        },
        "id": "Z03IFW1tjCw0",
        "outputId": "7db46d4e-51c5-4b93-b8e7-1f6304ed863f"
      },
      "execution_count": 112,
      "outputs": [
        {
          "output_type": "display_data",
          "data": {
            "text/plain": [
              "  0%|          | 0/3 [00:00<?, ?it/s]"
            ],
            "application/vnd.jupyter.widget-view+json": {
              "version_major": 2,
              "version_minor": 0,
              "model_id": "295a9c0dc4f04e6db26c4e28fe0ac930"
            }
          },
          "metadata": {}
        },
        {
          "output_type": "stream",
          "name": "stdout",
          "text": [
            "Epoch: 0\n",
            "---------\n",
            "Train loss: 0.59508 | Train acc: 78.45%\n",
            "Test loss: 0.39614 | Test acc: 85.88%\n",
            "Epoch: 1\n",
            "---------\n",
            "Train loss: 0.36253 | Train acc: 86.95%\n",
            "Test loss: 0.35369 | Test acc: 87.06%\n",
            "Epoch: 2\n",
            "---------\n",
            "Train loss: 0.32590 | Train acc: 88.15%\n",
            "Test loss: 0.33339 | Test acc: 88.02%\n",
            "Train time on None: 34.056 seconds\n"
          ]
        }
      ]
    },
    {
      "cell_type": "code",
      "source": [
        "# Get model_2 results\n",
        "model_2_results = eval_model(model = model_2,\n",
        "                             data_loader = test_dataloader,\n",
        "                             loss_fn = loss_fn,\n",
        "                             accuracy_fn = accuracy_fn,\n",
        "                             device = device)\n",
        "model_2_results"
      ],
      "metadata": {
        "colab": {
          "base_uri": "https://localhost:8080/"
        },
        "id": "jiWC_oFyjmAZ",
        "outputId": "63f1e3aa-615a-481e-c479-8a87f59e7186"
      },
      "execution_count": 114,
      "outputs": [
        {
          "output_type": "execute_result",
          "data": {
            "text/plain": [
              "{'model_name': 'FashionMNISTModelV2',\n",
              " 'loss': 0.3333948850631714,\n",
              " 'acc': 88.01916932907348}"
            ]
          },
          "metadata": {},
          "execution_count": 114
        }
      ]
    },
    {
      "cell_type": "markdown",
      "source": [
        "## 8. Compare model results and training time"
      ],
      "metadata": {
        "id": "SodJzABnkYmE"
      }
    },
    {
      "cell_type": "code",
      "source": [
        "import pandas as pd\n",
        "\n",
        "compare_results = pd.DataFrame([model_0_results,\n",
        "                                model_1_results,\n",
        "                                model_2_results])\n",
        "compare_results"
      ],
      "metadata": {
        "colab": {
          "base_uri": "https://localhost:8080/",
          "height": 143
        },
        "id": "ubJYO3nEkgWf",
        "outputId": "24434fac-be1a-4a57-d9d5-634bae95ea7c"
      },
      "execution_count": 115,
      "outputs": [
        {
          "output_type": "execute_result",
          "data": {
            "text/plain": [
              "            model_name      loss        acc\n",
              "0  FashionMNISTModelV0  0.476639  83.426518\n",
              "1  FashionMNISTModelV1  0.685001  75.019968\n",
              "2  FashionMNISTModelV2  0.333395  88.019169"
            ],
            "text/html": [
              "\n",
              "  <div id=\"df-59327929-496c-4fb9-b259-15d659b88efe\" class=\"colab-df-container\">\n",
              "    <div>\n",
              "<style scoped>\n",
              "    .dataframe tbody tr th:only-of-type {\n",
              "        vertical-align: middle;\n",
              "    }\n",
              "\n",
              "    .dataframe tbody tr th {\n",
              "        vertical-align: top;\n",
              "    }\n",
              "\n",
              "    .dataframe thead th {\n",
              "        text-align: right;\n",
              "    }\n",
              "</style>\n",
              "<table border=\"1\" class=\"dataframe\">\n",
              "  <thead>\n",
              "    <tr style=\"text-align: right;\">\n",
              "      <th></th>\n",
              "      <th>model_name</th>\n",
              "      <th>loss</th>\n",
              "      <th>acc</th>\n",
              "    </tr>\n",
              "  </thead>\n",
              "  <tbody>\n",
              "    <tr>\n",
              "      <th>0</th>\n",
              "      <td>FashionMNISTModelV0</td>\n",
              "      <td>0.476639</td>\n",
              "      <td>83.426518</td>\n",
              "    </tr>\n",
              "    <tr>\n",
              "      <th>1</th>\n",
              "      <td>FashionMNISTModelV1</td>\n",
              "      <td>0.685001</td>\n",
              "      <td>75.019968</td>\n",
              "    </tr>\n",
              "    <tr>\n",
              "      <th>2</th>\n",
              "      <td>FashionMNISTModelV2</td>\n",
              "      <td>0.333395</td>\n",
              "      <td>88.019169</td>\n",
              "    </tr>\n",
              "  </tbody>\n",
              "</table>\n",
              "</div>\n",
              "    <div class=\"colab-df-buttons\">\n",
              "\n",
              "  <div class=\"colab-df-container\">\n",
              "    <button class=\"colab-df-convert\" onclick=\"convertToInteractive('df-59327929-496c-4fb9-b259-15d659b88efe')\"\n",
              "            title=\"Convert this dataframe to an interactive table.\"\n",
              "            style=\"display:none;\">\n",
              "\n",
              "  <svg xmlns=\"http://www.w3.org/2000/svg\" height=\"24px\" viewBox=\"0 -960 960 960\">\n",
              "    <path d=\"M120-120v-720h720v720H120Zm60-500h600v-160H180v160Zm220 220h160v-160H400v160Zm0 220h160v-160H400v160ZM180-400h160v-160H180v160Zm440 0h160v-160H620v160ZM180-180h160v-160H180v160Zm440 0h160v-160H620v160Z\"/>\n",
              "  </svg>\n",
              "    </button>\n",
              "\n",
              "  <style>\n",
              "    .colab-df-container {\n",
              "      display:flex;\n",
              "      gap: 12px;\n",
              "    }\n",
              "\n",
              "    .colab-df-convert {\n",
              "      background-color: #E8F0FE;\n",
              "      border: none;\n",
              "      border-radius: 50%;\n",
              "      cursor: pointer;\n",
              "      display: none;\n",
              "      fill: #1967D2;\n",
              "      height: 32px;\n",
              "      padding: 0 0 0 0;\n",
              "      width: 32px;\n",
              "    }\n",
              "\n",
              "    .colab-df-convert:hover {\n",
              "      background-color: #E2EBFA;\n",
              "      box-shadow: 0px 1px 2px rgba(60, 64, 67, 0.3), 0px 1px 3px 1px rgba(60, 64, 67, 0.15);\n",
              "      fill: #174EA6;\n",
              "    }\n",
              "\n",
              "    .colab-df-buttons div {\n",
              "      margin-bottom: 4px;\n",
              "    }\n",
              "\n",
              "    [theme=dark] .colab-df-convert {\n",
              "      background-color: #3B4455;\n",
              "      fill: #D2E3FC;\n",
              "    }\n",
              "\n",
              "    [theme=dark] .colab-df-convert:hover {\n",
              "      background-color: #434B5C;\n",
              "      box-shadow: 0px 1px 3px 1px rgba(0, 0, 0, 0.15);\n",
              "      filter: drop-shadow(0px 1px 2px rgba(0, 0, 0, 0.3));\n",
              "      fill: #FFFFFF;\n",
              "    }\n",
              "  </style>\n",
              "\n",
              "    <script>\n",
              "      const buttonEl =\n",
              "        document.querySelector('#df-59327929-496c-4fb9-b259-15d659b88efe button.colab-df-convert');\n",
              "      buttonEl.style.display =\n",
              "        google.colab.kernel.accessAllowed ? 'block' : 'none';\n",
              "\n",
              "      async function convertToInteractive(key) {\n",
              "        const element = document.querySelector('#df-59327929-496c-4fb9-b259-15d659b88efe');\n",
              "        const dataTable =\n",
              "          await google.colab.kernel.invokeFunction('convertToInteractive',\n",
              "                                                    [key], {});\n",
              "        if (!dataTable) return;\n",
              "\n",
              "        const docLinkHtml = 'Like what you see? Visit the ' +\n",
              "          '<a target=\"_blank\" href=https://colab.research.google.com/notebooks/data_table.ipynb>data table notebook</a>'\n",
              "          + ' to learn more about interactive tables.';\n",
              "        element.innerHTML = '';\n",
              "        dataTable['output_type'] = 'display_data';\n",
              "        await google.colab.output.renderOutput(dataTable, element);\n",
              "        const docLink = document.createElement('div');\n",
              "        docLink.innerHTML = docLinkHtml;\n",
              "        element.appendChild(docLink);\n",
              "      }\n",
              "    </script>\n",
              "  </div>\n",
              "\n",
              "\n",
              "<div id=\"df-b3e36efe-ac96-42d9-8436-99930020657e\">\n",
              "  <button class=\"colab-df-quickchart\" onclick=\"quickchart('df-b3e36efe-ac96-42d9-8436-99930020657e')\"\n",
              "            title=\"Suggest charts\"\n",
              "            style=\"display:none;\">\n",
              "\n",
              "<svg xmlns=\"http://www.w3.org/2000/svg\" height=\"24px\"viewBox=\"0 0 24 24\"\n",
              "     width=\"24px\">\n",
              "    <g>\n",
              "        <path d=\"M19 3H5c-1.1 0-2 .9-2 2v14c0 1.1.9 2 2 2h14c1.1 0 2-.9 2-2V5c0-1.1-.9-2-2-2zM9 17H7v-7h2v7zm4 0h-2V7h2v10zm4 0h-2v-4h2v4z\"/>\n",
              "    </g>\n",
              "</svg>\n",
              "  </button>\n",
              "\n",
              "<style>\n",
              "  .colab-df-quickchart {\n",
              "      --bg-color: #E8F0FE;\n",
              "      --fill-color: #1967D2;\n",
              "      --hover-bg-color: #E2EBFA;\n",
              "      --hover-fill-color: #174EA6;\n",
              "      --disabled-fill-color: #AAA;\n",
              "      --disabled-bg-color: #DDD;\n",
              "  }\n",
              "\n",
              "  [theme=dark] .colab-df-quickchart {\n",
              "      --bg-color: #3B4455;\n",
              "      --fill-color: #D2E3FC;\n",
              "      --hover-bg-color: #434B5C;\n",
              "      --hover-fill-color: #FFFFFF;\n",
              "      --disabled-bg-color: #3B4455;\n",
              "      --disabled-fill-color: #666;\n",
              "  }\n",
              "\n",
              "  .colab-df-quickchart {\n",
              "    background-color: var(--bg-color);\n",
              "    border: none;\n",
              "    border-radius: 50%;\n",
              "    cursor: pointer;\n",
              "    display: none;\n",
              "    fill: var(--fill-color);\n",
              "    height: 32px;\n",
              "    padding: 0;\n",
              "    width: 32px;\n",
              "  }\n",
              "\n",
              "  .colab-df-quickchart:hover {\n",
              "    background-color: var(--hover-bg-color);\n",
              "    box-shadow: 0 1px 2px rgba(60, 64, 67, 0.3), 0 1px 3px 1px rgba(60, 64, 67, 0.15);\n",
              "    fill: var(--button-hover-fill-color);\n",
              "  }\n",
              "\n",
              "  .colab-df-quickchart-complete:disabled,\n",
              "  .colab-df-quickchart-complete:disabled:hover {\n",
              "    background-color: var(--disabled-bg-color);\n",
              "    fill: var(--disabled-fill-color);\n",
              "    box-shadow: none;\n",
              "  }\n",
              "\n",
              "  .colab-df-spinner {\n",
              "    border: 2px solid var(--fill-color);\n",
              "    border-color: transparent;\n",
              "    border-bottom-color: var(--fill-color);\n",
              "    animation:\n",
              "      spin 1s steps(1) infinite;\n",
              "  }\n",
              "\n",
              "  @keyframes spin {\n",
              "    0% {\n",
              "      border-color: transparent;\n",
              "      border-bottom-color: var(--fill-color);\n",
              "      border-left-color: var(--fill-color);\n",
              "    }\n",
              "    20% {\n",
              "      border-color: transparent;\n",
              "      border-left-color: var(--fill-color);\n",
              "      border-top-color: var(--fill-color);\n",
              "    }\n",
              "    30% {\n",
              "      border-color: transparent;\n",
              "      border-left-color: var(--fill-color);\n",
              "      border-top-color: var(--fill-color);\n",
              "      border-right-color: var(--fill-color);\n",
              "    }\n",
              "    40% {\n",
              "      border-color: transparent;\n",
              "      border-right-color: var(--fill-color);\n",
              "      border-top-color: var(--fill-color);\n",
              "    }\n",
              "    60% {\n",
              "      border-color: transparent;\n",
              "      border-right-color: var(--fill-color);\n",
              "    }\n",
              "    80% {\n",
              "      border-color: transparent;\n",
              "      border-right-color: var(--fill-color);\n",
              "      border-bottom-color: var(--fill-color);\n",
              "    }\n",
              "    90% {\n",
              "      border-color: transparent;\n",
              "      border-bottom-color: var(--fill-color);\n",
              "    }\n",
              "  }\n",
              "</style>\n",
              "\n",
              "  <script>\n",
              "    async function quickchart(key) {\n",
              "      const quickchartButtonEl =\n",
              "        document.querySelector('#' + key + ' button');\n",
              "      quickchartButtonEl.disabled = true;  // To prevent multiple clicks.\n",
              "      quickchartButtonEl.classList.add('colab-df-spinner');\n",
              "      try {\n",
              "        const charts = await google.colab.kernel.invokeFunction(\n",
              "            'suggestCharts', [key], {});\n",
              "      } catch (error) {\n",
              "        console.error('Error during call to suggestCharts:', error);\n",
              "      }\n",
              "      quickchartButtonEl.classList.remove('colab-df-spinner');\n",
              "      quickchartButtonEl.classList.add('colab-df-quickchart-complete');\n",
              "    }\n",
              "    (() => {\n",
              "      let quickchartButtonEl =\n",
              "        document.querySelector('#df-b3e36efe-ac96-42d9-8436-99930020657e button');\n",
              "      quickchartButtonEl.style.display =\n",
              "        google.colab.kernel.accessAllowed ? 'block' : 'none';\n",
              "    })();\n",
              "  </script>\n",
              "</div>\n",
              "\n",
              "  <div id=\"id_f519d23e-0fa5-4739-987d-e771e00b474e\">\n",
              "    <style>\n",
              "      .colab-df-generate {\n",
              "        background-color: #E8F0FE;\n",
              "        border: none;\n",
              "        border-radius: 50%;\n",
              "        cursor: pointer;\n",
              "        display: none;\n",
              "        fill: #1967D2;\n",
              "        height: 32px;\n",
              "        padding: 0 0 0 0;\n",
              "        width: 32px;\n",
              "      }\n",
              "\n",
              "      .colab-df-generate:hover {\n",
              "        background-color: #E2EBFA;\n",
              "        box-shadow: 0px 1px 2px rgba(60, 64, 67, 0.3), 0px 1px 3px 1px rgba(60, 64, 67, 0.15);\n",
              "        fill: #174EA6;\n",
              "      }\n",
              "\n",
              "      [theme=dark] .colab-df-generate {\n",
              "        background-color: #3B4455;\n",
              "        fill: #D2E3FC;\n",
              "      }\n",
              "\n",
              "      [theme=dark] .colab-df-generate:hover {\n",
              "        background-color: #434B5C;\n",
              "        box-shadow: 0px 1px 3px 1px rgba(0, 0, 0, 0.15);\n",
              "        filter: drop-shadow(0px 1px 2px rgba(0, 0, 0, 0.3));\n",
              "        fill: #FFFFFF;\n",
              "      }\n",
              "    </style>\n",
              "    <button class=\"colab-df-generate\" onclick=\"generateWithVariable('compare_results')\"\n",
              "            title=\"Generate code using this dataframe.\"\n",
              "            style=\"display:none;\">\n",
              "\n",
              "  <svg xmlns=\"http://www.w3.org/2000/svg\" height=\"24px\"viewBox=\"0 0 24 24\"\n",
              "       width=\"24px\">\n",
              "    <path d=\"M7,19H8.4L18.45,9,17,7.55,7,17.6ZM5,21V16.75L18.45,3.32a2,2,0,0,1,2.83,0l1.4,1.43a1.91,1.91,0,0,1,.58,1.4,1.91,1.91,0,0,1-.58,1.4L9.25,21ZM18.45,9,17,7.55Zm-12,3A5.31,5.31,0,0,0,4.9,8.1,5.31,5.31,0,0,0,1,6.5,5.31,5.31,0,0,0,4.9,4.9,5.31,5.31,0,0,0,6.5,1,5.31,5.31,0,0,0,8.1,4.9,5.31,5.31,0,0,0,12,6.5,5.46,5.46,0,0,0,6.5,12Z\"/>\n",
              "  </svg>\n",
              "    </button>\n",
              "    <script>\n",
              "      (() => {\n",
              "      const buttonEl =\n",
              "        document.querySelector('#id_f519d23e-0fa5-4739-987d-e771e00b474e button.colab-df-generate');\n",
              "      buttonEl.style.display =\n",
              "        google.colab.kernel.accessAllowed ? 'block' : 'none';\n",
              "\n",
              "      buttonEl.onclick = () => {\n",
              "        google.colab.notebook.generateWithVariable('compare_results');\n",
              "      }\n",
              "      })();\n",
              "    </script>\n",
              "  </div>\n",
              "\n",
              "    </div>\n",
              "  </div>\n"
            ],
            "application/vnd.google.colaboratory.intrinsic+json": {
              "type": "dataframe",
              "variable_name": "compare_results",
              "summary": "{\n  \"name\": \"compare_results\",\n  \"rows\": 3,\n  \"fields\": [\n    {\n      \"column\": \"model_name\",\n      \"properties\": {\n        \"dtype\": \"string\",\n        \"num_unique_values\": 3,\n        \"samples\": [\n          \"FashionMNISTModelV0\",\n          \"FashionMNISTModelV1\",\n          \"FashionMNISTModelV2\"\n        ],\n        \"semantic_type\": \"\",\n        \"description\": \"\"\n      }\n    },\n    {\n      \"column\": \"loss\",\n      \"properties\": {\n        \"dtype\": \"number\",\n        \"std\": 0.17680514641626402,\n        \"min\": 0.3333948850631714,\n        \"max\": 0.6850008964538574,\n        \"num_unique_values\": 3,\n        \"samples\": [\n          0.47663888335227966,\n          0.6850008964538574,\n          0.3333948850631714\n        ],\n        \"semantic_type\": \"\",\n        \"description\": \"\"\n      }\n    },\n    {\n      \"column\": \"acc\",\n      \"properties\": {\n        \"dtype\": \"number\",\n        \"std\": 6.592189303419419,\n        \"min\": 75.01996805111821,\n        \"max\": 88.01916932907348,\n        \"num_unique_values\": 3,\n        \"samples\": [\n          83.42651757188499,\n          75.01996805111821,\n          88.01916932907348\n        ],\n        \"semantic_type\": \"\",\n        \"description\": \"\"\n      }\n    }\n  ]\n}"
            }
          },
          "metadata": {},
          "execution_count": 115
        }
      ]
    },
    {
      "cell_type": "code",
      "source": [
        "# Add training time to results comparison\n",
        "compare_results[\"training_time\"] = [total_train_time_model_0,\n",
        "                                    total_train_time_model_1,\n",
        "                                    total_train_time_model_2]\n",
        "compare_results"
      ],
      "metadata": {
        "colab": {
          "base_uri": "https://localhost:8080/",
          "height": 143
        },
        "id": "DFkD-mvAkrG4",
        "outputId": "1a7a4e4a-99e4-4434-e1a2-3f4e1735a84a"
      },
      "execution_count": 117,
      "outputs": [
        {
          "output_type": "execute_result",
          "data": {
            "text/plain": [
              "            model_name      loss        acc  training_time\n",
              "0  FashionMNISTModelV0  0.476639  83.426518      24.714772\n",
              "1  FashionMNISTModelV1  0.685001  75.019968      29.062870\n",
              "2  FashionMNISTModelV2  0.333395  88.019169      34.055622"
            ],
            "text/html": [
              "\n",
              "  <div id=\"df-679f50bc-cc31-489f-846f-d9c124311d2a\" class=\"colab-df-container\">\n",
              "    <div>\n",
              "<style scoped>\n",
              "    .dataframe tbody tr th:only-of-type {\n",
              "        vertical-align: middle;\n",
              "    }\n",
              "\n",
              "    .dataframe tbody tr th {\n",
              "        vertical-align: top;\n",
              "    }\n",
              "\n",
              "    .dataframe thead th {\n",
              "        text-align: right;\n",
              "    }\n",
              "</style>\n",
              "<table border=\"1\" class=\"dataframe\">\n",
              "  <thead>\n",
              "    <tr style=\"text-align: right;\">\n",
              "      <th></th>\n",
              "      <th>model_name</th>\n",
              "      <th>loss</th>\n",
              "      <th>acc</th>\n",
              "      <th>training_time</th>\n",
              "    </tr>\n",
              "  </thead>\n",
              "  <tbody>\n",
              "    <tr>\n",
              "      <th>0</th>\n",
              "      <td>FashionMNISTModelV0</td>\n",
              "      <td>0.476639</td>\n",
              "      <td>83.426518</td>\n",
              "      <td>24.714772</td>\n",
              "    </tr>\n",
              "    <tr>\n",
              "      <th>1</th>\n",
              "      <td>FashionMNISTModelV1</td>\n",
              "      <td>0.685001</td>\n",
              "      <td>75.019968</td>\n",
              "      <td>29.062870</td>\n",
              "    </tr>\n",
              "    <tr>\n",
              "      <th>2</th>\n",
              "      <td>FashionMNISTModelV2</td>\n",
              "      <td>0.333395</td>\n",
              "      <td>88.019169</td>\n",
              "      <td>34.055622</td>\n",
              "    </tr>\n",
              "  </tbody>\n",
              "</table>\n",
              "</div>\n",
              "    <div class=\"colab-df-buttons\">\n",
              "\n",
              "  <div class=\"colab-df-container\">\n",
              "    <button class=\"colab-df-convert\" onclick=\"convertToInteractive('df-679f50bc-cc31-489f-846f-d9c124311d2a')\"\n",
              "            title=\"Convert this dataframe to an interactive table.\"\n",
              "            style=\"display:none;\">\n",
              "\n",
              "  <svg xmlns=\"http://www.w3.org/2000/svg\" height=\"24px\" viewBox=\"0 -960 960 960\">\n",
              "    <path d=\"M120-120v-720h720v720H120Zm60-500h600v-160H180v160Zm220 220h160v-160H400v160Zm0 220h160v-160H400v160ZM180-400h160v-160H180v160Zm440 0h160v-160H620v160ZM180-180h160v-160H180v160Zm440 0h160v-160H620v160Z\"/>\n",
              "  </svg>\n",
              "    </button>\n",
              "\n",
              "  <style>\n",
              "    .colab-df-container {\n",
              "      display:flex;\n",
              "      gap: 12px;\n",
              "    }\n",
              "\n",
              "    .colab-df-convert {\n",
              "      background-color: #E8F0FE;\n",
              "      border: none;\n",
              "      border-radius: 50%;\n",
              "      cursor: pointer;\n",
              "      display: none;\n",
              "      fill: #1967D2;\n",
              "      height: 32px;\n",
              "      padding: 0 0 0 0;\n",
              "      width: 32px;\n",
              "    }\n",
              "\n",
              "    .colab-df-convert:hover {\n",
              "      background-color: #E2EBFA;\n",
              "      box-shadow: 0px 1px 2px rgba(60, 64, 67, 0.3), 0px 1px 3px 1px rgba(60, 64, 67, 0.15);\n",
              "      fill: #174EA6;\n",
              "    }\n",
              "\n",
              "    .colab-df-buttons div {\n",
              "      margin-bottom: 4px;\n",
              "    }\n",
              "\n",
              "    [theme=dark] .colab-df-convert {\n",
              "      background-color: #3B4455;\n",
              "      fill: #D2E3FC;\n",
              "    }\n",
              "\n",
              "    [theme=dark] .colab-df-convert:hover {\n",
              "      background-color: #434B5C;\n",
              "      box-shadow: 0px 1px 3px 1px rgba(0, 0, 0, 0.15);\n",
              "      filter: drop-shadow(0px 1px 2px rgba(0, 0, 0, 0.3));\n",
              "      fill: #FFFFFF;\n",
              "    }\n",
              "  </style>\n",
              "\n",
              "    <script>\n",
              "      const buttonEl =\n",
              "        document.querySelector('#df-679f50bc-cc31-489f-846f-d9c124311d2a button.colab-df-convert');\n",
              "      buttonEl.style.display =\n",
              "        google.colab.kernel.accessAllowed ? 'block' : 'none';\n",
              "\n",
              "      async function convertToInteractive(key) {\n",
              "        const element = document.querySelector('#df-679f50bc-cc31-489f-846f-d9c124311d2a');\n",
              "        const dataTable =\n",
              "          await google.colab.kernel.invokeFunction('convertToInteractive',\n",
              "                                                    [key], {});\n",
              "        if (!dataTable) return;\n",
              "\n",
              "        const docLinkHtml = 'Like what you see? Visit the ' +\n",
              "          '<a target=\"_blank\" href=https://colab.research.google.com/notebooks/data_table.ipynb>data table notebook</a>'\n",
              "          + ' to learn more about interactive tables.';\n",
              "        element.innerHTML = '';\n",
              "        dataTable['output_type'] = 'display_data';\n",
              "        await google.colab.output.renderOutput(dataTable, element);\n",
              "        const docLink = document.createElement('div');\n",
              "        docLink.innerHTML = docLinkHtml;\n",
              "        element.appendChild(docLink);\n",
              "      }\n",
              "    </script>\n",
              "  </div>\n",
              "\n",
              "\n",
              "<div id=\"df-a319fd74-789e-40fd-bb6a-f8179ba78f61\">\n",
              "  <button class=\"colab-df-quickchart\" onclick=\"quickchart('df-a319fd74-789e-40fd-bb6a-f8179ba78f61')\"\n",
              "            title=\"Suggest charts\"\n",
              "            style=\"display:none;\">\n",
              "\n",
              "<svg xmlns=\"http://www.w3.org/2000/svg\" height=\"24px\"viewBox=\"0 0 24 24\"\n",
              "     width=\"24px\">\n",
              "    <g>\n",
              "        <path d=\"M19 3H5c-1.1 0-2 .9-2 2v14c0 1.1.9 2 2 2h14c1.1 0 2-.9 2-2V5c0-1.1-.9-2-2-2zM9 17H7v-7h2v7zm4 0h-2V7h2v10zm4 0h-2v-4h2v4z\"/>\n",
              "    </g>\n",
              "</svg>\n",
              "  </button>\n",
              "\n",
              "<style>\n",
              "  .colab-df-quickchart {\n",
              "      --bg-color: #E8F0FE;\n",
              "      --fill-color: #1967D2;\n",
              "      --hover-bg-color: #E2EBFA;\n",
              "      --hover-fill-color: #174EA6;\n",
              "      --disabled-fill-color: #AAA;\n",
              "      --disabled-bg-color: #DDD;\n",
              "  }\n",
              "\n",
              "  [theme=dark] .colab-df-quickchart {\n",
              "      --bg-color: #3B4455;\n",
              "      --fill-color: #D2E3FC;\n",
              "      --hover-bg-color: #434B5C;\n",
              "      --hover-fill-color: #FFFFFF;\n",
              "      --disabled-bg-color: #3B4455;\n",
              "      --disabled-fill-color: #666;\n",
              "  }\n",
              "\n",
              "  .colab-df-quickchart {\n",
              "    background-color: var(--bg-color);\n",
              "    border: none;\n",
              "    border-radius: 50%;\n",
              "    cursor: pointer;\n",
              "    display: none;\n",
              "    fill: var(--fill-color);\n",
              "    height: 32px;\n",
              "    padding: 0;\n",
              "    width: 32px;\n",
              "  }\n",
              "\n",
              "  .colab-df-quickchart:hover {\n",
              "    background-color: var(--hover-bg-color);\n",
              "    box-shadow: 0 1px 2px rgba(60, 64, 67, 0.3), 0 1px 3px 1px rgba(60, 64, 67, 0.15);\n",
              "    fill: var(--button-hover-fill-color);\n",
              "  }\n",
              "\n",
              "  .colab-df-quickchart-complete:disabled,\n",
              "  .colab-df-quickchart-complete:disabled:hover {\n",
              "    background-color: var(--disabled-bg-color);\n",
              "    fill: var(--disabled-fill-color);\n",
              "    box-shadow: none;\n",
              "  }\n",
              "\n",
              "  .colab-df-spinner {\n",
              "    border: 2px solid var(--fill-color);\n",
              "    border-color: transparent;\n",
              "    border-bottom-color: var(--fill-color);\n",
              "    animation:\n",
              "      spin 1s steps(1) infinite;\n",
              "  }\n",
              "\n",
              "  @keyframes spin {\n",
              "    0% {\n",
              "      border-color: transparent;\n",
              "      border-bottom-color: var(--fill-color);\n",
              "      border-left-color: var(--fill-color);\n",
              "    }\n",
              "    20% {\n",
              "      border-color: transparent;\n",
              "      border-left-color: var(--fill-color);\n",
              "      border-top-color: var(--fill-color);\n",
              "    }\n",
              "    30% {\n",
              "      border-color: transparent;\n",
              "      border-left-color: var(--fill-color);\n",
              "      border-top-color: var(--fill-color);\n",
              "      border-right-color: var(--fill-color);\n",
              "    }\n",
              "    40% {\n",
              "      border-color: transparent;\n",
              "      border-right-color: var(--fill-color);\n",
              "      border-top-color: var(--fill-color);\n",
              "    }\n",
              "    60% {\n",
              "      border-color: transparent;\n",
              "      border-right-color: var(--fill-color);\n",
              "    }\n",
              "    80% {\n",
              "      border-color: transparent;\n",
              "      border-right-color: var(--fill-color);\n",
              "      border-bottom-color: var(--fill-color);\n",
              "    }\n",
              "    90% {\n",
              "      border-color: transparent;\n",
              "      border-bottom-color: var(--fill-color);\n",
              "    }\n",
              "  }\n",
              "</style>\n",
              "\n",
              "  <script>\n",
              "    async function quickchart(key) {\n",
              "      const quickchartButtonEl =\n",
              "        document.querySelector('#' + key + ' button');\n",
              "      quickchartButtonEl.disabled = true;  // To prevent multiple clicks.\n",
              "      quickchartButtonEl.classList.add('colab-df-spinner');\n",
              "      try {\n",
              "        const charts = await google.colab.kernel.invokeFunction(\n",
              "            'suggestCharts', [key], {});\n",
              "      } catch (error) {\n",
              "        console.error('Error during call to suggestCharts:', error);\n",
              "      }\n",
              "      quickchartButtonEl.classList.remove('colab-df-spinner');\n",
              "      quickchartButtonEl.classList.add('colab-df-quickchart-complete');\n",
              "    }\n",
              "    (() => {\n",
              "      let quickchartButtonEl =\n",
              "        document.querySelector('#df-a319fd74-789e-40fd-bb6a-f8179ba78f61 button');\n",
              "      quickchartButtonEl.style.display =\n",
              "        google.colab.kernel.accessAllowed ? 'block' : 'none';\n",
              "    })();\n",
              "  </script>\n",
              "</div>\n",
              "\n",
              "  <div id=\"id_d29db50e-be90-4a78-839a-1901ed0eaa58\">\n",
              "    <style>\n",
              "      .colab-df-generate {\n",
              "        background-color: #E8F0FE;\n",
              "        border: none;\n",
              "        border-radius: 50%;\n",
              "        cursor: pointer;\n",
              "        display: none;\n",
              "        fill: #1967D2;\n",
              "        height: 32px;\n",
              "        padding: 0 0 0 0;\n",
              "        width: 32px;\n",
              "      }\n",
              "\n",
              "      .colab-df-generate:hover {\n",
              "        background-color: #E2EBFA;\n",
              "        box-shadow: 0px 1px 2px rgba(60, 64, 67, 0.3), 0px 1px 3px 1px rgba(60, 64, 67, 0.15);\n",
              "        fill: #174EA6;\n",
              "      }\n",
              "\n",
              "      [theme=dark] .colab-df-generate {\n",
              "        background-color: #3B4455;\n",
              "        fill: #D2E3FC;\n",
              "      }\n",
              "\n",
              "      [theme=dark] .colab-df-generate:hover {\n",
              "        background-color: #434B5C;\n",
              "        box-shadow: 0px 1px 3px 1px rgba(0, 0, 0, 0.15);\n",
              "        filter: drop-shadow(0px 1px 2px rgba(0, 0, 0, 0.3));\n",
              "        fill: #FFFFFF;\n",
              "      }\n",
              "    </style>\n",
              "    <button class=\"colab-df-generate\" onclick=\"generateWithVariable('compare_results')\"\n",
              "            title=\"Generate code using this dataframe.\"\n",
              "            style=\"display:none;\">\n",
              "\n",
              "  <svg xmlns=\"http://www.w3.org/2000/svg\" height=\"24px\"viewBox=\"0 0 24 24\"\n",
              "       width=\"24px\">\n",
              "    <path d=\"M7,19H8.4L18.45,9,17,7.55,7,17.6ZM5,21V16.75L18.45,3.32a2,2,0,0,1,2.83,0l1.4,1.43a1.91,1.91,0,0,1,.58,1.4,1.91,1.91,0,0,1-.58,1.4L9.25,21ZM18.45,9,17,7.55Zm-12,3A5.31,5.31,0,0,0,4.9,8.1,5.31,5.31,0,0,0,1,6.5,5.31,5.31,0,0,0,4.9,4.9,5.31,5.31,0,0,0,6.5,1,5.31,5.31,0,0,0,8.1,4.9,5.31,5.31,0,0,0,12,6.5,5.46,5.46,0,0,0,6.5,12Z\"/>\n",
              "  </svg>\n",
              "    </button>\n",
              "    <script>\n",
              "      (() => {\n",
              "      const buttonEl =\n",
              "        document.querySelector('#id_d29db50e-be90-4a78-839a-1901ed0eaa58 button.colab-df-generate');\n",
              "      buttonEl.style.display =\n",
              "        google.colab.kernel.accessAllowed ? 'block' : 'none';\n",
              "\n",
              "      buttonEl.onclick = () => {\n",
              "        google.colab.notebook.generateWithVariable('compare_results');\n",
              "      }\n",
              "      })();\n",
              "    </script>\n",
              "  </div>\n",
              "\n",
              "    </div>\n",
              "  </div>\n"
            ],
            "application/vnd.google.colaboratory.intrinsic+json": {
              "type": "dataframe",
              "variable_name": "compare_results",
              "summary": "{\n  \"name\": \"compare_results\",\n  \"rows\": 3,\n  \"fields\": [\n    {\n      \"column\": \"model_name\",\n      \"properties\": {\n        \"dtype\": \"string\",\n        \"num_unique_values\": 3,\n        \"samples\": [\n          \"FashionMNISTModelV0\",\n          \"FashionMNISTModelV1\",\n          \"FashionMNISTModelV2\"\n        ],\n        \"semantic_type\": \"\",\n        \"description\": \"\"\n      }\n    },\n    {\n      \"column\": \"loss\",\n      \"properties\": {\n        \"dtype\": \"number\",\n        \"std\": 0.17680514641626402,\n        \"min\": 0.3333948850631714,\n        \"max\": 0.6850008964538574,\n        \"num_unique_values\": 3,\n        \"samples\": [\n          0.47663888335227966,\n          0.6850008964538574,\n          0.3333948850631714\n        ],\n        \"semantic_type\": \"\",\n        \"description\": \"\"\n      }\n    },\n    {\n      \"column\": \"acc\",\n      \"properties\": {\n        \"dtype\": \"number\",\n        \"std\": 6.592189303419419,\n        \"min\": 75.01996805111821,\n        \"max\": 88.01916932907348,\n        \"num_unique_values\": 3,\n        \"samples\": [\n          83.42651757188499,\n          75.01996805111821,\n          88.01916932907348\n        ],\n        \"semantic_type\": \"\",\n        \"description\": \"\"\n      }\n    },\n    {\n      \"column\": \"training_time\",\n      \"properties\": {\n        \"dtype\": \"number\",\n        \"std\": 4.674131124932717,\n        \"min\": 24.714771776999953,\n        \"max\": 34.055621882000196,\n        \"num_unique_values\": 3,\n        \"samples\": [\n          24.714771776999953,\n          29.062869656999737,\n          34.055621882000196\n        ],\n        \"semantic_type\": \"\",\n        \"description\": \"\"\n      }\n    }\n  ]\n}"
            }
          },
          "metadata": {},
          "execution_count": 117
        }
      ]
    },
    {
      "cell_type": "code",
      "source": [
        "# Visualize our model results\n",
        "compare_results.set_index(\"model_name\")[\"acc\"].plot(kind=\"barh\", title=\"Model Accuracy\")\n",
        "plt.xlabel(\"accuracy (%)\")\n",
        "plt.ylabel(\"model\");"
      ],
      "metadata": {
        "colab": {
          "base_uri": "https://localhost:8080/",
          "height": 472
        },
        "id": "MOmEgQT4k5De",
        "outputId": "afeba8a9-f904-4805-ca1a-fb7ebad5ef59"
      },
      "execution_count": 119,
      "outputs": [
        {
          "output_type": "display_data",
          "data": {
            "text/plain": [
              "<Figure size 640x480 with 1 Axes>"
            ],
            "image/png": "[encoded data removed]"
          },
          "metadata": {}
        }
      ]
    },
    {
      "cell_type": "markdown",
      "source": [
        "## 9. Make and evaluate random predictions with best model"
      ],
      "metadata": {
        "id": "tBHjh9jllbax"
      }
    },
    {
      "cell_type": "code",
      "source": [
        "def make_predictions(model: torch.nn.Module,\n",
        "                     data: list,\n",
        "                     device: torch.device = device):\n",
        "  pred_probs = []\n",
        "  model.to(device)\n",
        "  model.eval()\n",
        "  with torch.inference_mode():\n",
        "    for sample in data:\n",
        "      # Prepare the sample (add a batch dimension and pass to target device)\n",
        "      sample = sample.unsqueeze(dim = 0).to(device)\n",
        "\n",
        "      # Forward pass (model outputs raw logits)\n",
        "      pred_logit = model(sample)\n",
        "\n",
        "      # Get prediction probability (logit -> prediction probability)\n",
        "      pred_prob = torch.softmax(pred_logit.squeeze(), dim=0)\n",
        "\n",
        "      # Get pred_prob off the GPU for further calculations\n",
        "      pred_probs.append(pred_prob.cpu())\n",
        "  # Stack the pred_probs to turn list into a tensor\n",
        "  return torch.stack(pred_probs, dim=0)"
      ],
      "metadata": {
        "id": "yhgRVDn3lfmW"
      },
      "execution_count": 149,
      "outputs": []
    },
    {
      "cell_type": "code",
      "source": [
        "import random\n",
        "random.seed(42)\n",
        "test_samples = []\n",
        "test_labels = []\n",
        "\n",
        "for sample, label in random.sample(list(test_data), k=9):\n",
        "  test_samples.append(sample)\n",
        "  test_labels.append(label)\n",
        "\n",
        "# View the first sample shape\n",
        "test_samples[0].shape"
      ],
      "metadata": {
        "colab": {
          "base_uri": "https://localhost:8080/"
        },
        "id": "NaYTKWjNmMzx",
        "outputId": "1f08073c-6d8f-419b-80d7-e72eba8ae52c"
      },
      "execution_count": 150,
      "outputs": [
        {
          "output_type": "execute_result",
          "data": {
            "text/plain": [
              "torch.Size([1, 28, 28])"
            ]
          },
          "metadata": {},
          "execution_count": 150
        }
      ]
    },
    {
      "cell_type": "code",
      "source": [
        "plt.imshow(test_samples[0].squeeze(), cmap=\"gray\")\n",
        "plt.title(class_names[test_labels[0]])\n",
        "plt.axis(\"off\");\n",
        "plt.show();"
      ],
      "metadata": {
        "colab": {
          "base_uri": "https://localhost:8080/",
          "height": 428
        },
        "id": "HtG95Yc2ma8D",
        "outputId": "7f12c95f-8913-4fb1-fab2-60d4e50fc133"
      },
      "execution_count": 151,
      "outputs": [
        {
          "output_type": "display_data",
          "data": {
            "text/plain": [
              "<Figure size 640x480 with 1 Axes>"
            ],
            "image/png": "[encoded data removed]"
          },
          "metadata": {}
        }
      ]
    },
    {
      "cell_type": "code",
      "source": [
        "# Make predictions\n",
        "pred_probs = make_predictions(model = model_2,\n",
        "                              data = test_samples)\n",
        "# View first 2 prediction probabilities\n",
        "pred_probs[:2]"
      ],
      "metadata": {
        "colab": {
          "base_uri": "https://localhost:8080/"
        },
        "id": "F4BbUv7MmlJn",
        "outputId": "bebe00b2-b17d-45be-b0ae-85e111421569"
      },
      "execution_count": 152,
      "outputs": [
        {
          "output_type": "execute_result",
          "data": {
            "text/plain": [
              "tensor([[5.3708e-08, 1.8150e-08, 1.7583e-07, 1.3083e-07, 2.4447e-09, 9.9946e-01,\n",
              "         7.2232e-08, 4.2384e-05, 2.0236e-05, 4.7900e-04],\n",
              "        [9.5780e-02, 5.8534e-01, 1.7718e-03, 7.4605e-02, 7.7272e-02, 6.6322e-05,\n",
              "         1.6496e-01, 9.9231e-05, 8.2053e-05, 2.1671e-05]])"
            ]
          },
          "metadata": {},
          "execution_count": 152
        }
      ]
    },
    {
      "cell_type": "code",
      "source": [
        "# Convert prediction probabilities to labels\n",
        "pred_classes = torch.argmax(pred_probs, dim=-1)\n",
        "pred_classes"
      ],
      "metadata": {
        "colab": {
          "base_uri": "https://localhost:8080/"
        },
        "id": "FBAaGv_zm4fO",
        "outputId": "64a9c453-8c6c-4771-efdd-165d4bf6917a"
      },
      "execution_count": 153,
      "outputs": [
        {
          "output_type": "execute_result",
          "data": {
            "text/plain": [
              "tensor([5, 1, 7, 4, 3, 0, 4, 7, 1])"
            ]
          },
          "metadata": {},
          "execution_count": 153
        }
      ]
    },
    {
      "cell_type": "code",
      "source": [
        "# Plot predictions\n",
        "plt.figure(figsize=(9, 9))\n",
        "nrows = 3\n",
        "ncols = 3\n",
        "for i, sample in enumerate(test_samples):\n",
        "  # Create subplot\n",
        "  plt.subplot(nrows, ncols, i+1)\n",
        "\n",
        "  # Plot the target image\n",
        "  plt.imshow(test_samples[i].squeeze(), cmap=\"gray\")\n",
        "\n",
        "  # Find the prediction (in text form, e.g \"Sandal\")\n",
        "  pred_label = class_names[pred_classes[i]]\n",
        "\n",
        "  # Get the truth label (in text form)\n",
        "  truth_label = class_names[test_labels[i]]\n",
        "\n",
        "  # Create a title for the plot\n",
        "  title_text = f\"Pred: {pred_label} Truth: {truth_label}.\"\n",
        "\n",
        "  # Check for equality between pred and truth and change color of title text\n",
        "  if pred_label == truth_label:\n",
        "    plt.title(title_text, color=\"g\")\n",
        "  else:\n",
        "    plt.title(title_text, color=\"r\")\n",
        "\n",
        "  plt.axis('off');"
      ],
      "metadata": {
        "colab": {
          "base_uri": "https://localhost:8080/",
          "height": 752
        },
        "id": "vfgTbaHinEIo",
        "outputId": "c693bbba-7efe-4a7a-9f28-2ce57b56e50b"
      },
      "execution_count": 154,
      "outputs": [
        {
          "output_type": "display_data",
          "data": {
            "text/plain": [
              "<Figure size 900x900 with 9 Axes>"
            ],
            "image/png": "[encoded data removed]"
          },
          "metadata": {}
        }
      ]
    },
    {
      "cell_type": "markdown",
      "source": [
        "## 10. Making a confusion matrix for further prediction evaluation\n",
        "\n",
        "A confusion matrix is a fantastic way of evaluating your classification models visually:\n",
        "https://www.learnpytorch.io/02_pytorch_classification/#9-more-classification-evaluation-metrics\n",
        "\n",
        "\n",
        "1. Make predicitons with our trained model on the test dataset.\n",
        "2. Make a confusion matrix `torchmetrics.ConfusionMatrix`\n",
        "3. Plot the confusion matrix using `mlxtend.plotting.plot_confusion_matrix`.\n"
      ],
      "metadata": {
        "id": "8cgfUGGboHZl"
      }
    },
    {
      "cell_type": "code",
      "source": [
        "# Import tqdm.auto\n",
        "from tqdm.auto import tqdm\n",
        "\n",
        "# 1. Make predictions with trained model\n",
        "y_preds = []\n",
        "model_2.eval()\n",
        "with torch.inference_mode():\n",
        "  for X, y in tqdm(test_dataloader, desc=\"Making predictions...\"):\n",
        "    # Send the data and targets to target device\n",
        "    X, y = X.to(device), y.to(device)\n",
        "    # Do the forward pass\n",
        "    y_logits = model_2(X)\n",
        "    # Get the predictions\n",
        "    y_pred = torch.softmax(y_logits.squeeze(), dim=0).argmax(dim=1)\n",
        "    # Put prediction on CPU for evaluation\n",
        "    y_preds.append(y_pred.cpu())\n",
        "\n",
        "# Concatenate list of predictions into a tensor\n",
        "print(y_preds)\n",
        "y_preds_tensor = torch.cat(y_preds)\n",
        "y_preds_tensor"
      ],
      "metadata": {
        "colab": {
          "base_uri": "https://localhost:8080/",
          "height": 1000,
          "referenced_widgets": [
            "e31b0bfae95a40a29c0a9c22c33bf305",
            "2f6b366b4f71401fbdc26f7b8921f84a",
            "04f6d869d7a24a3bb80a835526852391",
            "a05f05d32bb440efa93ca8731e377242",
            "3beade1dd41c4490b1b6d41d74d62c4f",
            "aa512eea86b34d0ca6e6a1254f291ae6",
            "4d849d343fdb472f897700679896fdb1",
            "65fa08348b554c2b9cef7ede90100474",
            "31ef46611c8548bb91111f33d664c571",
            "b6e120b68a4c49b8a0daef130f68f22d",
            "dfa3a0c958994cd5ae82cae02af6e245"
          ]
        },
        "id": "8r57SGhOpfPN",
        "outputId": "83c4a949-efff-4115-a5b7-ae83ac3ea06f"
      },
      "execution_count": 160,
      "outputs": [
        {
          "output_type": "display_data",
          "data": {
            "text/plain": [
              "Making predictions...:   0%|          | 0/313 [00:00<?, ?it/s]"
            ],
            "application/vnd.jupyter.widget-view+json": {
              "version_major": 2,
              "version_minor": 0,
              "model_id": "e31b0bfae95a40a29c0a9c22c33bf305"
            }
          },
          "metadata": {}
        },
        {
          "output_type": "stream",
          "name": "stdout",
          "text": [
            "[tensor([9, 2, 1, 1, 6, 1, 4, 6, 5, 7, 4, 5, 8, 3, 4, 1, 2, 2, 8, 0, 2, 7, 7, 5,\n",
            "        1, 6, 6, 0, 9, 4, 8, 8]), tensor([3, 3, 8, 0, 7, 5, 7, 9, 6, 1, 3, 9, 6, 7, 2, 3, 4, 6, 4, 2, 5, 8, 2, 2,\n",
            "        8, 4, 8, 0, 7, 7, 8, 5]), tensor([1, 3, 3, 3, 7, 8, 7, 6, 2, 6, 2, 3, 1, 2, 8, 4, 3, 8, 5, 9, 5, 0, 3, 2,\n",
            "        0, 2, 5, 3, 6, 7, 3, 6]), tensor([6, 1, 6, 2, 3, 6, 7, 6, 7, 8, 5, 7, 9, 4, 2, 5, 7, 6, 5, 2, 8, 6, 7, 8,\n",
            "        0, 0, 9, 9, 3, 0, 8, 4]), tensor([1, 5, 4, 1, 9, 1, 8, 6, 6, 1, 2, 5, 1, 6, 0, 0, 1, 6, 1, 3, 2, 6, 4, 4,\n",
            "        1, 4, 5, 6, 4, 7, 9, 3]), tensor([5, 2, 3, 8, 0, 9, 4, 7, 4, 2, 6, 5, 6, 1, 2, 1, 3, 0, 8, 1, 0, 9, 3, 6,\n",
            "        7, 9, 9, 4, 4, 7, 1, 2]), tensor([3, 6, 3, 2, 8, 3, 6, 1, 1, 0, 2, 9, 2, 4, 0, 7, 9, 8, 4, 1, 8, 4, 1, 3,\n",
            "        1, 6, 7, 2, 8, 5, 6, 0]), tensor([7, 7, 6, 3, 7, 0, 7, 8, 9, 2, 9, 0, 5, 1, 3, 2, 5, 4, 9, 2, 4, 8, 6, 4,\n",
            "        2, 4, 9, 7, 3, 5, 5, 4]), tensor([8, 5, 2, 3, 0, 4, 8, 6, 0, 6, 3, 8, 9, 6, 1, 2, 0, 2, 3, 0, 8, 3, 7, 4,\n",
            "        0, 1, 2, 4, 6, 6, 6, 7]), tensor([8, 4, 7, 9, 5, 6, 5, 5, 1, 9, 8, 8, 3, 3, 6, 8, 0, 0, 2, 9, 7, 7, 1, 3,\n",
            "        6, 6, 2, 4, 7, 1, 6, 4]), tensor([8, 2, 6, 5, 6, 2, 7, 7, 7, 3, 3, 7, 6, 7, 1, 3, 7, 2, 2, 8, 4, 0, 8, 1,\n",
            "        0, 1, 9, 4, 9, 9, 1, 7]), tensor([8, 3, 6, 0, 2, 4, 8, 2, 1, 2, 2, 4, 4, 7, 3, 2, 2, 5, 0, 7, 9, 4, 0, 9,\n",
            "        3, 9, 8, 2, 5, 6, 2, 3]), tensor([5, 8, 1, 3, 2, 2, 6, 4, 9, 5, 2, 0, 6, 6, 3, 2, 0, 9, 7, 0, 3, 4, 3, 3,\n",
            "        2, 3, 3, 6, 7, 3, 9, 4]), tensor([2, 1, 5, 4, 5, 3, 8, 5, 8, 4, 4, 8, 9, 8, 6, 2, 4, 4, 2, 4, 1, 6, 1, 3,\n",
            "        0, 7, 8, 2, 4, 5, 3, 1]), tensor([7, 5, 3, 3, 6, 1, 6, 2, 9, 4, 6, 6, 6, 6, 2, 0, 0, 3, 3, 8, 6, 8, 9, 4,\n",
            "        0, 7, 6, 4, 6, 9, 2, 9]), tensor([7, 9, 3, 7, 5, 7, 8, 1, 6, 0, 6, 6, 8, 9, 7, 9, 1, 2, 7, 6, 2, 0, 5, 7,\n",
            "        1, 8, 2, 2, 2, 2, 4, 6]), tensor([6, 0, 9, 0, 7, 1, 9, 1, 2, 8, 3, 6, 7, 2, 6, 2, 8, 0, 2, 0, 5, 0, 7, 5,\n",
            "        0, 9, 4, 3, 4, 2, 7, 1]), tensor([3, 1, 2, 6, 2, 9, 6, 1, 5, 1, 3, 1, 9, 3, 4, 5, 3, 6, 2, 6, 4, 6, 0, 5,\n",
            "        8, 2, 3, 4, 6, 7, 7, 8]), tensor([9, 0, 3, 8, 7, 6, 7, 9, 3, 2, 6, 3, 5, 0, 1, 3, 5, 9, 4, 2, 5, 7, 8, 1,\n",
            "        4, 9, 7, 7, 1, 0, 9, 3]), tensor([4, 9, 0, 5, 1, 8, 2, 7, 1, 2, 3, 8, 2, 4, 6, 9, 3, 0, 7, 8, 8, 2, 9, 4,\n",
            "        1, 6, 4, 1, 0, 4, 4, 4]), tensor([7, 5, 8, 4, 9, 1, 6, 5, 4, 4, 4, 6, 0, 4, 5, 6, 0, 3, 5, 2, 1, 3, 1, 6,\n",
            "        6, 2, 3, 8, 2, 8, 6, 7]), tensor([0, 4, 3, 8, 5, 0, 8, 2, 7, 2, 8, 7, 6, 4, 2, 9, 6, 4, 5, 0, 9, 5, 3, 6,\n",
            "        6, 2, 3, 3, 8, 1, 4, 0]), tensor([9, 7, 9, 4, 8, 9, 1, 3, 7, 3, 0, 2, 6, 7, 1, 0, 6, 8, 7, 2, 6, 4, 4, 4,\n",
            "        1, 5, 9, 3, 0, 3, 6, 5]), tensor([0, 6, 4, 3, 3, 8, 1, 1, 8, 5, 7, 9, 8, 7, 2, 0, 7, 2, 8, 0, 9, 7, 6, 1,\n",
            "        6, 2, 4, 8, 2, 6, 3, 6]), tensor([8, 6, 0, 8, 9, 2, 4, 5, 9, 1, 4, 4, 9, 2, 3, 7, 9, 7, 8, 3, 7, 7, 1, 1,\n",
            "        1, 6, 9, 5, 3, 8, 2, 2]), tensor([9, 0, 8, 3, 2, 2, 4, 7, 1, 4, 9, 0, 5, 8, 5, 4, 7, 2, 8, 5, 9, 0, 3, 6,\n",
            "        7, 1, 7, 0, 7, 4, 6, 5]), tensor([8, 3, 5, 1, 2, 6, 1, 9, 8, 4, 7, 1, 4, 7, 5, 9, 9, 1, 8, 4, 5, 7, 1, 5,\n",
            "        8, 1, 0, 0, 4, 1, 7, 1]), tensor([1, 8, 7, 1, 5, 2, 2, 3, 3, 1, 1, 4, 9, 4, 3, 7, 7, 0, 8, 9, 9, 6, 1, 3,\n",
            "        4, 0, 3, 5, 9, 4, 0, 5]), tensor([5, 1, 7, 7, 8, 7, 9, 3, 6, 4, 0, 4, 0, 2, 0, 2, 5, 5, 1, 2, 0, 9, 3, 7,\n",
            "        8, 4, 8, 3, 4, 7, 0, 7]), tensor([4, 8, 8, 3, 4, 2, 3, 4, 9, 6, 2, 4, 9, 1, 8, 1, 7, 5, 5, 6, 6, 2, 1, 6,\n",
            "        5, 4, 0, 0, 2, 7, 5, 6]), tensor([2, 5, 9, 4, 8, 6, 6, 4, 6, 2, 9, 3, 7, 7, 1, 4, 4, 0, 5, 0, 9, 9, 8, 8,\n",
            "        3, 3, 2, 4, 6, 6, 3, 2]), tensor([3, 7, 6, 9, 3, 4, 7, 7, 0, 3, 9, 5, 6, 4, 5, 9, 6, 3, 7, 5, 1, 9, 8, 2,\n",
            "        9, 9, 2, 9, 2, 2, 3, 8]), tensor([7, 4, 6, 5, 4, 8, 6, 1, 4, 9, 3, 1, 6, 8, 0, 5, 7, 8, 2, 3, 3, 9, 4, 3,\n",
            "        6, 0, 4, 8, 0, 4, 8, 6]), tensor([6, 3, 4, 7, 0, 2, 1, 3, 4, 4, 6, 5, 9, 0, 1, 6, 5, 1, 4, 4, 8, 4, 7, 7,\n",
            "        3, 8, 3, 1, 9, 8, 1, 3]), tensor([3, 7, 5, 0, 5, 7, 8, 9, 2, 0, 5, 8, 4, 6, 3, 8, 6, 0, 5, 2, 7, 1, 0, 3,\n",
            "        5, 4, 8, 6, 2, 1, 1, 7]), tensor([9, 6, 2, 7, 1, 4, 8, 2, 2, 0, 1, 4, 4, 9, 6, 8, 4, 5, 9, 0, 3, 9, 6, 9,\n",
            "        8, 7, 4, 2, 2, 5, 1, 7]), tensor([0, 7, 2, 9, 3, 7, 0, 9, 3, 8, 4, 4, 7, 2, 4, 6, 2, 0, 7, 8, 4, 2, 4, 5,\n",
            "        5, 6, 4, 5, 5, 8, 1, 3]), tensor([7, 4, 3, 9, 6, 8, 7, 2, 2, 1, 2, 7, 7, 4, 9, 8, 5, 1, 3, 3, 2, 3, 9, 3,\n",
            "        1, 9, 3, 5, 5, 2, 0, 7]), tensor([0, 6, 3, 1, 3, 3, 3, 6, 7, 2, 4, 9, 5, 2, 9, 3, 3, 4, 4, 0, 6, 5, 2, 2,\n",
            "        8, 6, 3, 4, 2, 8, 4, 4]), tensor([8, 6, 2, 4, 0, 6, 4, 6, 8, 3, 8, 2, 0, 4, 4, 8, 8, 4, 5, 2, 2, 3, 0, 1,\n",
            "        7, 0, 9, 1, 7, 3, 5, 2]), tensor([4, 7, 3, 8, 8, 6, 8, 6, 7, 5, 8, 9, 5, 2, 6, 0, 3, 2, 4, 4, 2, 7, 1, 3,\n",
            "        4, 2, 6, 8, 1, 6, 7, 3]), tensor([6, 8, 3, 4, 8, 7, 4, 1, 6, 5, 4, 7, 0, 5, 3, 8, 5, 2, 2, 8, 9, 8, 3, 3,\n",
            "        0, 8, 8, 3, 0, 7, 4, 4]), tensor([8, 1, 3, 6, 1, 9, 2, 1, 6, 2, 7, 9, 2, 6, 0, 4, 4, 2, 4, 5, 6, 2, 8, 3,\n",
            "        7, 4, 4, 0, 0, 5, 4, 8]), tensor([2, 2, 2, 0, 2, 1, 7, 9, 5, 2, 7, 2, 2, 7, 3, 3, 1, 3, 3, 6, 6, 1, 9, 6,\n",
            "        4, 7, 1, 0, 6, 5, 8, 4]), tensor([2, 7, 9, 8, 0, 7, 9, 8, 1, 2, 9, 8, 8, 3, 9, 9, 1, 2, 7, 8, 0, 1, 7, 2,\n",
            "        7, 1, 1, 8, 5, 6, 4, 5]), tensor([9, 5, 5, 2, 3, 9, 3, 8, 5, 4, 6, 6, 6, 5, 7, 6, 5, 2, 6, 4, 6, 7, 6, 0,\n",
            "        5, 1, 7, 2, 3, 6, 8, 9]), tensor([8, 7, 1, 2, 3, 2, 9, 7, 5, 6, 0, 0, 7, 1, 2, 6, 9, 3, 6, 4, 4, 3, 0, 0,\n",
            "        6, 3, 6, 1, 3, 5, 4, 5]), tensor([0, 9, 1, 1, 8, 2, 9, 5, 0, 5, 4, 6, 7, 1, 1, 5, 3, 8, 7, 8, 3, 8, 9, 2,\n",
            "        2, 4, 1, 3, 5, 6, 7, 1]), tensor([9, 9, 2, 2, 7, 0, 1, 3, 9, 6, 3, 7, 2, 8, 1, 8, 0, 7, 9, 8, 5, 3, 2, 6,\n",
            "        4, 6, 6, 5, 8, 3, 8, 5]), tensor([5, 7, 3, 7, 6, 7, 0, 2, 2, 5, 3, 5, 1, 1, 7, 7, 6, 6, 6, 4, 2, 8, 6, 3,\n",
            "        1, 4, 9, 9, 4, 5, 2, 2]), tensor([7, 8, 6, 7, 9, 1, 2, 9, 4, 5, 3, 6, 3, 3, 1, 8, 8, 5, 3, 8, 2, 6, 6, 3,\n",
            "        2, 0, 2, 7, 3, 2, 8, 3]), tensor([9, 7, 3, 1, 7, 5, 8, 8, 2, 3, 0, 4, 4, 8, 5, 7, 0, 6, 2, 7, 7, 3, 9, 2,\n",
            "        5, 9, 7, 3, 7, 4, 6, 5]), tensor([1, 4, 7, 4, 5, 0, 2, 2, 1, 4, 3, 8, 4, 7, 9, 4, 3, 3, 7, 2, 3, 5, 6, 3,\n",
            "        9, 7, 5, 3, 8, 8, 8, 7]), tensor([1, 1, 6, 4, 1, 4, 3, 4, 9, 9, 6, 0, 6, 9, 4, 9, 6, 6, 4, 8, 9, 2, 5, 4,\n",
            "        8, 6, 7, 2, 3, 6, 2, 5]), tensor([6, 1, 9, 6, 2, 2, 5, 9, 0, 8, 3, 2, 6, 6, 0, 4, 2, 2, 6, 5, 0, 2, 7, 8,\n",
            "        7, 4, 6, 6, 0, 5, 2, 4]), tensor([2, 9, 5, 2, 6, 7, 0, 1, 7, 5, 5, 0, 7, 7, 5, 0, 5, 0, 3, 4, 7, 9, 8, 2,\n",
            "        4, 7, 3, 3, 7, 7, 7, 8]), tensor([4, 9, 8, 7, 6, 8, 8, 5, 1, 3, 0, 4, 9, 9, 8, 3, 7, 0, 4, 4, 9, 3, 3, 1,\n",
            "        8, 8, 1, 8, 7, 2, 8, 2]), tensor([5, 7, 3, 7, 5, 5, 4, 0, 7, 6, 3, 2, 6, 2, 9, 9, 0, 4, 6, 8, 4, 8, 0, 4,\n",
            "        4, 1, 8, 2, 4, 5, 0, 4]), tensor([4, 3, 0, 0, 1, 6, 8, 4, 9, 0, 7, 6, 7, 7, 1, 5, 8, 7, 4, 9, 9, 1, 2, 6,\n",
            "        1, 1, 1, 8, 8, 1, 3, 7]), tensor([5, 2, 0, 8, 4, 8, 9, 4, 1, 3, 1, 9, 8, 1, 3, 1, 8, 6, 9, 5, 7, 6, 0, 4,\n",
            "        2, 1, 1, 7, 9, 2, 2, 0]), tensor([3, 6, 4, 8, 1, 9, 2, 4, 2, 2, 3, 8, 7, 1, 8, 7, 5, 9, 9, 6, 6, 4, 9, 0,\n",
            "        4, 3, 5, 5, 0, 6, 1, 0]), tensor([3, 7, 7, 3, 7, 4, 5, 7, 9, 8, 9, 1, 4, 8, 3, 2, 3, 6, 6, 4, 3, 8, 3, 8,\n",
            "        6, 0, 8, 8, 4, 2, 9, 3]), tensor([2, 0, 8, 5, 9, 6, 3, 1, 1, 9, 5, 1, 3, 3, 6, 0, 8, 4, 1, 3, 8, 8, 6, 7,\n",
            "        5, 6, 6, 7, 3, 3, 2, 4]), tensor([6, 5, 5, 6, 2, 3, 9, 1, 1, 7, 3, 8, 7, 2, 2, 9, 3, 9, 9, 0, 1, 8, 1, 4,\n",
            "        8, 1, 2, 9, 3, 4, 0, 0]), tensor([7, 6, 9, 9, 5, 5, 7, 0, 9, 3, 3, 6, 9, 8, 4, 2, 6, 3, 9, 6, 3, 6, 7, 6,\n",
            "        0, 6, 8, 1, 8, 7, 3, 4]), tensor([5, 2, 2, 9, 1, 9, 4, 9, 1, 6, 2, 2, 2, 7, 7, 7, 7, 2, 6, 0, 7, 5, 8, 5,\n",
            "        3, 0, 6, 4, 9, 2, 6, 3]), tensor([1, 9, 0, 1, 2, 2, 2, 3, 8, 8, 7, 4, 4, 4, 1, 2, 8, 5, 4, 8, 9, 1, 5, 9,\n",
            "        3, 6, 6, 4, 0, 1, 8, 7]), tensor([4, 6, 7, 7, 6, 0, 4, 3, 4, 7, 8, 7, 2, 8, 0, 8, 7, 6, 4, 6, 7, 0, 9, 9,\n",
            "        3, 1, 5, 9, 3, 1, 0, 3]), tensor([3, 8, 9, 7, 9, 8, 3, 8, 9, 3, 7, 9, 3, 2, 6, 0, 5, 7, 7, 2, 3, 8, 3, 1,\n",
            "        1, 9, 4, 3, 9, 5, 8, 7]), tensor([2, 4, 9, 0, 2, 1, 9, 7, 1, 5, 0, 5, 5, 6, 3, 0, 6, 3, 3, 7, 4, 2, 6, 8,\n",
            "        5, 9, 2, 1, 3, 5, 5, 8]), tensor([5, 3, 7, 4, 4, 3, 9, 6, 0, 0, 9, 1, 4, 3, 1, 5, 3, 8, 5, 1, 1, 2, 9, 4,\n",
            "        0, 5, 2, 8, 6, 2, 9, 8]), tensor([2, 4, 8, 3, 8, 0, 2, 2, 6, 4, 8, 5, 2, 9, 0, 9, 5, 8, 0, 9, 1, 2, 7, 2,\n",
            "        1, 2, 6, 3, 4, 5, 2, 4]), tensor([8, 5, 5, 2, 6, 6, 8, 3, 3, 1, 9, 2, 7, 7, 2, 6, 2, 8, 3, 4, 8, 5, 6, 8,\n",
            "        3, 3, 1, 4, 4, 0, 4, 9]), tensor([6, 2, 1, 9, 9, 8, 1, 4, 8, 3, 3, 3, 2, 5, 9, 2, 2, 2, 7, 6, 3, 6, 4, 4,\n",
            "        5, 7, 5, 0, 7, 9, 1, 2]), tensor([4, 8, 9, 3, 5, 2, 6, 4, 6, 7, 8, 9, 1, 8, 2, 5, 5, 3, 1, 1, 8, 8, 3, 6,\n",
            "        7, 0, 1, 8, 2, 6, 2, 9]), tensor([8, 9, 8, 8, 4, 9, 1, 8, 4, 2, 7, 7, 0, 5, 1, 1, 0, 6, 4, 3, 0, 2, 3, 7,\n",
            "        1, 2, 3, 3, 4, 4, 5, 6]), tensor([9, 8, 3, 3, 1, 0, 2, 1, 4, 4, 6, 8, 2, 9, 0, 2, 7, 5, 3, 6, 6, 7, 0, 3,\n",
            "        9, 7, 3, 6, 1, 9, 2, 1]), tensor([0, 6, 5, 4, 1, 2, 8, 5, 9, 4, 5, 3, 3, 8, 3, 6, 6, 8, 9, 0, 7, 6, 2, 6,\n",
            "        7, 3, 2, 2, 8, 7, 9, 2]), tensor([3, 1, 6, 3, 6, 2, 7, 4, 1, 2, 6, 4, 4, 2, 8, 5, 6, 8, 5, 6, 7, 8, 1, 5,\n",
            "        9, 8, 6, 9, 0, 9, 3, 7]), tensor([5, 7, 9, 6, 0, 7, 1, 5, 5, 9, 5, 4, 4, 2, 4, 5, 9, 7, 4, 2, 6, 9, 9, 3,\n",
            "        2, 1, 3, 7, 1, 8, 7, 7]), tensor([1, 8, 9, 3, 7, 7, 7, 1, 7, 4, 4, 2, 2, 4, 5, 2, 8, 9, 6, 8, 0, 0, 7, 7,\n",
            "        5, 0, 1, 9, 3, 6, 4, 9]), tensor([2, 2, 6, 9, 1, 0, 5, 8, 9, 2, 8, 2, 3, 6, 0, 7, 4, 8, 7, 4, 1, 7, 8, 2,\n",
            "        4, 6, 4, 4, 1, 8, 6, 9]), tensor([2, 9, 4, 5, 2, 3, 3, 8, 8, 2, 0, 7, 2, 4, 0, 4, 1, 3, 8, 1, 7, 7, 2, 6,\n",
            "        3, 1, 2, 7, 2, 6, 6, 3]), tensor([4, 7, 2, 2, 3, 6, 3, 0, 9, 7, 3, 5, 4, 9, 2, 4, 5, 0, 6, 8, 4, 0, 4, 4,\n",
            "        6, 6, 1, 6, 4, 6, 7, 1]), tensor([0, 2, 4, 1, 1, 5, 6, 3, 8, 3, 4, 1, 7, 2, 9, 8, 8, 4, 5, 5, 6, 7, 2, 9,\n",
            "        1, 0, 5, 3, 7, 2, 1, 1]), tensor([8, 6, 2, 0, 5, 9, 6, 3, 8, 1, 6, 4, 6, 6, 2, 8, 3, 4, 2, 1, 9, 2, 7, 9,\n",
            "        5, 7, 2, 1, 5, 8, 8, 2]), tensor([2, 4, 2, 3, 1, 2, 4, 0, 3, 9, 8, 4, 0, 3, 4, 3, 9, 7, 1, 1, 7, 5, 1, 9,\n",
            "        2, 4, 2, 3, 8, 6, 7, 1]), tensor([3, 0, 7, 3, 5, 8, 1, 4, 2, 3, 4, 8, 8, 8, 4, 6, 1, 8, 9, 3, 0, 6, 6, 2,\n",
            "        9, 7, 3, 7, 0, 1, 4, 5]), tensor([9, 2, 0, 5, 0, 5, 8, 7, 4, 6, 2, 8, 6, 4, 9, 3, 3, 5, 8, 1, 1, 2, 6, 6,\n",
            "        4, 7, 4, 2, 3, 3, 9, 7]), tensor([4, 4, 3, 1, 8, 1, 5, 4, 0, 6, 7, 9, 3, 2, 7, 3, 7, 4, 1, 6, 2, 8, 6, 7,\n",
            "        6, 4, 9, 3, 2, 5, 2, 8]), tensor([6, 2, 6, 7, 2, 2, 1, 1, 0, 3, 5, 5, 2, 6, 6, 1, 8, 8, 4, 4, 3, 4, 2, 7,\n",
            "        6, 1, 9, 6, 2, 6, 8, 4]), tensor([5, 4, 9, 8, 1, 6, 3, 2, 2, 9, 4, 3, 5, 1, 2, 6, 0, 1, 1, 0, 2, 6, 9, 7,\n",
            "        0, 1, 2, 4, 3, 7, 2, 1]), tensor([1, 7, 7, 8, 7, 6, 5, 3, 7, 2, 0, 9, 6, 1, 4, 2, 2, 5, 8, 5, 2, 7, 8, 4,\n",
            "        6, 9, 0, 8, 1, 3, 8, 2]), tensor([8, 2, 0, 2, 3, 8, 7, 8, 2, 2, 6, 6, 0, 4, 5, 3, 4, 3, 1, 9, 7, 3, 6, 6,\n",
            "        1, 4, 2, 7, 7, 1, 8, 3]), tensor([3, 7, 9, 8, 7, 2, 7, 9, 7, 2, 2, 6, 6, 3, 3, 9, 1, 1, 4, 8, 0, 9, 7, 5,\n",
            "        4, 8, 8, 3, 6, 3, 2, 8]), tensor([2, 4, 5, 9, 2, 4, 8, 4, 2, 2, 3, 3, 2, 1, 3, 0, 1, 8, 4, 1, 5, 2, 1, 5,\n",
            "        8, 2, 7, 7, 7, 5, 6, 5]), tensor([5, 3, 6, 7, 8, 4, 5, 1, 6, 4, 2, 4, 3, 7, 7, 9, 9, 2, 5, 8, 5, 8, 5, 3,\n",
            "        0, 9, 7, 2, 0, 6, 8, 4]), tensor([0, 5, 4, 7, 6, 8, 4, 7, 0, 0, 4, 0, 2, 9, 8, 1, 3, 8, 1, 5, 3, 6, 1, 1,\n",
            "        6, 6, 9, 8, 2, 8, 2, 7]), tensor([7, 1, 3, 6, 3, 0, 7, 8, 7, 6, 5, 2, 6, 7, 5, 5, 8, 9, 7, 3, 2, 4, 8, 3,\n",
            "        9, 5, 7, 6, 2, 6, 7, 3]), tensor([8, 5, 1, 8, 9, 2, 2, 1, 2, 2, 7, 4, 0, 4, 4, 2, 5, 7, 9, 2, 2, 8, 2, 6,\n",
            "        0, 6, 3, 3, 1, 5, 2, 7]), tensor([5, 3, 7, 6, 2, 3, 5, 1, 1, 2, 7, 3, 8, 8, 7, 5, 6, 9, 5, 5, 4, 0, 7, 1,\n",
            "        4, 6, 0, 9, 9, 6, 6, 8]), tensor([6, 5, 7, 8, 2, 2, 9, 3, 6, 2, 8, 1, 6, 4, 2, 0, 7, 5, 8, 9, 9, 7, 5, 2,\n",
            "        7, 6, 3, 2, 6, 3, 4, 2]), tensor([0, 8, 9, 4, 5, 4, 3, 1, 2, 8, 9, 0, 5, 6, 2, 8, 6, 3, 8, 6, 8, 7, 2, 7,\n",
            "        2, 3, 2, 7, 1, 2, 3, 4]), tensor([2, 4, 3, 9, 9, 2, 8, 0, 4, 0, 6, 1, 9, 3, 9, 6, 8, 6, 9, 4, 7, 9, 1, 5,\n",
            "        8, 1, 3, 6, 2, 6, 8, 3]), tensor([3, 3, 0, 0, 4, 3, 3, 1, 4, 8, 4, 9, 3, 0, 2, 5, 8, 8, 8, 6, 1, 2, 8, 9,\n",
            "        8, 5, 8, 7, 0, 7, 2, 7]), tensor([1, 5, 5, 8, 3, 4, 8, 5, 9, 9, 4, 0, 4, 7, 1, 8, 8, 8, 7, 2, 0, 9, 7, 9,\n",
            "        6, 9, 2, 1, 4, 7, 2, 5]), tensor([2, 6, 2, 9, 0, 7, 1, 9, 7, 2, 5, 3, 8, 4, 9, 4, 9, 5, 7, 5, 1, 3, 3, 2,\n",
            "        0, 7, 5, 3, 5, 5, 8, 7]), tensor([7, 4, 6, 5, 5, 3, 4, 8, 3, 0, 9, 2, 3, 2, 2, 9, 4, 6, 9, 1, 3, 8, 1, 4,\n",
            "        9, 8, 2, 6, 7, 2, 0, 2]), tensor([2, 3, 6, 3, 0, 5, 2, 3, 2, 3, 5, 0, 7, 4, 6, 2, 8, 3, 5, 1, 6, 9, 1, 2,\n",
            "        9, 3, 7, 4, 6, 6, 2, 5]), tensor([6, 3, 6, 6, 5, 1, 7, 9, 4, 6, 7, 3, 0, 2, 8, 1, 0, 9, 9, 7, 8, 4, 6, 9,\n",
            "        7, 7, 5, 8, 6, 7, 5, 3]), tensor([5, 5, 6, 8, 9, 7, 2, 1, 4, 7, 1, 3, 6, 3, 2, 2, 9, 4, 7, 7, 6, 5, 0, 8,\n",
            "        8, 6, 8, 5, 6, 0, 7, 3]), tensor([6, 6, 4, 5, 2, 0, 7, 7, 7, 1, 8, 2, 1, 8, 5, 4, 4, 8, 7, 7, 6, 7, 1, 6,\n",
            "        9, 5, 3, 9, 3, 5, 0, 7]), tensor([4, 2, 0, 1, 2, 5, 9, 3, 2, 8, 5, 7, 3, 1, 2, 6, 8, 1, 8, 5, 6, 9, 3, 3,\n",
            "        6, 6, 4, 2, 0, 6, 4, 2]), tensor([3, 2, 5, 9, 1, 1, 9, 4, 7, 0, 3, 1, 0, 0, 7, 7, 0, 7, 8, 0, 5, 6, 4, 3,\n",
            "        8, 9, 7, 2, 9, 5, 3, 7]), tensor([2, 4, 1, 9, 7, 8, 1, 3, 7, 3, 6, 7, 8, 6, 5, 2, 7, 9, 9, 7, 0, 4, 2, 3,\n",
            "        4, 6, 7, 5, 3, 9, 2, 8]), tensor([8, 6, 0, 4, 1, 9, 3, 3, 5, 1, 7, 5, 9, 2, 8, 5, 5, 9, 5, 2, 0, 7, 3, 5,\n",
            "        6, 2, 0, 7, 6, 8, 1, 9]), tensor([2, 6, 6, 4, 6, 8, 7, 7, 3, 9, 3, 9, 6, 8, 2, 6, 9, 0, 3, 2, 5, 5, 6, 4,\n",
            "        6, 4, 1, 3, 1, 2, 7, 8]), tensor([8, 9, 7, 6, 5, 7, 3, 6, 0, 4, 6, 3, 6, 8, 8, 8, 0, 2, 3, 2, 8, 2, 1, 4,\n",
            "        1, 1, 6, 3, 2, 2, 6, 0]), tensor([0, 4, 1, 3, 2, 5, 0, 2, 7, 9, 9, 2, 5, 2, 9, 9, 8, 4, 8, 3, 2, 0, 9, 6,\n",
            "        2, 4, 3, 8, 2, 6, 6, 5]), tensor([6, 2, 7, 4, 7, 8, 8, 2, 4, 8, 8, 0, 1, 5, 8, 9, 8, 7, 2, 0, 3, 6, 3, 0,\n",
            "        7, 3, 9, 9, 1, 5, 9, 4]), tensor([1, 7, 6, 1, 0, 5, 3, 8, 2, 4, 1, 7, 0, 5, 0, 2, 1, 7, 1, 7, 9, 6, 3, 9,\n",
            "        2, 2, 9, 3, 5, 2, 8, 2]), tensor([4, 7, 7, 4, 2, 0, 5, 5, 3, 6, 2, 5, 6, 8, 5, 6, 9, 1, 3, 1, 4, 5, 9, 3,\n",
            "        7, 0, 3, 5, 6, 1, 5, 8]), tensor([5, 6, 6, 9, 1, 7, 1, 7, 1, 8, 0, 3, 4, 0, 2, 0, 3, 3, 4, 8, 0, 3, 4, 8,\n",
            "        1, 1, 3, 3, 2, 2, 1, 8]), tensor([0, 2, 6, 2, 4, 2, 3, 9, 2, 3, 0, 4, 5, 7, 1, 6, 1, 2, 0, 3, 8, 5, 1, 6,\n",
            "        5, 2, 8, 1, 7, 1, 6, 4]), tensor([7, 4, 6, 1, 5, 3, 3, 5, 8, 7, 7, 7, 2, 7, 5, 6, 2, 2, 6, 6, 6, 9, 9, 5,\n",
            "        8, 0, 4, 4, 1, 3, 7, 3]), tensor([6, 0, 9, 8, 5, 3, 6, 7, 1, 9, 5, 8, 2, 6, 9, 9, 1, 2, 2, 3, 2, 4, 5, 1,\n",
            "        6, 4, 8, 3, 4, 8, 3, 4]), tensor([0, 0, 3, 6, 7, 4, 4, 1, 7, 3, 6, 7, 9, 9, 1, 8, 8, 9, 1, 2, 6, 1, 2, 8,\n",
            "        2, 5, 7, 8, 0, 6, 2, 7]), tensor([2, 1, 5, 6, 8, 7, 8, 1, 4, 9, 2, 5, 5, 9, 9, 4, 4, 2, 1, 6, 6, 8, 7, 6,\n",
            "        1, 7, 5, 2, 7, 0, 3, 4]), tensor([4, 8, 4, 6, 6, 7, 3, 7, 3, 6, 3, 8, 6, 6, 2, 3, 2, 3, 5, 8, 0, 7, 0, 8,\n",
            "        9, 0, 2, 1, 2, 5, 1, 3]), tensor([4, 7, 6, 4, 9, 9, 1, 4, 3, 1, 6, 8, 0, 3, 0, 6, 2, 0, 2, 3, 6, 7, 2, 3,\n",
            "        6, 0, 8, 5, 4, 0, 1, 0]), tensor([4, 2, 6, 7, 9, 6, 2, 4, 3, 6, 8, 5, 4, 4, 0, 3, 3, 5, 2, 5, 1, 5, 5, 1,\n",
            "        7, 5, 2, 1, 8, 8, 0, 9]), tensor([0, 0, 0, 3, 2, 1, 8, 3, 4, 2, 1, 2, 0, 3, 0, 8, 5, 1, 5, 0, 2, 6, 3, 9,\n",
            "        8, 2, 8, 1, 0, 2, 6, 2]), tensor([2, 3, 7, 5, 0, 6, 2, 0, 8, 2, 4, 1, 8, 6, 8, 2, 9, 2, 6, 8, 5, 2, 7, 3,\n",
            "        2, 2, 6, 6, 4, 8, 5, 4]), tensor([1, 5, 2, 8, 2, 9, 3, 6, 3, 6, 4, 2, 7, 7, 9, 6, 4, 9, 8, 3, 5, 8, 7, 7,\n",
            "        0, 7, 7, 0, 7, 7, 2, 9]), tensor([5, 4, 2, 2, 4, 8, 0, 1, 9, 8, 6, 2, 2, 2, 4, 8, 0, 7, 6, 4, 3, 8, 1, 3,\n",
            "        8, 5, 3, 0, 3, 4, 8, 8]), tensor([9, 1, 3, 2, 1, 4, 8, 6, 4, 6, 7, 3, 9, 2, 9, 0, 4, 6, 5, 7, 0, 8, 1, 7,\n",
            "        5, 4, 9, 5, 7, 3, 2, 0]), tensor([9, 8, 7, 3, 7, 7, 4, 7, 5, 8, 8, 2, 4, 6, 2, 3, 8, 9, 7, 1, 3, 4, 2, 9,\n",
            "        7, 1, 2, 2, 6, 0, 5, 5]), tensor([4, 5, 2, 8, 9, 4, 9, 9, 1, 4, 3, 1, 5, 7, 5, 6, 8, 1, 5, 7, 7, 7, 9, 0,\n",
            "        0, 1, 1, 4, 6, 0, 9, 3]), tensor([6, 4, 4, 8, 2, 5, 2, 9, 0, 2, 8, 4, 8, 6, 3, 6, 1, 4, 3, 3, 8, 2, 9, 9,\n",
            "        0, 7, 9, 5, 3, 1, 7, 2]), tensor([8, 4, 7, 2, 1, 6, 0, 7, 2, 1, 9, 3, 2, 8, 3, 8, 4, 2, 5, 2, 7, 6, 1, 2,\n",
            "        0, 7, 9, 0, 1, 3, 7, 5]), tensor([1, 2, 1, 1, 3, 8, 3, 9, 5, 4, 6, 3, 7, 7, 7, 2, 3, 9, 3, 9, 2, 6, 0, 5,\n",
            "        6, 2, 7, 7, 6, 3, 4, 9]), tensor([6, 4, 6, 2, 7, 9, 6, 1, 3, 2, 0, 8, 8, 7, 3, 2, 7, 5, 7, 6, 1, 8, 1, 4,\n",
            "        9, 8, 9, 3, 1, 0, 3, 3]), tensor([3, 0, 6, 4, 1, 9, 7, 1, 2, 6, 5, 3, 4, 1, 7, 6, 7, 0, 2, 8, 8, 1, 4, 9,\n",
            "        7, 6, 2, 4, 9, 3, 9, 8]), tensor([5, 3, 8, 4, 7, 1, 4, 1, 9, 6, 8, 4, 2, 4, 8, 1, 1, 5, 8, 6, 1, 6, 2, 9,\n",
            "        0, 9, 5, 3, 5, 0, 6, 5]), tensor([6, 8, 3, 8, 0, 2, 9, 9, 1, 5, 3, 2, 6, 5, 3, 6, 3, 6, 7, 4, 0, 4, 1, 9,\n",
            "        5, 1, 7, 5, 5, 5, 9, 6]), tensor([8, 4, 6, 6, 4, 6, 2, 1, 1, 4, 4, 8, 4, 9, 0, 5, 8, 1, 3, 2, 3, 2, 4, 8,\n",
            "        3, 2, 9, 3, 2, 9, 7, 2]), tensor([2, 2, 6, 8, 9, 6, 6, 4, 7, 7, 9, 7, 3, 6, 9, 6, 7, 3, 0, 2, 0, 9, 2, 3,\n",
            "        3, 1, 9, 5, 8, 2, 3, 5]), tensor([0, 6, 2, 5, 2, 3, 5, 2, 7, 7, 6, 0, 9, 7, 1, 2, 4, 5, 3, 0, 2, 1, 4, 0,\n",
            "        5, 4, 8, 5, 7, 2, 6, 8]), tensor([3, 5, 2, 6, 9, 8, 9, 9, 8, 1, 7, 5, 6, 1, 5, 3, 3, 3, 3, 4, 2, 3, 6, 7,\n",
            "        8, 0, 9, 3, 3, 0, 4, 2]), tensor([9, 4, 5, 7, 3, 7, 8, 6, 6, 2, 2, 3, 1, 0, 7, 5, 2, 6, 2, 1, 1, 4, 7, 2,\n",
            "        3, 5, 9, 6, 6, 4, 3, 9]), tensor([7, 9, 2, 6, 9, 8, 3, 5, 3, 1, 4, 5, 0, 1, 8, 5, 8, 4, 6, 7, 8, 9, 2, 4,\n",
            "        6, 4, 2, 2, 4, 7, 9, 1]), tensor([9, 7, 4, 8, 1, 3, 2, 2, 1, 6, 1, 5, 8, 6, 4, 4, 9, 4, 7, 8, 3, 0, 2, 7,\n",
            "        7, 5, 9, 7, 7, 1, 8, 7]), tensor([5, 9, 7, 8, 2, 1, 0, 8, 6, 2, 6, 7, 9, 2, 4, 5, 2, 3, 4, 1, 1, 7, 0, 5,\n",
            "        5, 4, 9, 8, 9, 6, 5, 4]), tensor([6, 2, 5, 5, 8, 4, 8, 8, 7, 2, 9, 4, 9, 6, 9, 7, 3, 9, 7, 3, 6, 4, 2, 2,\n",
            "        7, 9, 2, 0, 2, 4, 1, 0]), tensor([3, 8, 6, 8, 6, 4, 2, 3, 5, 7, 7, 8, 5, 6, 3, 2, 1, 8, 3, 2, 7, 4, 2, 3,\n",
            "        0, 8, 3, 3, 4, 9, 0, 9]), tensor([7, 0, 1, 6, 3, 6, 3, 2, 6, 3, 5, 1, 3, 4, 1, 9, 3, 5, 0, 4, 2, 3, 1, 5,\n",
            "        3, 4, 8, 5, 7, 2, 6, 1]), tensor([1, 0, 6, 2, 5, 9, 6, 7, 2, 3, 6, 4, 6, 3, 3, 9, 4, 7, 0, 8, 6, 5, 6, 2,\n",
            "        0, 1, 3, 9, 4, 2, 5, 6]), tensor([8, 3, 2, 5, 6, 0, 6, 0, 2, 9, 1, 3, 3, 2, 5, 8, 6, 6, 1, 4, 9, 7, 2, 4,\n",
            "        7, 8, 7, 1, 4, 8, 7, 9]), tensor([1, 7, 0, 2, 9, 2, 1, 6, 7, 6, 4, 5, 2, 7, 4, 1, 4, 5, 9, 6, 5, 7, 7, 3,\n",
            "        8, 1, 9, 4, 5, 3, 6, 7]), tensor([6, 9, 5, 1, 3, 6, 9, 3, 4, 4, 5, 3, 4, 9, 9, 1, 2, 2, 2, 4, 6, 8, 7, 9,\n",
            "        9, 4, 8, 8, 9, 0, 7, 6]), tensor([4, 3, 8, 6, 4, 2, 0, 1, 2, 0, 2, 1, 5, 4, 6, 3, 0, 3, 4, 5, 6, 3, 7, 6,\n",
            "        0, 3, 1, 8, 4, 8, 9, 9]), tensor([5, 5, 8, 2, 5, 4, 4, 2, 5, 6, 9, 2, 7, 1, 0, 2, 4, 6, 9, 8, 3, 2, 9, 1,\n",
            "        9, 2, 7, 3, 5, 2, 3, 4]), tensor([2, 1, 0, 2, 4, 3, 7, 8, 4, 9, 5, 9, 0, 2, 3, 4, 5, 5, 5, 7, 6, 1, 3, 3,\n",
            "        7, 0, 9, 7, 6, 8, 3, 5]), tensor([5, 8, 1, 9, 4, 6, 2, 2, 1, 6, 3, 1, 2, 5, 3, 6, 1, 1, 7, 5, 2, 5, 9, 0,\n",
            "        8, 3, 4, 4, 2, 7, 0, 7]), tensor([3, 3, 2, 3, 7, 1, 2, 2, 3, 3, 0, 6, 6, 4, 8, 5, 0, 3, 6, 4, 7, 3, 3, 6,\n",
            "        0, 2, 4, 4, 1, 8, 1, 9]), tensor([3, 2, 6, 4, 2, 3, 3, 3, 5, 3, 5, 8, 3, 9, 7, 4, 0, 6, 1, 6, 1, 6, 7, 7,\n",
            "        2, 8, 9, 6, 1, 5, 4, 9]), tensor([4, 7, 9, 9, 9, 0, 1, 0, 9, 9, 5, 1, 7, 2, 9, 3, 5, 6, 8, 1, 7, 4, 3, 8,\n",
            "        4, 7, 8, 8, 9, 6, 8, 4]), tensor([5, 6, 4, 5, 9, 6, 0, 5, 3, 1, 7, 4, 4, 7, 1, 5, 8, 3, 7, 2, 7, 1, 8, 8,\n",
            "        8, 7, 8, 6, 0, 5, 7, 9]), tensor([8, 5, 6, 0, 6, 2, 3, 2, 3, 9, 9, 1, 9, 5, 8, 4, 4, 2, 4, 2, 7, 2, 8, 3,\n",
            "        6, 7, 8, 2, 3, 9, 9, 5]), tensor([9, 2, 6, 9, 7, 0, 7, 4, 7, 9, 2, 3, 9, 5, 3, 5, 3, 1, 2, 9, 1, 2, 8, 5,\n",
            "        1, 7, 9, 0, 3, 3, 0, 9]), tensor([3, 4, 3, 0, 0, 6, 9, 7, 1, 9, 8, 5, 6, 8, 5, 9, 5, 6, 4, 2, 5, 2, 2, 5,\n",
            "        4, 2, 7, 1, 6, 3, 4, 6]), tensor([5, 6, 4, 6, 7, 8, 5, 1, 8, 2, 3, 4, 2, 4, 1, 9, 0, 7, 2, 7, 3, 2, 9, 7,\n",
            "        4, 6, 6, 3, 7, 3, 4, 7]), tensor([6, 1, 7, 3, 6, 3, 6, 6, 8, 0, 4, 1, 7, 9, 6, 2, 9, 2, 6, 7, 1, 7, 5, 2,\n",
            "        9, 8, 6, 4, 0, 3, 3, 2]), tensor([2, 8, 3, 6, 8, 1, 8, 1, 0, 1, 6, 7, 3, 7, 7, 3, 3, 9, 9, 6, 6, 2, 5, 8,\n",
            "        9, 3, 3, 5, 4, 1, 6, 9]), tensor([4, 3, 2, 6, 1, 8, 1, 3, 4, 0, 2, 1, 9, 0, 5, 3, 5, 3, 6, 4, 1, 2, 0, 7,\n",
            "        3, 6, 2, 3, 4, 4, 5, 2]), tensor([9, 6, 8, 0, 4, 6, 0, 1, 7, 7, 2, 3, 3, 2, 0, 3, 8, 2, 6, 2, 5, 1, 4, 2,\n",
            "        2, 1, 7, 3, 2, 6, 9, 7]), tensor([8, 0, 6, 3, 6, 0, 8, 1, 2, 3, 3, 1, 9, 5, 0, 2, 6, 7, 1, 9, 2, 9, 0, 4,\n",
            "        2, 4, 8, 6, 9, 4, 7, 0]), tensor([3, 1, 3, 8, 3, 4, 1, 2, 6, 2, 6, 7, 7, 8, 3, 2, 9, 5, 4, 6, 9, 5, 2, 3,\n",
            "        8, 5, 3, 8, 3, 7, 9, 0]), tensor([2, 5, 1, 0, 5, 6, 3, 5, 7, 9, 6, 6, 7, 1, 2, 0, 8, 6, 2, 2, 7, 8, 3, 6,\n",
            "        4, 6, 9, 7, 3, 2, 5, 4]), tensor([5, 1, 9, 5, 0, 5, 6, 4, 1, 7, 9, 3, 3, 3, 2, 9, 1, 3, 3, 9, 5, 6, 8, 2,\n",
            "        4, 1, 4, 0, 6, 7, 9, 0]), tensor([6, 1, 2, 3, 6, 9, 8, 1, 3, 7, 3, 9, 9, 5, 4, 2, 3, 6, 8, 8, 5, 5, 1, 6,\n",
            "        8, 5, 7, 9, 9, 3, 4, 4]), tensor([2, 7, 9, 4, 8, 7, 5, 4, 7, 6, 1, 4, 2, 2, 0, 9, 6, 6, 5, 1, 1, 5, 8, 3,\n",
            "        2, 6, 2, 0, 6, 4, 5, 5]), tensor([2, 4, 6, 4, 6, 1, 5, 2, 7, 8, 6, 7, 7, 0, 8, 4, 0, 6, 9, 1, 2, 1, 7, 4,\n",
            "        3, 4, 9, 9, 2, 6, 4, 3]), tensor([3, 3, 7, 5, 2, 7, 8, 9, 9, 2, 7, 2, 7, 7, 5, 8, 7, 4, 6, 9, 0, 1, 8, 7,\n",
            "        5, 4, 5, 3, 7, 4, 6, 5]), tensor([5, 6, 9, 9, 0, 9, 5, 9, 4, 4, 1, 7, 8, 3, 5, 1, 0, 6, 5, 0, 2, 3, 7, 1,\n",
            "        0, 1, 0, 7, 7, 6, 4, 4]), tensor([7, 0, 0, 5, 3, 4, 8, 1, 5, 2, 7, 3, 2, 3, 2, 7, 8, 0, 7, 6, 9, 5, 8, 6,\n",
            "        7, 3, 5, 0, 9, 7, 1, 0]), tensor([6, 5, 7, 8, 4, 3, 1, 9, 0, 2, 9, 1, 3, 4, 4, 3, 3, 6, 2, 3, 8, 6, 4, 9,\n",
            "        5, 0, 1, 8, 2, 4, 4, 4]), tensor([2, 9, 4, 3, 7, 9, 6, 3, 5, 4, 5, 9, 8, 8, 3, 0, 1, 2, 4, 4, 1, 9, 6, 4,\n",
            "        0, 5, 5, 4, 6, 2, 6, 1]), tensor([4, 9, 9, 7, 6, 1, 2, 6, 0, 2, 6, 2, 5, 9, 4, 8, 4, 6, 1, 5, 9, 2, 1, 8,\n",
            "        9, 3, 1, 7, 1, 1, 1, 9]), tensor([1, 3, 8, 9, 9, 1, 9, 6, 0, 7, 8, 5, 5, 5, 3, 8, 9, 4, 7, 4, 4, 9, 2, 6,\n",
            "        1, 5, 0, 7, 3, 6, 0, 7]), tensor([1, 1, 8, 2, 8, 9, 2, 0, 7, 2, 0, 0, 5, 1, 6, 8, 2, 3, 7, 2, 3, 9, 7, 6,\n",
            "        1, 3, 9, 2, 4, 0, 3, 7]), tensor([8, 1, 1, 9, 5, 3, 8, 4, 6, 6, 1, 8, 2, 3, 6, 2, 8, 9, 9, 4, 3, 4, 1, 7,\n",
            "        9, 0, 8, 7, 3, 3, 8, 4]), tensor([1, 8, 2, 7, 6, 4, 8, 9, 2, 5, 3, 2, 4, 1, 1, 0, 6, 1, 6, 7, 8, 5, 9, 1,\n",
            "        5, 0, 9, 4, 2, 1, 7, 4]), tensor([9, 8, 8, 9, 8, 5, 3, 8, 2, 0, 3, 6, 1, 1, 9, 6, 9, 7, 5, 3, 2, 9, 5, 5,\n",
            "        4, 2, 9, 9, 3, 0, 6, 4]), tensor([1, 7, 4, 7, 2, 8, 5, 8, 6, 0, 1, 3, 2, 2, 3, 6, 6, 6, 6, 8, 3, 2, 8, 6,\n",
            "        1, 8, 4, 5, 4, 2, 3, 9]), tensor([6, 4, 4, 4, 5, 4, 2, 7, 0, 7, 3, 3, 6, 9, 4, 8, 5, 6, 0, 3, 6, 7, 2, 5,\n",
            "        3, 1, 1, 9, 7, 5, 4, 2]), tensor([1, 6, 4, 8, 9, 2, 5, 5, 8, 3, 0, 9, 6, 4, 8, 3, 8, 4, 7, 2, 8, 6, 3, 2,\n",
            "        0, 4, 1, 3, 7, 2, 6, 2]), tensor([2, 3, 4, 4, 0, 8, 4, 5, 1, 4, 3, 8, 2, 1, 4, 1, 1, 9, 6, 5, 9, 6, 8, 0,\n",
            "        3, 4, 3, 8, 4, 7, 5, 4]), tensor([1, 1, 2, 6, 7, 7, 0, 1, 0, 5, 2, 8, 9, 7, 9, 1, 1, 3, 3, 5, 6, 7, 4, 9,\n",
            "        4, 9, 3, 2, 6, 2, 8, 7]), tensor([2, 5, 9, 8, 3, 8, 1, 3, 3, 3, 5, 2, 5, 2, 4, 9, 2, 7, 1, 4, 2, 3, 7, 7,\n",
            "        6, 7, 9, 4, 7, 7, 0, 1]), tensor([6, 1, 2, 8, 2, 6, 7, 4, 7, 1, 8, 7, 5, 1, 3, 1, 0, 3, 6, 5, 3, 8, 6, 3,\n",
            "        4, 9, 3, 1, 5, 3, 0, 7]), tensor([0, 6, 4, 5, 1, 6, 6, 2, 8, 3, 9, 8, 6, 7, 2, 6, 2, 5, 1, 9, 6, 3, 8, 7,\n",
            "        1, 8, 1, 2, 0, 9, 2, 4]), tensor([3, 4, 6, 1, 3, 5, 2, 9, 7, 5, 3, 9, 5, 5, 6, 4, 8, 0, 7, 6, 8, 6, 2, 1,\n",
            "        9, 7, 7, 3, 8, 0, 3, 6]), tensor([9, 8, 5, 6, 4, 8, 1, 5, 5, 9, 0, 1, 6, 1, 3, 4, 4, 2, 6, 1, 7, 6, 2, 2,\n",
            "        6, 1, 8, 2, 4, 6, 3, 0]), tensor([8, 8, 4, 6, 2, 0, 7, 0, 8, 9, 1, 4, 6, 7, 6, 8, 1, 8, 2, 6, 6, 7, 5, 7,\n",
            "        9, 9, 3, 9, 4, 4, 2, 2]), tensor([1, 4, 2, 4, 4, 5, 2, 2, 2, 9, 1, 8, 0, 6, 2, 2, 0, 3, 6, 6, 1, 3, 6, 3,\n",
            "        4, 1, 5, 5, 1, 0, 7, 2]), tensor([5, 0, 3, 2, 8, 5, 8, 7, 8, 4, 5, 9, 5, 5, 1, 2, 4, 7, 2, 9, 7, 8, 6, 7,\n",
            "        4, 6, 3, 8, 8, 4, 5, 1]), tensor([8, 2, 4, 2, 2, 7, 8, 9, 0, 2, 7, 9, 1, 5, 7, 8, 4, 3, 9, 5, 9, 3, 0, 8,\n",
            "        6, 3, 6, 1, 5, 8, 0, 0]), tensor([1, 8, 6, 9, 0, 6, 7, 6, 6, 2, 7, 4, 8, 8, 2, 6, 3, 6, 7, 1, 4, 7, 4, 6,\n",
            "        7, 1, 6, 5, 2, 4, 7, 9]), tensor([6, 6, 8, 2, 1, 1, 8, 8, 3, 5, 7, 5, 6, 9, 4, 3, 7, 3, 8, 9, 6, 2, 2, 4,\n",
            "        5, 7, 0, 2, 2, 9, 5, 7]), tensor([2, 2, 5, 8, 3, 1, 3, 7, 4, 9, 4, 3, 9, 7, 2, 0, 8, 6, 9, 1, 9, 9, 6, 7,\n",
            "        1, 4, 7, 0, 3, 8, 7, 2]), tensor([8, 5, 8, 4, 2, 0, 6, 9, 6, 5, 0, 1, 3, 8, 9, 1, 8, 9, 4, 0, 9, 7, 4, 9,\n",
            "        2, 1, 2, 7, 5, 1, 0, 8]), tensor([3, 4, 7, 2, 4, 6, 8, 5, 7, 9, 5, 7, 4, 2, 3, 7, 3, 4, 1, 5, 6, 9, 7, 4,\n",
            "        6, 2, 5, 8, 0, 7, 7, 2]), tensor([2, 6, 4, 8, 4, 6, 6, 9, 8, 9, 6, 5, 0, 6, 0, 2, 6, 3, 1, 8, 7, 2, 1, 9,\n",
            "        1, 2, 6, 5, 2, 3, 2, 0]), tensor([2, 6, 0, 7, 2, 1, 8, 2, 8, 7, 9, 2, 1, 4, 5, 7, 7, 4, 2, 5, 9, 4, 6, 7,\n",
            "        3, 2, 0, 9, 6, 7, 3, 9]), tensor([1, 2, 1, 9, 7, 2, 3, 4, 8, 1, 8, 3, 5, 0, 5, 3, 8, 2, 7, 2, 9, 0, 6, 8,\n",
            "        4, 2, 4, 4, 4, 3, 7, 8]), tensor([7, 1, 3, 7, 8, 9, 5, 5, 2, 4, 4, 5, 0, 8, 6, 6, 4, 2, 8, 8, 9, 6, 9, 1,\n",
            "        5, 1, 2, 1, 3, 2, 2, 2]), tensor([4, 8, 7, 9, 9, 2, 0, 5, 7, 0, 5, 6, 8, 3, 3, 4, 3, 7, 3, 8, 2, 9, 8, 3,\n",
            "        7, 3, 2, 6, 3, 7, 1, 8]), tensor([5, 7, 8, 5, 5, 3, 8, 3, 7, 7, 7, 6, 5, 2, 2, 1, 2, 3, 4, 1, 0, 3, 9, 3,\n",
            "        8, 2, 3, 7, 4, 9, 5, 7]), tensor([4, 3, 9, 8, 6, 8, 2, 7, 3, 9, 3, 0, 8, 9, 0, 9, 8, 6, 2, 5, 7, 1, 6, 8,\n",
            "        2, 0, 2, 3, 1, 1, 1, 7]), tensor([6, 2, 6, 5, 9, 8, 9, 5, 3, 4, 7, 9, 2, 0, 1, 1, 1, 4, 8, 3, 8, 0, 9, 5,\n",
            "        6, 7, 6, 8, 2, 3, 6, 2]), tensor([6, 2, 5, 7, 2, 9, 7, 6, 2, 4, 0, 7, 4, 5, 6, 3, 6, 1, 5, 8, 1, 8, 6, 6,\n",
            "        3, 9, 1, 9, 7, 6, 9, 6]), tensor([9, 3, 0, 4, 2, 3, 4, 6, 6, 9, 2, 1, 1, 0, 5, 6, 7, 0, 4, 1, 1, 5, 0, 0,\n",
            "        1, 9, 8, 7, 3, 5, 2, 1]), tensor([6, 6, 4, 0, 3, 6, 2, 3, 8, 9, 5, 8, 9, 3, 3, 7, 8, 9, 4, 1, 1, 7, 0, 7,\n",
            "        0, 0, 9, 6, 0, 2, 9, 2]), tensor([8, 5, 5, 9, 3, 3, 5, 7, 1, 2, 3, 3, 5, 6, 6, 4, 1, 1, 9, 1, 4, 0, 6, 2,\n",
            "        2, 6, 6, 0, 3, 5, 0, 3]), tensor([0, 5, 1, 1, 8, 4, 5, 3, 5, 1, 6, 6, 3, 1, 6, 7, 9, 6, 3, 8, 5, 6, 4, 9,\n",
            "        1, 9, 7, 7, 6, 2, 2, 7]), tensor([5, 6, 1, 5, 7, 7, 8, 2, 8, 3, 7, 6, 6, 2, 9, 9, 0, 2, 7, 3, 1, 0, 8, 2,\n",
            "        4, 4, 4, 7, 1, 8, 4, 6]), tensor([3, 4, 4, 6, 9, 8, 0, 6, 8, 3, 9, 2, 1, 5, 6, 5, 6, 8, 4, 2, 5, 9, 3, 6,\n",
            "        4, 7, 8, 5, 9, 5, 6, 0]), tensor([6, 9, 7, 2, 9, 2, 2, 2, 4, 6, 1, 4, 3, 9, 4, 0, 3, 8, 2, 6, 8, 4, 7, 2,\n",
            "        5, 6, 3, 6, 8, 7, 0, 2]), tensor([1, 1, 8, 7, 3, 2, 0, 5, 4, 3, 8, 8, 8, 9, 6, 6, 9, 6, 0, 3, 6, 2, 2, 8,\n",
            "        8, 5, 9, 6, 7, 1, 9, 0]), tensor([3, 3, 0, 2, 3, 9, 9, 8, 3, 0, 2, 2, 6, 6, 4, 5, 0, 6, 9, 8, 5, 8, 3, 4,\n",
            "        1, 4, 8, 7, 2, 6, 2, 3]), tensor([5, 6, 3, 5, 2, 5, 3, 7, 1, 2, 7, 8, 9, 4, 8, 8, 7, 5, 8, 6, 4, 0, 8, 3,\n",
            "        6, 2, 9, 6, 1, 0, 5, 1]), tensor([4, 0, 9, 2, 6, 3, 6, 7, 4, 6, 4, 3, 8, 5, 1, 8, 3, 4, 4, 5, 6, 0, 7, 8,\n",
            "        7, 4, 2, 2, 2, 9, 3, 5]), tensor([0, 9, 9, 0, 1, 3, 7, 1, 9, 4, 5, 2, 6, 9, 5, 7, 9, 4, 2, 8, 3, 1, 7, 8,\n",
            "        4, 6, 8, 0, 5, 5, 7, 1]), tensor([9, 6, 2, 1, 5, 1, 9, 0, 1, 2, 3, 2, 7, 3, 9, 3, 5, 4, 0, 6, 9, 7, 4, 2,\n",
            "        3, 8, 7, 8, 3, 6, 4, 1]), tensor([2, 9, 5, 8, 9, 0, 3, 2, 9, 5, 9, 0, 1, 0, 8, 4, 1, 4, 6, 9, 9, 8, 9, 7,\n",
            "        2, 6, 1, 9, 9, 3, 9, 3]), tensor([2, 3, 7, 3, 1, 4, 6, 8, 3, 4, 3, 3, 8, 4, 7, 1, 6, 3, 8, 4, 7, 9, 8, 6,\n",
            "        3, 0, 4, 5, 7, 2, 7, 2]), tensor([5, 0, 2, 6, 3, 3, 0, 0, 4, 4, 4, 4, 6, 9, 9, 6, 7, 4, 0, 2, 6, 1, 9, 5,\n",
            "        9, 9, 0, 5, 8, 2, 7, 3]), tensor([9, 5, 2, 8, 9, 5, 8, 6, 0, 3, 0, 6, 3, 7, 8, 0, 1, 2, 2, 6, 1, 1, 2, 2,\n",
            "        2, 5, 4, 3, 9, 3, 4, 4]), tensor([3, 7, 2, 9, 2, 1, 4, 7, 5, 5, 9, 4, 6, 9, 7, 7, 7, 4, 1, 8, 3, 3, 8, 0,\n",
            "        8, 7, 6, 7, 7, 9, 6, 4]), tensor([0, 3, 7, 2, 1, 5, 2, 0, 5, 8, 6, 7, 0, 1, 6, 5, 6, 2, 1, 4, 1, 8, 7, 9,\n",
            "        9, 7, 3, 2, 2, 4, 7, 2]), tensor([3, 9, 6, 3, 9, 5, 1, 0, 9, 0, 7, 4, 3, 5, 7, 2, 7, 6, 8, 7, 5, 4, 5, 9,\n",
            "        4, 3, 5, 0, 2, 8, 5, 3]), tensor([1, 9, 3, 7, 1, 6, 3, 4, 4, 2, 5, 9, 2, 1, 1, 9, 7, 9, 0, 1, 6, 8, 5, 2,\n",
            "        5, 3, 7, 8, 7, 7, 0, 8]), tensor([5, 6, 6, 3, 5, 2, 7, 7, 9, 7, 1, 0, 0, 8, 6, 4, 2, 6, 4, 5, 5, 6, 2, 3,\n",
            "        2, 4, 5, 6, 7, 1, 8, 7]), tensor([1, 2, 2, 0, 6, 7, 3, 7, 4, 6, 6, 3, 9, 4, 6, 6, 0, 8, 7, 3, 3, 0, 5, 6,\n",
            "        1, 5, 0, 9, 9, 1, 3, 0]), tensor([6, 1, 6, 6, 5, 5, 2, 2, 0, 9, 2, 6, 8, 2, 8, 3, 7, 7, 3, 3, 9, 5, 7, 6,\n",
            "        6, 9, 4, 5, 6, 7, 2, 9]), tensor([5, 5, 8, 7, 4, 9, 6, 6, 3, 0, 3, 0, 2, 7, 6, 4, 2, 5, 4, 1, 5, 7, 9, 7,\n",
            "        3, 9, 8, 0, 5, 1, 9, 0]), tensor([1, 0, 4, 8, 0, 5, 6, 9, 8, 8, 4, 4, 4, 1, 7, 5, 1, 1, 6, 7, 0, 3, 2, 8,\n",
            "        7, 8, 5, 9, 1, 1, 3, 8]), tensor([9, 9, 9, 1, 0, 2, 3, 6, 4, 4, 7, 1, 3, 0, 1, 5, 3, 4, 9, 2, 4, 2, 2, 6,\n",
            "        7, 9, 4, 7, 1, 4, 0, 8]), tensor([3, 3, 5, 6, 0, 8, 3, 0, 2, 0, 1, 8, 2, 6, 2, 9, 5, 4, 3, 5, 2, 1, 6, 4,\n",
            "        4, 5, 8, 6, 7, 3, 2, 6]), tensor([7, 4, 2, 3, 6, 3, 2, 6, 3, 4, 8, 1, 7, 8, 4, 8, 7, 7, 9, 9, 9, 2, 6, 9,\n",
            "        4, 0, 8, 8, 8, 0, 5, 6]), tensor([6, 6, 6, 2, 9, 9, 2, 3, 5, 2, 0, 1, 0, 8, 9, 5, 7, 3, 3, 2, 4, 1, 2, 8,\n",
            "        1, 8, 2, 6, 6, 9, 8, 5]), tensor([1, 2, 2, 0, 9, 2, 5, 5, 0, 7, 1, 6, 5, 8, 9, 9, 4, 9, 6, 3, 1, 2, 5, 0,\n",
            "        8, 6, 4, 2, 3, 6, 0, 0]), tensor([3, 3, 5, 9, 4, 7, 1, 5, 4, 1, 6, 1, 7, 9, 4, 0, 4, 5, 2, 9, 6, 9, 8, 8,\n",
            "        7, 6, 2, 3, 9, 3, 6, 7]), tensor([6, 2, 7, 6, 6, 1, 0, 5, 7, 3, 5, 9, 2, 3, 4, 2, 5, 8, 1, 9, 6, 7, 6, 7,\n",
            "        3, 6, 2, 5, 6, 8, 2, 6]), tensor([7, 4, 0, 5, 1, 5, 9, 6, 0, 9, 5, 8, 5, 7, 4, 9, 8, 3, 2, 6, 5, 7, 5, 1,\n",
            "        1, 5, 4, 1, 2, 5, 8, 2]), tensor([9, 6, 3, 3, 4, 6, 2, 4, 1, 1, 4, 7, 2, 5, 0, 2, 2, 8, 8, 8, 7, 7, 1, 2,\n",
            "        6, 6, 1, 4, 6, 2, 5, 8]), tensor([2, 4, 2, 3, 1, 8, 8, 4, 4, 0, 8, 2, 8, 0, 3, 2, 8, 8, 7, 5, 7, 0, 1, 1,\n",
            "        9, 7, 8, 6, 1, 9, 6, 3]), tensor([6, 9, 4, 0, 4, 9, 7, 2, 2, 2, 0, 5, 6, 6, 3, 7, 8, 6, 2, 6, 1, 1, 9, 9,\n",
            "        4, 5, 3, 6, 8, 5, 8, 6]), tensor([6, 1, 2, 3, 7, 6, 9, 0, 4, 8, 2, 3, 6, 9, 5, 5, 9, 4, 0, 4, 1, 1, 8, 9,\n",
            "        6, 4, 2, 3, 3, 0, 7, 1]), tensor([8, 8, 5, 3, 3, 7, 7, 1, 2, 1, 4, 1, 9, 0, 2, 1, 1, 0, 7, 3, 7, 3, 9, 0,\n",
            "        1, 8, 9, 2, 6, 6, 0, 9]), tensor([3, 6, 1, 2, 7, 6, 0, 5, 6, 8, 2, 7, 5, 3, 5, 9, 1, 8, 5, 3, 1, 2, 6, 3,\n",
            "        7, 3, 5, 4, 8, 0, 7, 1]), tensor([6, 3, 9, 8, 3, 8, 7, 7, 9, 7, 0, 9, 4, 0, 9, 6, 1, 9, 8, 6, 4, 7, 6, 9,\n",
            "        5, 4, 7, 1, 2, 1, 2, 6]), tensor([9, 6, 0, 5, 6, 0, 5, 5, 4, 6, 9, 9, 1, 6, 7, 7, 7, 2, 5, 1, 4, 0, 6, 3,\n",
            "        8, 9, 8, 2, 1, 0, 2, 3]), tensor([9, 8, 8, 7, 8, 3, 6, 0, 7, 4, 8, 6, 9, 9, 4, 7, 7, 2, 2, 1, 5, 4, 4, 3,\n",
            "        5, 5, 0, 8, 2, 7, 8, 9]), tensor([4, 2, 1, 7, 4, 4, 4, 9, 4, 3, 6, 0, 7, 7, 8, 0, 9, 1, 2, 6, 2, 9, 7, 1,\n",
            "        9, 9, 3, 3, 1, 4, 3, 5]), tensor([3, 3, 9, 4, 1, 4, 6, 2, 7, 5, 4, 6, 9, 9, 8, 3, 8, 1, 2, 2, 7, 5, 3, 3,\n",
            "        4, 2, 0, 3, 2, 0, 7, 6]), tensor([8, 8, 2, 8, 4, 5, 0, 6, 1, 7, 9, 7, 3, 9, 4, 6, 2, 8, 7, 1, 6, 8, 7, 6,\n",
            "        2, 6, 8, 2, 8, 0, 1, 5]), tensor([3, 8, 1, 7, 4, 9, 3, 7, 9, 5, 1, 8, 3, 0, 9, 3, 6, 2, 4, 2, 7, 6, 6, 9,\n",
            "        8, 8, 1, 5, 7, 7, 1, 7]), tensor([5, 4, 2, 0, 9, 8, 7, 3, 7, 0, 2, 5, 5, 1, 6, 9, 2, 6, 3, 2, 0, 4, 7, 2,\n",
            "        6, 6, 6, 1, 9, 3, 8, 3]), tensor([9, 7, 1, 7, 1, 3, 4, 6, 5, 6, 0, 6, 4, 1, 1, 2, 9, 0, 2, 2, 1, 3, 2, 7,\n",
            "        0, 1, 8, 5, 7, 4, 0, 5]), tensor([0, 4, 6, 2, 2, 5, 2, 1, 8, 2, 1, 7, 3, 2, 8, 9, 9, 0, 1, 2, 1, 4, 9, 6,\n",
            "        3, 1, 1, 4, 7, 8, 3, 6]), tensor([9, 3, 2, 8, 3, 8, 4, 9, 4, 7, 7, 6, 3, 2, 4, 5, 7, 3, 7, 6, 6, 6, 9, 3,\n",
            "        0, 5, 4, 1, 2, 1, 8, 1]), tensor([9, 4, 8, 9, 9, 3, 3, 7, 0, 0, 6, 1, 6, 4, 6, 4, 2, 2, 7, 3, 6, 3, 4, 0,\n",
            "        0, 1, 3, 6, 6, 5, 7, 9]), tensor([6, 6, 3, 7, 5, 1, 2, 7, 7, 5, 8, 0, 9, 1, 2, 1, 4, 9, 1, 6, 5, 2, 3, 0,\n",
            "        7, 1, 2, 7, 9, 3, 7, 4]), tensor([4, 2, 6, 7, 2, 7, 3, 1, 7, 8, 8, 7, 0, 1, 4, 0, 9, 7, 9, 9, 1, 2, 0, 4,\n",
            "        7, 4, 3, 3, 1, 7, 5, 7]), tensor([2, 5, 2, 0, 3, 1, 4, 5, 5, 3, 2, 5, 8, 4, 7, 4, 0, 8, 3, 2, 1, 7, 9, 2,\n",
            "        9, 1, 6, 6, 5, 1, 0, 2]), tensor([3, 7, 3, 1, 8, 2, 8, 9, 8, 8, 1, 0, 9, 2, 6, 6, 1, 1, 4, 7, 3, 0, 7, 9,\n",
            "        8, 9, 5, 2, 6, 4, 7, 2]), tensor([3, 8, 3, 8, 1, 1, 2, 4, 8, 1, 0, 8, 1, 8, 5, 3, 2, 7, 0, 2, 4, 9, 6, 2,\n",
            "        4, 9, 5, 6, 9, 9, 6, 7]), tensor([3, 2, 3, 3, 9, 6, 7, 7, 8, 1, 1, 0, 6, 5, 7, 9, 4, 7, 2, 7, 0, 6, 2, 9,\n",
            "        9, 7, 7, 5, 0, 1, 2, 3]), tensor([4, 6, 2, 0, 5, 2, 7, 8, 4, 2, 8, 7, 7, 1, 6, 5, 9, 9, 2, 1, 5, 1, 1, 3,\n",
            "        6, 7, 9, 8, 3, 3, 8, 5]), tensor([2, 4, 3, 6, 8, 0, 5, 2, 6, 9, 0, 1, 2, 5, 1, 8, 2, 1, 8, 1, 7, 1, 9, 1,\n",
            "        8, 3, 5, 4, 1, 0, 2, 2]), tensor([6, 6, 8, 2, 2, 5, 5, 0, 6, 6, 9, 8, 6, 1, 0, 6, 4, 8, 3, 4, 7, 7, 5, 9,\n",
            "        2, 5, 3, 6, 9, 9, 4, 8]), tensor([5, 6, 9, 3, 4, 0, 2, 8, 3, 1, 9, 2, 1, 6, 7, 3, 8, 5, 0, 2, 6, 4, 1, 1,\n",
            "        9, 8, 8, 9, 1, 2, 6, 0]), tensor([5, 2, 5, 6, 8, 3, 2, 4, 8, 4, 1, 5, 0, 3, 3, 1, 9, 2, 3, 7, 8, 2, 4, 4,\n",
            "        2, 5, 4, 9, 0, 7, 1, 1]), tensor([7, 9, 6, 1, 4, 7, 7, 4, 6, 3, 3, 6, 1, 0, 0, 9, 9, 8, 2, 9, 6, 4, 5, 4,\n",
            "        7, 2, 6, 5, 6, 6, 9, 3]), tensor([7, 0, 6, 3, 5, 3, 4, 3, 4, 6, 9, 8, 8, 6, 2, 0, 6, 3, 9, 4, 2, 8, 1, 9,\n",
            "        2, 4, 9, 3, 6, 2, 0, 6]), tensor([7, 0, 5, 0, 6, 3, 1, 3, 0, 9, 5, 4, 3, 7, 6, 2, 2, 9, 0, 7, 6, 5, 6, 8,\n",
            "        2, 1, 2, 2, 2, 5, 9, 4]), tensor([5, 6, 2, 0, 7, 4, 6, 2, 3, 3, 8, 6, 3, 8, 9, 4, 0, 2, 8, 4, 2, 2, 5, 7,\n",
            "        0, 3, 6, 8, 1, 5, 9, 2]), tensor([2, 8, 9, 2, 1, 0, 5, 5, 2, 2, 8, 2, 2, 6, 7, 2, 7, 3, 7, 4, 5, 8, 8, 3,\n",
            "        9, 8, 0, 6, 2, 6, 3, 6]), tensor([4, 9, 2, 5, 6, 5, 6, 3, 1, 7, 8, 0, 4, 7, 3, 3, 2, 0, 0, 9, 2, 8, 5, 4,\n",
            "        9, 6, 3, 4, 2, 0, 1, 1]), tensor([7, 3, 8, 2, 1, 9, 7, 8, 2, 8, 2, 3, 7, 6, 6, 4, 9, 6, 6, 2, 9, 8, 0, 5,\n",
            "        7, 2, 6, 5, 2, 1, 6, 7]), tensor([2, 4, 2, 7, 3, 6, 3, 3, 1, 5, 4, 0, 1, 9, 7, 5, 6, 5, 2, 7, 2, 6, 3, 5,\n",
            "        4, 8, 9, 0, 9, 7, 5, 7]), tensor([7, 9, 3, 4, 8, 4, 3, 9, 3, 1, 0, 2, 5, 2, 8, 7, 9, 7, 7, 7, 9, 2, 6, 0,\n",
            "        6, 7, 2, 1, 8, 0, 3, 8]), tensor([5, 0, 5, 6, 9, 1, 1, 2, 2, 8, 9, 7, 7, 5, 8, 6, 1, 4, 0, 1, 8, 4, 3, 4,\n",
            "        7, 9, 3, 7, 5, 5, 3, 9]), tensor([1, 2, 1, 2, 7, 4, 6, 9, 3, 4, 4, 1, 7, 8, 1, 6, 5, 9, 0, 0, 9, 5, 3, 8,\n",
            "        8, 2, 8, 5, 7, 0, 7, 0]), tensor([9, 6, 9, 2, 9, 4, 8, 5, 2, 0, 3, 2, 6, 4, 7, 3, 1, 7, 7, 8, 5, 7, 0, 6,\n",
            "        4, 2, 1, 3, 8, 3, 3, 2]), tensor([7, 5, 9, 1, 0, 4, 4, 7, 6, 6, 3, 1, 8, 4, 7, 2, 5, 7, 3, 1, 7, 1, 9, 2,\n",
            "        9, 6, 2, 2, 1, 8, 6, 9]), tensor([8, 2, 0, 3, 8, 4, 5, 1, 2, 2, 6, 4, 6, 8, 5, 7, 7, 7, 6, 5, 5, 7, 9, 7,\n",
            "        6, 2, 8, 2, 1, 3, 3, 4]), tensor([8, 9, 4, 0, 7, 3, 6, 8, 1, 2, 6, 1, 6, 5, 4, 9, 7, 2, 8, 7, 3, 7, 2, 3,\n",
            "        2, 1, 7, 4, 8, 5, 5, 0]), tensor([2, 3, 0, 1, 6, 6, 5, 0, 1, 5, 5, 2, 5, 1, 7, 8, 7, 1, 2, 7, 0, 9, 3, 1,\n",
            "        9, 0, 4, 6, 6, 5, 9, 9]), tensor([2, 2, 7, 1, 8, 1, 4, 2, 3, 7, 8, 4, 0, 4, 5, 4, 2, 9, 3, 5, 8, 0, 1, 9,\n",
            "        6, 7, 3, 7, 4, 4, 6, 6]), tensor([2, 1, 3, 3, 6, 7, 0, 5, 9, 2, 9, 3, 7, 9, 9, 6, 8, 8, 6, 1, 4, 4, 0, 2,\n",
            "        8, 1, 2, 1, 3, 3, 2, 7]), tensor([8, 7, 0, 4, 3, 4, 4, 5, 7, 9, 2, 8, 2, 4, 8, 6, 1, 7, 6, 7, 6, 6, 0, 3,\n",
            "        5, 1, 1, 2, 3, 6, 9, 8]), tensor([1, 0, 1, 6, 8, 5, 4, 0, 2, 0, 4, 9, 3, 8, 7, 2, 8, 6, 2, 8, 6, 4, 6, 6,\n",
            "        8, 7, 5, 2, 8, 7, 2, 9]), tensor([5, 9, 2, 1, 6, 4, 1, 9, 7, 1, 7, 3, 5, 8, 7, 2, 5, 1, 5, 2, 0, 6, 0, 1,\n",
            "        2, 4, 4, 8, 0, 3, 2, 2]), tensor([3, 5, 1, 2, 3, 6, 5, 1, 8, 3, 1, 6, 7, 8, 4, 2, 0, 6, 7, 8, 1, 3, 9, 6,\n",
            "        2, 8, 1, 4, 6, 8, 3, 0]), tensor([8, 5, 7, 5, 4, 7, 7, 6, 1, 8, 1, 7, 7, 0, 3, 1, 2, 5, 5, 3, 8, 9, 4, 0,\n",
            "        9, 5, 1, 7, 2, 1, 5, 2]), tensor([2, 1, 2, 0, 7, 1, 1, 4, 4, 5, 7, 0, 6, 7, 3, 3, 7, 8, 8, 2, 5, 6, 9, 7,\n",
            "        1, 2, 9, 3, 0, 5, 5, 6]), tensor([9, 1, 4, 6, 5, 6, 4, 1, 4, 6, 3, 3, 6, 3, 0, 8, 4, 7, 5, 5, 7, 0, 7, 9,\n",
            "        4, 4, 2, 9, 4, 7, 1, 8]), tensor([8, 8, 5, 8, 3, 8, 9, 3, 2, 0, 2, 1, 8, 4, 4, 6, 0, 9, 5, 3, 1, 9, 1, 3,\n",
            "        5, 6, 6, 2, 1, 7, 3, 6]), tensor([8, 2, 9, 3, 9, 6, 0, 4, 1, 2, 6, 2, 9, 1, 3, 9, 7, 3, 2, 6, 2, 9, 7, 8,\n",
            "        5, 6, 9, 6, 0, 6, 8, 1]), tensor([3, 2, 7, 5, 0, 4, 5, 6, 8, 9, 1, 9, 1, 8, 1, 2])]\n"
          ]
        },
        {
          "output_type": "execute_result",
          "data": {
            "text/plain": [
              "tensor([9, 2, 1,  ..., 8, 1, 2])"
            ]
          },
          "metadata": {},
          "execution_count": 160
        }
      ]
    },
    {
      "cell_type": "code",
      "source": [
        "y_preds_tensor, len(y_preds_tensor)"
      ],
      "metadata": {
        "colab": {
          "base_uri": "https://localhost:8080/"
        },
        "id": "SkHk_VFmqMS_",
        "outputId": "cb39bf20-9ce8-466e-b245-1ba9641477f5"
      },
      "execution_count": 165,
      "outputs": [
        {
          "output_type": "execute_result",
          "data": {
            "text/plain": [
              "(tensor([9, 2, 1,  ..., 8, 1, 2]), 10000)"
            ]
          },
          "metadata": {},
          "execution_count": 165
        }
      ]
    },
    {
      "cell_type": "code",
      "source": [
        "!pip install torchmetrics"
      ],
      "metadata": {
        "colab": {
          "base_uri": "https://localhost:8080/"
        },
        "id": "xuKgh9PsqvbB",
        "outputId": "a4c4b7df-f78a-4159-97d8-cb39f4381a2b"
      },
      "execution_count": 167,
      "outputs": [
        {
          "output_type": "stream",
          "name": "stdout",
          "text": [
            "Collecting torchmetrics\n",
            "  Downloading torchmetrics-1.6.2-py3-none-any.whl.metadata (20 kB)\n",
            "Requirement already satisfied: numpy>1.20.0 in /usr/local/lib/python3.11/dist-packages (from torchmetrics) (1.26.4)\n",
            "Requirement already satisfied: packaging>17.1 in /usr/local/lib/python3.11/dist-packages (from torchmetrics) (24.2)\n",
            "Requirement already satisfied: torch>=2.0.0 in /usr/local/lib/python3.11/dist-packages (from torchmetrics) (2.5.1+cu124)\n",
            "Collecting lightning-utilities>=0.8.0 (from torchmetrics)\n",
            "  Downloading lightning_utilities-0.14.0-py3-none-any.whl.metadata (5.6 kB)\n",
            "Requirement already satisfied: setuptools in /usr/local/lib/python3.11/dist-packages (from lightning-utilities>=0.8.0->torchmetrics) (75.1.0)\n",
            "Requirement already satisfied: typing_extensions in /usr/local/lib/python3.11/dist-packages (from lightning-utilities>=0.8.0->torchmetrics) (4.12.2)\n",
            "Requirement already satisfied: filelock in /usr/local/lib/python3.11/dist-packages (from torch>=2.0.0->torchmetrics) (3.17.0)\n",
            "Requirement already satisfied: networkx in /usr/local/lib/python3.11/dist-packages (from torch>=2.0.0->torchmetrics) (3.4.2)\n",
            "Requirement already satisfied: jinja2 in /usr/local/lib/python3.11/dist-packages (from torch>=2.0.0->torchmetrics) (3.1.5)\n",
            "Requirement already satisfied: fsspec in /usr/local/lib/python3.11/dist-packages (from torch>=2.0.0->torchmetrics) (2024.10.0)\n",
            "Collecting nvidia-cuda-nvrtc-cu12==12.4.127 (from torch>=2.0.0->torchmetrics)\n",
            "  Downloading nvidia_cuda_nvrtc_cu12-12.4.127-py3-none-manylinux2014_x86_64.whl.metadata (1.5 kB)\n",
            "Collecting nvidia-cuda-runtime-cu12==12.4.127 (from torch>=2.0.0->torchmetrics)\n",
            "  Downloading nvidia_cuda_runtime_cu12-12.4.127-py3-none-manylinux2014_x86_64.whl.metadata (1.5 kB)\n",
            "Collecting nvidia-cuda-cupti-cu12==12.4.127 (from torch>=2.0.0->torchmetrics)\n",
            "  Downloading nvidia_cuda_cupti_cu12-12.4.127-py3-none-manylinux2014_x86_64.whl.metadata (1.6 kB)\n",
            "Collecting nvidia-cudnn-cu12==9.1.0.70 (from torch>=2.0.0->torchmetrics)\n",
            "  Downloading nvidia_cudnn_cu12-9.1.0.70-py3-none-manylinux2014_x86_64.whl.metadata (1.6 kB)\n",
            "Collecting nvidia-cublas-cu12==12.4.5.8 (from torch>=2.0.0->torchmetrics)\n",
            "  Downloading nvidia_cublas_cu12-12.4.5.8-py3-none-manylinux2014_x86_64.whl.metadata (1.5 kB)\n",
            "Collecting nvidia-cufft-cu12==11.2.1.3 (from torch>=2.0.0->torchmetrics)\n",
            "  Downloading nvidia_cufft_cu12-11.2.1.3-py3-none-manylinux2014_x86_64.whl.metadata (1.5 kB)\n",
            "Collecting nvidia-curand-cu12==10.3.5.147 (from torch>=2.0.0->torchmetrics)\n",
            "  Downloading nvidia_curand_cu12-10.3.5.147-py3-none-manylinux2014_x86_64.whl.metadata (1.5 kB)\n",
            "Collecting nvidia-cusolver-cu12==11.6.1.9 (from torch>=2.0.0->torchmetrics)\n",
            "  Downloading nvidia_cusolver_cu12-11.6.1.9-py3-none-manylinux2014_x86_64.whl.metadata (1.6 kB)\n",
            "Collecting nvidia-cusparse-cu12==12.3.1.170 (from torch>=2.0.0->torchmetrics)\n",
            "  Downloading nvidia_cusparse_cu12-12.3.1.170-py3-none-manylinux2014_x86_64.whl.metadata (1.6 kB)\n",
            "Requirement already satisfied: nvidia-nccl-cu12==2.21.5 in /usr/local/lib/python3.11/dist-packages (from torch>=2.0.0->torchmetrics) (2.21.5)\n",
            "Requirement already satisfied: nvidia-nvtx-cu12==12.4.127 in /usr/local/lib/python3.11/dist-packages (from torch>=2.0.0->torchmetrics) (12.4.127)\n",
            "Collecting nvidia-nvjitlink-cu12==12.4.127 (from torch>=2.0.0->torchmetrics)\n",
            "  Downloading nvidia_nvjitlink_cu12-12.4.127-py3-none-manylinux2014_x86_64.whl.metadata (1.5 kB)\n",
            "Requirement already satisfied: triton==3.1.0 in /usr/local/lib/python3.11/dist-packages (from torch>=2.0.0->torchmetrics) (3.1.0)\n",
            "Requirement already satisfied: sympy==1.13.1 in /usr/local/lib/python3.11/dist-packages (from torch>=2.0.0->torchmetrics) (1.13.1)\n",
            "Requirement already satisfied: mpmath<1.4,>=1.1.0 in /usr/local/lib/python3.11/dist-packages (from sympy==1.13.1->torch>=2.0.0->torchmetrics) (1.3.0)\n",
            "Requirement already satisfied: MarkupSafe>=2.0 in /usr/local/lib/python3.11/dist-packages (from jinja2->torch>=2.0.0->torchmetrics) (3.0.2)\n",
            "Downloading torchmetrics-1.6.2-py3-none-any.whl (931 kB)\n",
            "\u001b[2K   \u001b[90m━━━━━━━━━━━━━━━━━━━━━━━━━━━━━━━━━━━━━━━━\u001b[0m \u001b[32m931.6/931.6 kB\u001b[0m \u001b[31m50.6 MB/s\u001b[0m eta \u001b[36m0:00:00\u001b[0m\n",
            "\u001b[?25hDownloading lightning_utilities-0.14.0-py3-none-any.whl (28 kB)\n",
            "Downloading nvidia_cublas_cu12-12.4.5.8-py3-none-manylinux2014_x86_64.whl (363.4 MB)\n",
            "\u001b[2K   \u001b[90m━━━━━━━━━━━━━━━━━━━━━━━━━━━━━━━━━━━━━━━━\u001b[0m \u001b[32m363.4/363.4 MB\u001b[0m \u001b[31m2.0 MB/s\u001b[0m eta \u001b[36m0:00:00\u001b[0m\n",
            "\u001b[?25hDownloading nvidia_cuda_cupti_cu12-12.4.127-py3-none-manylinux2014_x86_64.whl (13.8 MB)\n",
            "\u001b[2K   \u001b[90m━━━━━━━━━━━━━━━━━━━━━━━━━━━━━━━━━━━━━━━━\u001b[0m \u001b[32m13.8/13.8 MB\u001b[0m \u001b[31m65.5 MB/s\u001b[0m eta \u001b[36m0:00:00\u001b[0m\n",
            "\u001b[?25hDownloading nvidia_cuda_nvrtc_cu12-12.4.127-py3-none-manylinux2014_x86_64.whl (24.6 MB)\n",
            "\u001b[2K   \u001b[90m━━━━━━━━━━━━━━━━━━━━━━━━━━━━━━━━━━━━━━━━\u001b[0m \u001b[32m24.6/24.6 MB\u001b[0m \u001b[31m80.9 MB/s\u001b[0m eta \u001b[36m0:00:00\u001b[0m\n",
            "\u001b[?25hDownloading nvidia_cuda_runtime_cu12-12.4.127-py3-none-manylinux2014_x86_64.whl (883 kB)\n",
            "\u001b[2K   \u001b[90m━━━━━━━━━━━━━━━━━━━━━━━━━━━━━━━━━━━━━━━━\u001b[0m \u001b[32m883.7/883.7 kB\u001b[0m \u001b[31m55.4 MB/s\u001b[0m eta \u001b[36m0:00:00\u001b[0m\n",
            "\u001b[?25hDownloading nvidia_cudnn_cu12-9.1.0.70-py3-none-manylinux2014_x86_64.whl (664.8 MB)\n",
            "\u001b[2K   \u001b[90m━━━━━━━━━━━━━━━━━━━━━━━━━━━━━━━━━━━━━━━━\u001b[0m \u001b[32m664.8/664.8 MB\u001b[0m \u001b[31m1.0 MB/s\u001b[0m eta \u001b[36m0:00:00\u001b[0m\n",
            "\u001b[?25hDownloading nvidia_cufft_cu12-11.2.1.3-py3-none-manylinux2014_x86_64.whl (211.5 MB)\n",
            "\u001b[2K   \u001b[90m━━━━━━━━━━━━━━━━━━━━━━━━━━━━━━━━━━━━━━━━\u001b[0m \u001b[32m211.5/211.5 MB\u001b[0m \u001b[31m6.1 MB/s\u001b[0m eta \u001b[36m0:00:00\u001b[0m\n",
            "\u001b[?25hDownloading nvidia_curand_cu12-10.3.5.147-py3-none-manylinux2014_x86_64.whl (56.3 MB)\n",
            "\u001b[2K   \u001b[90m━━━━━━━━━━━━━━━━━━━━━━━━━━━━━━━━━━━━━━━━\u001b[0m \u001b[32m56.3/56.3 MB\u001b[0m \u001b[31m14.6 MB/s\u001b[0m eta \u001b[36m0:00:00\u001b[0m\n",
            "\u001b[?25hDownloading nvidia_cusolver_cu12-11.6.1.9-py3-none-manylinux2014_x86_64.whl (127.9 MB)\n",
            "\u001b[2K   \u001b[90m━━━━━━━━━━━━━━━━━━━━━━━━━━━━━━━━━━━━━━━━\u001b[0m \u001b[32m127.9/127.9 MB\u001b[0m \u001b[31m7.5 MB/s\u001b[0m eta \u001b[36m0:00:00\u001b[0m\n",
            "\u001b[?25hDownloading nvidia_cusparse_cu12-12.3.1.170-py3-none-manylinux2014_x86_64.whl (207.5 MB)\n",
            "\u001b[2K   \u001b[90m━━━━━━━━━━━━━━━━━━━━━━━━━━━━━━━━━━━━━━━━\u001b[0m \u001b[32m207.5/207.5 MB\u001b[0m \u001b[31m5.6 MB/s\u001b[0m eta \u001b[36m0:00:00\u001b[0m\n",
            "\u001b[?25hDownloading nvidia_nvjitlink_cu12-12.4.127-py3-none-manylinux2014_x86_64.whl (21.1 MB)\n",
            "\u001b[2K   \u001b[90m━━━━━━━━━━━━━━━━━━━━━━━━━━━━━━━━━━━━━━━━\u001b[0m \u001b[32m21.1/21.1 MB\u001b[0m \u001b[31m91.7 MB/s\u001b[0m eta \u001b[36m0:00:00\u001b[0m\n",
            "\u001b[?25hInstalling collected packages: nvidia-nvjitlink-cu12, nvidia-curand-cu12, nvidia-cufft-cu12, nvidia-cuda-runtime-cu12, nvidia-cuda-nvrtc-cu12, nvidia-cuda-cupti-cu12, nvidia-cublas-cu12, lightning-utilities, nvidia-cusparse-cu12, nvidia-cudnn-cu12, nvidia-cusolver-cu12, torchmetrics\n",
            "  Attempting uninstall: nvidia-nvjitlink-cu12\n",
            "    Found existing installation: nvidia-nvjitlink-cu12 12.5.82\n",
            "    Uninstalling nvidia-nvjitlink-cu12-12.5.82:\n",
            "      Successfully uninstalled nvidia-nvjitlink-cu12-12.5.82\n",
            "  Attempting uninstall: nvidia-curand-cu12\n",
            "    Found existing installation: nvidia-curand-cu12 10.3.6.82\n",
            "    Uninstalling nvidia-curand-cu12-10.3.6.82:\n",
            "      Successfully uninstalled nvidia-curand-cu12-10.3.6.82\n",
            "  Attempting uninstall: nvidia-cufft-cu12\n",
            "    Found existing installation: nvidia-cufft-cu12 11.2.3.61\n",
            "    Uninstalling nvidia-cufft-cu12-11.2.3.61:\n",
            "      Successfully uninstalled nvidia-cufft-cu12-11.2.3.61\n",
            "  Attempting uninstall: nvidia-cuda-runtime-cu12\n",
            "    Found existing installation: nvidia-cuda-runtime-cu12 12.5.82\n",
            "    Uninstalling nvidia-cuda-runtime-cu12-12.5.82:\n",
            "      Successfully uninstalled nvidia-cuda-runtime-cu12-12.5.82\n",
            "  Attempting uninstall: nvidia-cuda-nvrtc-cu12\n",
            "    Found existing installation: nvidia-cuda-nvrtc-cu12 12.5.82\n",
            "    Uninstalling nvidia-cuda-nvrtc-cu12-12.5.82:\n",
            "      Successfully uninstalled nvidia-cuda-nvrtc-cu12-12.5.82\n",
            "  Attempting uninstall: nvidia-cuda-cupti-cu12\n",
            "    Found existing installation: nvidia-cuda-cupti-cu12 12.5.82\n",
            "    Uninstalling nvidia-cuda-cupti-cu12-12.5.82:\n",
            "      Successfully uninstalled nvidia-cuda-cupti-cu12-12.5.82\n",
            "  Attempting uninstall: nvidia-cublas-cu12\n",
            "    Found existing installation: nvidia-cublas-cu12 12.5.3.2\n",
            "    Uninstalling nvidia-cublas-cu12-12.5.3.2:\n",
            "      Successfully uninstalled nvidia-cublas-cu12-12.5.3.2\n",
            "  Attempting uninstall: nvidia-cusparse-cu12\n",
            "    Found existing installation: nvidia-cusparse-cu12 12.5.1.3\n",
            "    Uninstalling nvidia-cusparse-cu12-12.5.1.3:\n",
            "      Successfully uninstalled nvidia-cusparse-cu12-12.5.1.3\n",
            "  Attempting uninstall: nvidia-cudnn-cu12\n",
            "    Found existing installation: nvidia-cudnn-cu12 9.3.0.75\n",
            "    Uninstalling nvidia-cudnn-cu12-9.3.0.75:\n",
            "      Successfully uninstalled nvidia-cudnn-cu12-9.3.0.75\n",
            "  Attempting uninstall: nvidia-cusolver-cu12\n",
            "    Found existing installation: nvidia-cusolver-cu12 11.6.3.83\n",
            "    Uninstalling nvidia-cusolver-cu12-11.6.3.83:\n",
            "      Successfully uninstalled nvidia-cusolver-cu12-11.6.3.83\n",
            "Successfully installed lightning-utilities-0.14.0 nvidia-cublas-cu12-12.4.5.8 nvidia-cuda-cupti-cu12-12.4.127 nvidia-cuda-nvrtc-cu12-12.4.127 nvidia-cuda-runtime-cu12-12.4.127 nvidia-cudnn-cu12-9.1.0.70 nvidia-cufft-cu12-11.2.1.3 nvidia-curand-cu12-10.3.5.147 nvidia-cusolver-cu12-11.6.1.9 nvidia-cusparse-cu12-12.3.1.170 nvidia-nvjitlink-cu12-12.4.127 torchmetrics-1.6.2\n"
          ]
        }
      ]
    },
    {
      "cell_type": "code",
      "source": [
        "import mlxtend\n",
        "print(mlxtend.__version__)\n",
        "from mlxtend.plotting import plot_confusion_matrix\n",
        "from torchmetrics import ConfusionMatrix\n",
        "\n",
        "# Setup confusion instance and compare predictions to targets\n",
        "confuser = ConfusionMatrix(num_classes = len(class_names),\n",
        "                           task = \"multiclass\")\n",
        "confusion_tensor = confuser(preds = y_preds_tensor, target = test_data.targets)\n",
        "\n",
        "# Plot the confusion matrix\n",
        "fig, ax = plot_confusion_matrix(conf_mat = confusion_tensor.numpy(),\n",
        "                                class_names = class_names,\n",
        "                                figsize = (10, 7))\n",
        "plt.show()"
      ],
      "metadata": {
        "colab": {
          "base_uri": "https://localhost:8080/",
          "height": 684
        },
        "id": "yZx9egkaqXqh",
        "outputId": "4b20ce6d-b6a3-408f-ca1a-f2f2964b0304"
      },
      "execution_count": 172,
      "outputs": [
        {
          "output_type": "stream",
          "name": "stdout",
          "text": [
            "0.23.4\n"
          ]
        },
        {
          "output_type": "display_data",
          "data": {
            "text/plain": [
              "<Figure size 1000x700 with 1 Axes>"
            ],
            "image/png": "[encoded data removed]"
          },
          "metadata": {}
        }
      ]
    },
    {
      "cell_type": "code",
      "source": [
        "from sklearn.metrics import ConfusionMatrixDisplay\n",
        "disp = ConfusionMatrixDisplay(confusion_matrix = confusion_tensor.numpy(),\n",
        "                       display_labels = class_names)\n",
        "disp.plot()"
      ],
      "metadata": {
        "colab": {
          "base_uri": "https://localhost:8080/",
          "height": 466
        },
        "id": "KL3S92iNqjSs",
        "outputId": "a614019c-e2ee-456a-d35c-488f6acfdc9e"
      },
      "execution_count": 175,
      "outputs": [
        {
          "output_type": "execute_result",
          "data": {
            "text/plain": [
              "<sklearn.metrics._plot.confusion_matrix.ConfusionMatrixDisplay at 0x7e01ad13b1d0>"
            ]
          },
          "metadata": {},
          "execution_count": 175
        },
        {
          "output_type": "display_data",
          "data": {
            "text/plain": [
              "<Figure size 640x480 with 2 Axes>"
            ],
            "image/png": "[encoded data removed]"
          },
          "metadata": {}
        }
      ]
    },
    {
      "cell_type": "markdown",
      "source": [
        "# 11. Save and load best performing model"
      ],
      "metadata": {
        "id": "9Y4AD92LsJpI"
      }
    },
    {
      "cell_type": "code",
      "source": [
        "from pathlib import Path\n",
        "\n",
        "# Create model directory path\n",
        "MODEL_PATH = Path(\"models\")\n",
        "MODEL_PATH.mkdir(parents=True, exist_ok=True)\n",
        "\n",
        "# Create model save path\n",
        "MODEL_NAME = \"fashion_mnist_model_2.pth\"\n",
        "MODEL_SAVE_PATH = MODEL_PATH / MODEL_NAME\n",
        "\n",
        "# Save the model state dict\n",
        "print(f\"Saving the model to: {MODEL_SAVE_PATH}...\")\n",
        "torch.save(obj = model_2.state_dict(),\n",
        "           f = MODEL_SAVE_PATH)"
      ],
      "metadata": {
        "colab": {
          "base_uri": "https://localhost:8080/"
        },
        "id": "l3pH-Gw-sriV",
        "outputId": "770bd021-b8aa-4525-b2e0-9da7aeaee132"
      },
      "execution_count": 177,
      "outputs": [
        {
          "output_type": "stream",
          "name": "stdout",
          "text": [
            "Saving the model to: models/fashion_mnist_model_2.pth...\n"
          ]
        }
      ]
    },
    {
      "cell_type": "code",
      "source": [
        "# Create a new instance\n",
        "torch.manual_seed(42)\n",
        "\n",
        "loaded_model_2 = FashionMNISTModelV2(input_shape = 1,\n",
        "                                     hidden_units = 10,\n",
        "                                     output_shape = len(class_names))\n",
        "\n",
        "# Load in the save state_dict()\n",
        "loaded_model_2.load_state_dict(state_dict = torch.load(MODEL_SAVE_PATH))\n",
        "\n",
        "# Send the model to the target device\n",
        "loaded_model_2.to(device)"
      ],
      "metadata": {
        "colab": {
          "base_uri": "https://localhost:8080/"
        },
        "id": "aXBZh935s15k",
        "outputId": "5c44477d-726b-4c80-cc2c-d8e3903d3ac2"
      },
      "execution_count": 179,
      "outputs": [
        {
          "output_type": "stream",
          "name": "stderr",
          "text": [
            "<ipython-input-179-99e11fc57602>:9: FutureWarning: You are using `torch.load` with `weights_only=False` (the current default value), which uses the default pickle module implicitly. It is possible to construct malicious pickle data which will execute arbitrary code during unpickling (See https://github.com/pytorch/pytorch/blob/main/SECURITY.md#untrusted-models for more details). In a future release, the default value for `weights_only` will be flipped to `True`. This limits the functions that could be executed during unpickling. Arbitrary objects will no longer be allowed to be loaded via this mode unless they are explicitly allowlisted by the user via `torch.serialization.add_safe_globals`. We recommend you start setting `weights_only=True` for any use case where you don't have full control of the loaded file. Please open an issue on GitHub for any issues related to this experimental feature.\n",
            "  loaded_model_2.load_state_dict(state_dict = torch.load(MODEL_SAVE_PATH))\n"
          ]
        },
        {
          "output_type": "execute_result",
          "data": {
            "text/plain": [
              "FashionMNISTModelV2(\n",
              "  (conv_block_1): Sequential(\n",
              "    (0): Conv2d(1, 10, kernel_size=(3, 3), stride=(1, 1), padding=(1, 1))\n",
              "    (1): ReLU()\n",
              "    (2): Conv2d(10, 10, kernel_size=(3, 3), stride=(1, 1), padding=(1, 1))\n",
              "    (3): ReLU()\n",
              "    (4): MaxPool2d(kernel_size=(2, 2), stride=(2, 2), padding=0, dilation=1, ceil_mode=False)\n",
              "  )\n",
              "  (conv_block_2): Sequential(\n",
              "    (0): Conv2d(10, 10, kernel_size=(3, 3), stride=(1, 1), padding=(1, 1))\n",
              "    (1): ReLU()\n",
              "    (2): Conv2d(10, 10, kernel_size=(3, 3), stride=(1, 1), padding=(1, 1))\n",
              "    (3): ReLU()\n",
              "    (4): MaxPool2d(kernel_size=(2, 2), stride=(2, 2), padding=0, dilation=1, ceil_mode=False)\n",
              "  )\n",
              "  (classifier): Sequential(\n",
              "    (0): Flatten(start_dim=1, end_dim=-1)\n",
              "    (1): Linear(in_features=490, out_features=10, bias=True)\n",
              "  )\n",
              ")"
            ]
          },
          "metadata": {},
          "execution_count": 179
        }
      ]
    },
    {
      "cell_type": "code",
      "source": [
        "model_2_results"
      ],
      "metadata": {
        "colab": {
          "base_uri": "https://localhost:8080/"
        },
        "id": "C4AUDvIEtYo1",
        "outputId": "17ef7896-9c30-4757-8398-99a9884ee11c"
      },
      "execution_count": 180,
      "outputs": [
        {
          "output_type": "execute_result",
          "data": {
            "text/plain": [
              "{'model_name': 'FashionMNISTModelV2',\n",
              " 'loss': 0.3333948850631714,\n",
              " 'acc': 88.01916932907348}"
            ]
          },
          "metadata": {},
          "execution_count": 180
        }
      ]
    },
    {
      "cell_type": "code",
      "source": [
        "# Evaluate loaded model\n",
        "torch.manual_seed(42)\n",
        "\n",
        "loaded_model_2_results = eval_model(\n",
        "    model = loaded_model_2,\n",
        "    data_loader = test_dataloader,\n",
        "    loss_fn = loss_fn,\n",
        "    accuracy_fn = accuracy_fn,\n",
        "    device = device\n",
        ")\n",
        "loaded_model_2_results"
      ],
      "metadata": {
        "colab": {
          "base_uri": "https://localhost:8080/"
        },
        "id": "HCmUGXrVtf_C",
        "outputId": "f637fda9-c12c-4d75-9bdc-1a8c5a8444a2"
      },
      "execution_count": 183,
      "outputs": [
        {
          "output_type": "execute_result",
          "data": {
            "text/plain": [
              "{'model_name': 'FashionMNISTModelV2',\n",
              " 'loss': 0.3333948850631714,\n",
              " 'acc': 88.01916932907348}"
            ]
          },
          "metadata": {},
          "execution_count": 183
        }
      ]
    },
    {
      "cell_type": "code",
      "source": [
        "# Check if model results are close to each other\n",
        "torch.isclose(torch.tensor(model_2_results[\"loss\"]),\n",
        "              torch.tensor(loaded_model_2_results[\"loss\"]),\n",
        "              atol=1e-3)"
      ],
      "metadata": {
        "colab": {
          "base_uri": "https://localhost:8080/"
        },
        "id": "XmuPzLuvtnFl",
        "outputId": "873cf422-cddb-407d-d2c7-55a1a756f5db"
      },
      "execution_count": 188,
      "outputs": [
        {
          "output_type": "execute_result",
          "data": {
            "text/plain": [
              "tensor(True)"
            ]
          },
          "metadata": {},
          "execution_count": 188
        }
      ]
    }
  ]
}